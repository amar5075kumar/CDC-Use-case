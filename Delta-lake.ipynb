{
 "cells": [
  {
   "cell_type": "code",
   "execution_count": 1,
   "id": "061638a6",
   "metadata": {},
   "outputs": [
    {
     "name": "stdout",
     "output_type": "stream",
     "text": [
      "Starting Spark application\n"
     ]
    },
    {
     "data": {
      "text/html": [
       "<table>\n",
       "<tr><th>ID</th><th>YARN Application ID</th><th>Kind</th><th>State</th><th>Spark UI</th><th>Driver log</th><th>User</th><th>Current session?</th></tr><tr><td>17</td><td>application_1684389228849_0027</td><td>pyspark</td><td>idle</td><td><a target=\"_blank\" href=\"http://ip-172-31-7-28.ec2.internal:20888/proxy/application_1684389228849_0027/\">Link</a></td><td><a target=\"_blank\" href=\"http://ip-172-31-6-166.ec2.internal:8042/node/containerlogs/container_1684389228849_0027_01_000001/livy\">Link</a></td><td>None</td><td>✔</td></tr></table>"
      ],
      "text/plain": [
       "<IPython.core.display.HTML object>"
      ]
     },
     "metadata": {},
     "output_type": "display_data"
    },
    {
     "data": {
      "application/vnd.jupyter.widget-view+json": {
       "model_id": "",
       "version_major": 2,
       "version_minor": 0
      },
      "text/plain": [
       "FloatProgress(value=0.0, bar_style='info', description='Progress:', layout=Layout(height='25px', width='50%'),…"
      ]
     },
     "metadata": {},
     "output_type": "display_data"
    },
    {
     "name": "stdout",
     "output_type": "stream",
     "text": [
      "SparkSession available as 'spark'.\n"
     ]
    },
    {
     "data": {
      "application/vnd.jupyter.widget-view+json": {
       "model_id": "",
       "version_major": 2,
       "version_minor": 0
      },
      "text/plain": [
       "FloatProgress(value=0.0, bar_style='info', description='Progress:', layout=Layout(height='25px', width='50%'),…"
      ]
     },
     "metadata": {},
     "output_type": "display_data"
    },
    {
     "name": "stdout",
     "output_type": "stream",
     "text": [
      "<pyspark.sql.session.SparkSession object at 0x7f71aa9b6d10>"
     ]
    }
   ],
   "source": [
    "spark"
   ]
  },
  {
   "cell_type": "code",
   "execution_count": 2,
   "id": "4dbd798e",
   "metadata": {},
   "outputs": [
    {
     "name": "stdout",
     "output_type": "stream",
     "text": [
      "Starting Spark application\n"
     ]
    },
    {
     "data": {
      "text/html": [
       "<table>\n",
       "<tr><th>ID</th><th>YARN Application ID</th><th>Kind</th><th>State</th><th>Spark UI</th><th>Driver log</th><th>User</th><th>Current session?</th></tr><tr><td>18</td><td>application_1684389228849_0028</td><td>pyspark</td><td>idle</td><td><a target=\"_blank\" href=\"http://ip-172-31-7-28.ec2.internal:20888/proxy/application_1684389228849_0028/\">Link</a></td><td><a target=\"_blank\" href=\"http://ip-172-31-6-166.ec2.internal:8042/node/containerlogs/container_1684389228849_0028_01_000001/livy\">Link</a></td><td>None</td><td>✔</td></tr></table>"
      ],
      "text/plain": [
       "<IPython.core.display.HTML object>"
      ]
     },
     "metadata": {},
     "output_type": "display_data"
    },
    {
     "data": {
      "application/vnd.jupyter.widget-view+json": {
       "model_id": "",
       "version_major": 2,
       "version_minor": 0
      },
      "text/plain": [
       "FloatProgress(value=0.0, bar_style='info', description='Progress:', layout=Layout(height='25px', width='50%'),…"
      ]
     },
     "metadata": {},
     "output_type": "display_data"
    },
    {
     "name": "stdout",
     "output_type": "stream",
     "text": [
      "SparkSession available as 'spark'.\n"
     ]
    },
    {
     "data": {
      "text/html": [
       "Current session configs: <tt>{'conf': {'spark.sql.extensions': 'io.delta.sql.DeltaSparkSessionExtension', 'spark.sql.catalog.spark_catalog': 'org.apache.spark.sql.delta.catalog.DeltaCatalog', 'spark.jars': 'hdfs:///apps/delta/lib/delta-core_2.12-2.0.0.jar', 'spark.jars.packages': 'io.delta:delta-core_2.12:2.0.0'}, 'proxyUser': 'jovyan', 'kind': 'pyspark'}</tt><br>"
      ],
      "text/plain": [
       "<IPython.core.display.HTML object>"
      ]
     },
     "metadata": {},
     "output_type": "display_data"
    },
    {
     "data": {
      "text/html": [
       "<table>\n",
       "<tr><th>ID</th><th>YARN Application ID</th><th>Kind</th><th>State</th><th>Spark UI</th><th>Driver log</th><th>User</th><th>Current session?</th></tr><tr><td>18</td><td>application_1684389228849_0028</td><td>pyspark</td><td>idle</td><td><a target=\"_blank\" href=\"http://ip-172-31-7-28.ec2.internal:20888/proxy/application_1684389228849_0028/\">Link</a></td><td><a target=\"_blank\" href=\"http://ip-172-31-6-166.ec2.internal:8042/node/containerlogs/container_1684389228849_0028_01_000001/livy\">Link</a></td><td>None</td><td>✔</td></tr></table>"
      ],
      "text/plain": [
       "<IPython.core.display.HTML object>"
      ]
     },
     "metadata": {},
     "output_type": "display_data"
    }
   ],
   "source": [
    "%%configure -f\n",
    "{\n",
    "  \"conf\": {\n",
    "    \"spark.sql.extensions\":  \"io.delta.sql.DeltaSparkSessionExtension\",\n",
    "     \"spark.sql.catalog.spark_catalog\":  \"org.apache.spark.sql.delta.catalog.DeltaCatalog\",\n",
    "      \"spark.jars\":\"hdfs:///apps/delta/lib/delta-core_2.12-2.0.0.jar\",\n",
    "      \"spark.jars.packages\": \"io.delta:delta-core_2.12:2.0.0\"\n",
    "  }\n",
    "}"
   ]
  },
  {
   "cell_type": "code",
   "execution_count": 3,
   "id": "58749bb1",
   "metadata": {},
   "outputs": [
    {
     "data": {
      "application/vnd.jupyter.widget-view+json": {
       "model_id": "",
       "version_major": 2,
       "version_minor": 0
      },
      "text/plain": [
       "FloatProgress(value=0.0, bar_style='info', description='Progress:', layout=Layout(height='25px', width='50%'),…"
      ]
     },
     "metadata": {},
     "output_type": "display_data"
    }
   ],
   "source": [
    "from pyspark.sql import SparkSession"
   ]
  },
  {
   "cell_type": "code",
   "execution_count": 4,
   "id": "1b079177",
   "metadata": {},
   "outputs": [
    {
     "data": {
      "application/vnd.jupyter.widget-view+json": {
       "model_id": "",
       "version_major": 2,
       "version_minor": 0
      },
      "text/plain": [
       "FloatProgress(value=0.0, bar_style='info', description='Progress:', layout=Layout(height='25px', width='50%'),…"
      ]
     },
     "metadata": {},
     "output_type": "display_data"
    }
   ],
   "source": [
    "# import pyspark\n",
    "\n",
    "\n",
    "# builder = pyspark.sql.SparkSession.builder.appName(\"Delta_App\") \\\n",
    "#     .config(\"spark.sql.extensions\", \"io.delta.sql.DeltaSparkSessionExtension\") \\\n",
    "#     .config(\"spark.sql.catalog.spark_catalog\", \"org.apache.spark.sql.delta.catalog.DeltaCatalog\")\n",
    "\n",
    "# spark = configure_spark_with_delta_pip(builder).getOrCreate()"
   ]
  },
  {
   "cell_type": "code",
   "execution_count": 5,
   "id": "2c21ec31",
   "metadata": {},
   "outputs": [
    {
     "data": {
      "application/vnd.jupyter.widget-view+json": {
       "model_id": "",
       "version_major": 2,
       "version_minor": 0
      },
      "text/plain": [
       "FloatProgress(value=0.0, bar_style='info', description='Progress:', layout=Layout(height='25px', width='50%'),…"
      ]
     },
     "metadata": {},
     "output_type": "display_data"
    }
   ],
   "source": [
    "# spark = SparkSession.builder \\\n",
    "#     .appName(\"DeltaLake\") \\\n",
    "#     .config(\"spark.jars.packages\", \"io.delta:delta-core_2.12:2.2.0\") \\\n",
    "#     .getOrCreate()"
   ]
  },
  {
   "cell_type": "code",
   "execution_count": 6,
   "id": "d2a0ecb6",
   "metadata": {},
   "outputs": [
    {
     "data": {
      "application/vnd.jupyter.widget-view+json": {
       "model_id": "",
       "version_major": 2,
       "version_minor": 0
      },
      "text/plain": [
       "FloatProgress(value=0.0, bar_style='info', description='Progress:', layout=Layout(height='25px', width='50%'),…"
      ]
     },
     "metadata": {},
     "output_type": "display_data"
    }
   ],
   "source": [
    "# %pip install delta-spark==1.1.0"
   ]
  },
  {
   "cell_type": "code",
   "execution_count": 9,
   "id": "574d6c81",
   "metadata": {},
   "outputs": [
    {
     "data": {
      "application/vnd.jupyter.widget-view+json": {
       "model_id": "",
       "version_major": 2,
       "version_minor": 0
      },
      "text/plain": [
       "FloatProgress(value=0.0, bar_style='info', description='Progress:', layout=Layout(height='25px', width='50%'),…"
      ]
     },
     "metadata": {},
     "output_type": "display_data"
    }
   ],
   "source": [
    "# %pip show delta-spark"
   ]
  },
  {
   "cell_type": "code",
   "execution_count": 8,
   "id": "dc94987a",
   "metadata": {},
   "outputs": [
    {
     "data": {
      "application/vnd.jupyter.widget-view+json": {
       "model_id": "",
       "version_major": 2,
       "version_minor": 0
      },
      "text/plain": [
       "FloatProgress(value=0.0, bar_style='info', description='Progress:', layout=Layout(height='25px', width='50%'),…"
      ]
     },
     "metadata": {},
     "output_type": "display_data"
    }
   ],
   "source": [
    "from delta.tables import *\n",
    "from pyspark.sql.functions import *"
   ]
  },
  {
   "cell_type": "code",
   "execution_count": 10,
   "id": "fb9edd7c",
   "metadata": {},
   "outputs": [
    {
     "data": {
      "application/vnd.jupyter.widget-view+json": {
       "model_id": "",
       "version_major": 2,
       "version_minor": 0
      },
      "text/plain": [
       "FloatProgress(value=0.0, bar_style='info', description='Progress:', layout=Layout(height='25px', width='50%'),…"
      ]
     },
     "metadata": {},
     "output_type": "display_data"
    }
   ],
   "source": [
    "# Generate Dummy Dataset for testing\n",
    "\n",
    "from datetime import datetime\n",
    "dest = [\"Seattle\", \"New York\", \"New Jersey\", \"Los Angeles\", \"Las Vegas\", \"Tucson\",\"Washington DC\",\"Philadelphia\",\"Miami\",\"San Francisco\"]\n",
    "def get_json_data(start, count, dest):\n",
    "    time_stamp = datetime.now().strftime('%Y-%m-%d %H:%M:%S.%f')[:-3]\n",
    "    data = [{\"trip_id\": i, \"ts\": time_stamp, \"route_id\": chr(65 + (i % 10)), \"destination\": dest[i%10]} for i in range(start, start + count)]\n",
    "    return data"
   ]
  },
  {
   "cell_type": "code",
   "execution_count": 11,
   "id": "a01afa82",
   "metadata": {},
   "outputs": [
    {
     "data": {
      "application/vnd.jupyter.widget-view+json": {
       "model_id": "",
       "version_major": 2,
       "version_minor": 0
      },
      "text/plain": [
       "FloatProgress(value=0.0, bar_style='info', description='Progress:', layout=Layout(height='25px', width='50%'),…"
      ]
     },
     "metadata": {},
     "output_type": "display_data"
    }
   ],
   "source": [
    "#Create a spark dataframe\n",
    "def create_json_df(spark, data):\n",
    "    sc = spark.sparkContext\n",
    "    return spark.read.json(sc.parallelize(data))"
   ]
  },
  {
   "cell_type": "code",
   "execution_count": 12,
   "id": "300006f1",
   "metadata": {},
   "outputs": [
    {
     "data": {
      "application/vnd.jupyter.widget-view+json": {
       "model_id": "",
       "version_major": 2,
       "version_minor": 0
      },
      "text/plain": [
       "FloatProgress(value=0.0, bar_style='info', description='Progress:', layout=Layout(height='25px', width='50%'),…"
      ]
     },
     "metadata": {},
     "output_type": "display_data"
    }
   ],
   "source": [
    "config = {\n",
    "    \"table_name\": \"delta_trips_table\",\n",
    "    \"target\": \"s3://emrpocgigaforce/Output/delta_lake_data/delta_table/\",\n",
    "    \"primary_key\": \"trip_id\"\n",
    "}"
   ]
  },
  {
   "cell_type": "code",
   "execution_count": 13,
   "id": "c1ea5217",
   "metadata": {},
   "outputs": [
    {
     "data": {
      "application/vnd.jupyter.widget-view+json": {
       "model_id": "",
       "version_major": 2,
       "version_minor": 0
      },
      "text/plain": [
       "FloatProgress(value=0.0, bar_style='info', description='Progress:', layout=Layout(height='25px', width='50%'),…"
      ]
     },
     "metadata": {},
     "output_type": "display_data"
    },
    {
     "name": "stdout",
     "output_type": "stream",
     "text": [
      "generate_duration: 30.23 sec"
     ]
    }
   ],
   "source": [
    "#Generating dataset of large size\n",
    "import time\n",
    "start_time=time.time()\n",
    "df = create_json_df(spark, get_json_data(0, 2000000, dest))\n",
    "end_time=time.time()\n",
    "load_duration=end_time-start_time\n",
    "print(\"generate_duration: {:.2f} sec\".format(load_duration))"
   ]
  },
  {
   "cell_type": "code",
   "execution_count": 14,
   "id": "1fd4f461",
   "metadata": {},
   "outputs": [
    {
     "data": {
      "application/vnd.jupyter.widget-view+json": {
       "model_id": "",
       "version_major": 2,
       "version_minor": 0
      },
      "text/plain": [
       "FloatProgress(value=0.0, bar_style='info', description='Progress:', layout=Layout(height='25px', width='50%'),…"
      ]
     },
     "metadata": {},
     "output_type": "display_data"
    }
   ],
   "source": [
    "# Checking the memory \n",
    "from pyspark.serializers import PickleSerializer, AutoBatchedSerializer\n",
    "def _to_java_object_rdd(rdd):  \n",
    "    \"\"\" Return a JavaRDD of Object by unpickling\n",
    "    It will convert each Python object into Java object by Pyrolite, whenever the\n",
    "    RDD is serialized in batch or not.\n",
    "    \"\"\"\n",
    "    rdd = rdd._reserialize(AutoBatchedSerializer(PickleSerializer()))\n",
    "    return rdd.ctx._jvm.org.apache.spark.mllib.api.python.SerDe.pythonToJava(rdd._jrdd, True)"
   ]
  },
  {
   "cell_type": "code",
   "execution_count": 15,
   "id": "168a13ad",
   "metadata": {},
   "outputs": [
    {
     "data": {
      "application/vnd.jupyter.widget-view+json": {
       "model_id": "",
       "version_major": 2,
       "version_minor": 0
      },
      "text/plain": [
       "FloatProgress(value=0.0, bar_style='info', description='Progress:', layout=Layout(height='25px', width='50%'),…"
      ]
     },
     "metadata": {},
     "output_type": "display_data"
    },
    {
     "name": "stdout",
     "output_type": "stream",
     "text": [
      "Memory usage of DataFrame: 87.22 MB"
     ]
    }
   ],
   "source": [
    "JavaObj = _to_java_object_rdd(df.rdd)\n",
    "nbytes = sc._jvm.org.apache.spark.util.SizeEstimator.estimate(JavaObj)\n",
    "print(\"Memory usage of DataFrame: {:.2f} MB\".format(nbytes/1000000))"
   ]
  },
  {
   "cell_type": "code",
   "execution_count": 18,
   "id": "26214d7c",
   "metadata": {},
   "outputs": [
    {
     "data": {
      "application/vnd.jupyter.widget-view+json": {
       "model_id": "",
       "version_major": 2,
       "version_minor": 0
      },
      "text/plain": [
       "FloatProgress(value=0.0, bar_style='info', description='Progress:', layout=Layout(height='25px', width='50%'),…"
      ]
     },
     "metadata": {},
     "output_type": "display_data"
    },
    {
     "name": "stdout",
     "output_type": "stream",
     "text": [
      "write_duration: 44.36 sec"
     ]
    }
   ],
   "source": [
    "# Write the data in S3 \n",
    "start_time=time.time()\n",
    "df.write.mode(\"overwrite\").format(\"delta\").save(config['target'])\n",
    "end_time=time.time()\n",
    "write_duration=end_time-start_time\n",
    "print(\"write_duration: {:.2f} sec\".format(write_duration))"
   ]
  },
  {
   "cell_type": "code",
   "execution_count": 19,
   "id": "86a7b25c",
   "metadata": {},
   "outputs": [
    {
     "data": {
      "application/vnd.jupyter.widget-view+json": {
       "model_id": "",
       "version_major": 2,
       "version_minor": 0
      },
      "text/plain": [
       "FloatProgress(value=0.0, bar_style='info', description='Progress:', layout=Layout(height='25px', width='50%'),…"
      ]
     },
     "metadata": {},
     "output_type": "display_data"
    }
   ],
   "source": [
    "#  set the table location in Spark config, which allows you to read the data using SQL format\n",
    "spark.conf.set('table.location', config['target'])"
   ]
  },
  {
   "cell_type": "code",
   "execution_count": 20,
   "id": "0b763b66",
   "metadata": {},
   "outputs": [
    {
     "data": {
      "application/vnd.jupyter.widget-view+json": {
       "model_id": "",
       "version_major": 2,
       "version_minor": 0
      },
      "text/plain": [
       "FloatProgress(value=0.0, bar_style='info', description='Progress:', layout=Layout(height='25px', width='50%'),…"
      ]
     },
     "metadata": {},
     "output_type": "display_data"
    },
    {
     "name": "stdout",
     "output_type": "stream",
     "text": [
      "write_duration: 0.19 sec"
     ]
    }
   ],
   "source": [
    "# Read the data from Loaction\n",
    "start_time=time.time()\n",
    "df_delta = spark.read.format(\"delta\").load(config['target'])\n",
    "end_time=time.time()\n",
    "read_duration=end_time-start_time\n",
    "print(\"write_duration: {:.2f} sec\".format(read_duration))"
   ]
  },
  {
   "cell_type": "code",
   "execution_count": 22,
   "id": "247c4f8c",
   "metadata": {},
   "outputs": [
    {
     "data": {
      "application/vnd.jupyter.widget-view+json": {
       "model_id": "",
       "version_major": 2,
       "version_minor": 0
      },
      "text/plain": [
       "FloatProgress(value=0.0, bar_style='info', description='Progress:', layout=Layout(height='25px', width='50%'),…"
      ]
     },
     "metadata": {},
     "output_type": "display_data"
    }
   ],
   "source": [
    "# create DeltaTable instances using the path of the Delta table\n",
    "deltaTable = DeltaTable.forPath(spark, config['target'])"
   ]
  },
  {
   "cell_type": "code",
   "execution_count": 23,
   "id": "4f2ac90e",
   "metadata": {},
   "outputs": [
    {
     "data": {
      "application/vnd.jupyter.widget-view+json": {
       "model_id": "",
       "version_major": 2,
       "version_minor": 0
      },
      "text/plain": [
       "FloatProgress(value=0.0, bar_style='info', description='Progress:', layout=Layout(height='25px', width='50%'),…"
      ]
     },
     "metadata": {},
     "output_type": "display_data"
    },
    {
     "name": "stdout",
     "output_type": "stream",
     "text": [
      "+-----------+--------+-------+-----------------------+\n",
      "|destination|route_id|trip_id|ts                     |\n",
      "+-----------+--------+-------+-----------------------+\n",
      "|noida      |A       |1000000|2023-05-18 11:29:03.871|\n",
      "|noida      |B       |1000001|2023-05-18 11:29:03.871|\n",
      "|noida      |C       |1000002|2023-05-18 11:29:03.871|\n",
      "|noida      |D       |1000003|2023-05-18 11:29:03.871|\n",
      "|noida      |E       |1000004|2023-05-18 11:29:03.871|\n",
      "|noida      |F       |1000005|2023-05-18 11:29:03.871|\n",
      "|noida      |G       |1000006|2023-05-18 11:29:03.871|\n",
      "|noida      |H       |1000007|2023-05-18 11:29:03.871|\n",
      "|noida      |I       |1000008|2023-05-18 11:29:03.871|\n",
      "|noida      |J       |1000009|2023-05-18 11:29:03.871|\n",
      "|noida      |A       |1000010|2023-05-18 11:29:03.871|\n",
      "|noida      |B       |1000011|2023-05-18 11:29:03.871|\n",
      "|noida      |C       |1000012|2023-05-18 11:29:03.871|\n",
      "|noida      |D       |1000013|2023-05-18 11:29:03.871|\n",
      "|noida      |E       |1000014|2023-05-18 11:29:03.871|\n",
      "|noida      |F       |1000015|2023-05-18 11:29:03.871|\n",
      "|noida      |G       |1000016|2023-05-18 11:29:03.871|\n",
      "|noida      |H       |1000017|2023-05-18 11:29:03.871|\n",
      "|noida      |I       |1000018|2023-05-18 11:29:03.871|\n",
      "|noida      |J       |1000019|2023-05-18 11:29:03.871|\n",
      "+-----------+--------+-------+-----------------------+\n",
      "only showing top 20 rows"
     ]
    }
   ],
   "source": [
    "# Changing data for upsert\n",
    "upsert_dest_delta= [\"noida\" for i in range (0,100)]\n",
    "df3_delta=create_json_df(spark, get_json_data(1000000,100, upsert_dest_delta))\n",
    "df3_delta.show(20,False)"
   ]
  },
  {
   "cell_type": "code",
   "execution_count": 24,
   "id": "f3cbd287",
   "metadata": {},
   "outputs": [
    {
     "data": {
      "application/vnd.jupyter.widget-view+json": {
       "model_id": "",
       "version_major": 2,
       "version_minor": 0
      },
      "text/plain": [
       "FloatProgress(value=0.0, bar_style='info', description='Progress:', layout=Layout(height='25px', width='50%'),…"
      ]
     },
     "metadata": {},
     "output_type": "display_data"
    },
    {
     "name": "stdout",
     "output_type": "stream",
     "text": [
      "write_duration: 37.39 sec"
     ]
    }
   ],
   "source": [
    "# PERFORM THE UPSERT OPERATION\n",
    "start_time=time.time()\n",
    "(deltaTable\n",
    ".alias('t')\n",
    ".merge(df3_delta.alias('u'), 't.trip_id = u.trip_id')\n",
    ".whenMatchedUpdateAll()\n",
    ".whenNotMatchedInsertAll()\n",
    ".execute())\n",
    "end_time=time.time()\n",
    "upsert_duration=end_time-start_time\n",
    "print(\"write_duration: {:.2f} sec\".format(upsert_duration))"
   ]
  },
  {
   "cell_type": "code",
   "execution_count": 25,
   "id": "0d80f53c",
   "metadata": {},
   "outputs": [
    {
     "data": {
      "application/vnd.jupyter.widget-view+json": {
       "model_id": "",
       "version_major": 2,
       "version_minor": 0
      },
      "text/plain": [
       "FloatProgress(value=0.0, bar_style='info', description='Progress:', layout=Layout(height='25px', width='50%'),…"
      ]
     },
     "metadata": {},
     "output_type": "display_data"
    }
   ],
   "source": [
    "# df_delta.filter(col('trip_id').between(1000000,1000200)).show(200,False)"
   ]
  },
  {
   "cell_type": "code",
   "execution_count": 26,
   "id": "acb84b6e",
   "metadata": {},
   "outputs": [
    {
     "data": {
      "application/vnd.jupyter.widget-view+json": {
       "model_id": "",
       "version_major": 2,
       "version_minor": 0
      },
      "text/plain": [
       "FloatProgress(value=0.0, bar_style='info', description='Progress:', layout=Layout(height='25px', width='50%'),…"
      ]
     },
     "metadata": {},
     "output_type": "display_data"
    }
   ],
   "source": [
    "# Inserting new data\n",
    "insert_dest=[\"ghaziabad\" for i in range(0,100)]\n",
    "df5_mor=create_json_df(spark,get_json_data(2000000,100,insert_dest))"
   ]
  },
  {
   "cell_type": "code",
   "execution_count": 27,
   "id": "65525442",
   "metadata": {},
   "outputs": [
    {
     "data": {
      "application/vnd.jupyter.widget-view+json": {
       "model_id": "",
       "version_major": 2,
       "version_minor": 0
      },
      "text/plain": [
       "FloatProgress(value=0.0, bar_style='info', description='Progress:', layout=Layout(height='25px', width='50%'),…"
      ]
     },
     "metadata": {},
     "output_type": "display_data"
    },
    {
     "name": "stdout",
     "output_type": "stream",
     "text": [
      "insert_duration: 14.96 sec"
     ]
    }
   ],
   "source": [
    "# PERFORM THE INSERT OPERATION\n",
    "start_time=time.time()\n",
    "(deltaTable\n",
    ".alias('t')\n",
    ".merge(df5_mor.alias('u'), 't.trip_id = u.trip_id')\n",
    ".whenMatchedUpdateAll()\n",
    ".whenNotMatchedInsertAll()\n",
    ".execute())\n",
    "end_time=time.time()\n",
    "insert_duration=end_time-start_time\n",
    "print(\"insert_duration: {:.2f} sec\".format(insert_duration))"
   ]
  },
  {
   "cell_type": "code",
   "execution_count": 30,
   "id": "a7c691cd",
   "metadata": {},
   "outputs": [
    {
     "data": {
      "application/vnd.jupyter.widget-view+json": {
       "model_id": "",
       "version_major": 2,
       "version_minor": 0
      },
      "text/plain": [
       "FloatProgress(value=0.0, bar_style='info', description='Progress:', layout=Layout(height='25px', width='50%'),…"
      ]
     },
     "metadata": {},
     "output_type": "display_data"
    },
    {
     "name": "stdout",
     "output_type": "stream",
     "text": [
      "+-----------+--------+-------+--------------------+\n",
      "|destination|route_id|trip_id|                  ts|\n",
      "+-----------+--------+-------+--------------------+\n",
      "|  ghaziabad|       I|2000048|2023-05-18 11:32:...|\n",
      "|  ghaziabad|       B|2000031|2023-05-18 11:32:...|\n",
      "|  ghaziabad|       H|2000047|2023-05-18 11:32:...|\n",
      "|  ghaziabad|       G|2000006|2023-05-18 11:32:...|\n",
      "|  ghaziabad|       J|2000019|2023-05-18 11:32:...|\n",
      "|  ghaziabad|       H|2000027|2023-05-18 11:32:...|\n",
      "|  ghaziabad|       G|2000016|2023-05-18 11:32:...|\n",
      "|  ghaziabad|       B|2000041|2023-05-18 11:32:...|\n",
      "|  ghaziabad|       H|2000037|2023-05-18 11:32:...|\n",
      "|  ghaziabad|       I|2000008|2023-05-18 11:32:...|\n",
      "|  ghaziabad|       D|2000013|2023-05-18 11:32:...|\n",
      "|  ghaziabad|       J|2000009|2023-05-18 11:32:...|\n",
      "|  ghaziabad|       E|2000004|2023-05-18 11:32:...|\n",
      "|  ghaziabad|       D|2000003|2023-05-18 11:32:...|\n",
      "|  ghaziabad|       A|2000030|2023-05-18 11:32:...|\n",
      "|  ghaziabad|       C|2000002|2023-05-18 11:32:...|\n",
      "|  ghaziabad|       A|2000020|2023-05-18 11:32:...|\n",
      "|  ghaziabad|       F|2000005|2023-05-18 11:32:...|\n",
      "|  ghaziabad|       J|2000029|2023-05-18 11:32:...|\n",
      "|  ghaziabad|       G|2000036|2023-05-18 11:32:...|\n",
      "+-----------+--------+-------+--------------------+\n",
      "only showing top 20 rows"
     ]
    }
   ],
   "source": [
    "df_delta.filter(col('trip_id')>2000000).show()"
   ]
  },
  {
   "cell_type": "code",
   "execution_count": 37,
   "id": "00d92d11",
   "metadata": {},
   "outputs": [
    {
     "data": {
      "application/vnd.jupyter.widget-view+json": {
       "model_id": "",
       "version_major": 2,
       "version_minor": 0
      },
      "text/plain": [
       "FloatProgress(value=0.0, bar_style='info', description='Progress:', layout=Layout(height='25px', width='50%'),…"
      ]
     },
     "metadata": {},
     "output_type": "display_data"
    },
    {
     "name": "stdout",
     "output_type": "stream",
     "text": [
      "+-------+-------------------+------+--------+---------+--------------------+----+--------+---------+-----------+--------------+-------------+--------------------+------------+--------------------+\n",
      "|version|          timestamp|userId|userName|operation| operationParameters| job|notebook|clusterId|readVersion|isolationLevel|isBlindAppend|    operationMetrics|userMetadata|          engineInfo|\n",
      "+-------+-------------------+------+--------+---------+--------------------+----+--------+---------+-----------+--------------+-------------+--------------------+------------+--------------------+\n",
      "|      2|2023-05-18 11:32:33|  null|    null|    MERGE|{predicate -> (t....|null|    null|     null|          1|  Serializable|        false|{numTargetRowsCop...|        null|Apache-Spark/3.3....|\n",
      "|      1|2023-05-18 11:29:55|  null|    null|    MERGE|{predicate -> (t....|null|    null|     null|          0|  Serializable|        false|{numTargetRowsCop...|        null|Apache-Spark/3.3....|\n",
      "|      0|2023-05-18 11:27:31|  null|    null|    WRITE|{mode -> Overwrit...|null|    null|     null|       null|  Serializable|        false|{numFiles -> 2, n...|        null|Apache-Spark/3.3....|\n",
      "+-------+-------------------+------+--------+---------+--------------------+----+--------+---------+-----------+--------------+-------------+--------------------+------------+--------------------+"
     ]
    }
   ],
   "source": [
    "# Time travel \n",
    "deltaTable.history(100).show()"
   ]
  },
  {
   "cell_type": "code",
   "execution_count": 38,
   "id": "ef8fbf5e",
   "metadata": {},
   "outputs": [
    {
     "data": {
      "application/vnd.jupyter.widget-view+json": {
       "model_id": "",
       "version_major": 2,
       "version_minor": 0
      },
      "text/plain": [
       "FloatProgress(value=0.0, bar_style='info', description='Progress:', layout=Layout(height='25px', width='50%'),…"
      ]
     },
     "metadata": {},
     "output_type": "display_data"
    },
    {
     "name": "stdout",
     "output_type": "stream",
     "text": [
      "+-------+-------------------+---------+-----------------------------------------------------------------------------------------------------------------------------------------+\n",
      "|version|timestamp          |operation|operationParameters                                                                                                                      |\n",
      "+-------+-------------------+---------+-----------------------------------------------------------------------------------------------------------------------------------------+\n",
      "|2      |2023-05-18 11:32:33|MERGE    |{predicate -> (t.trip_id = u.trip_id), matchedPredicates -> [{\"actionType\":\"update\"}], notMatchedPredicates -> [{\"actionType\":\"insert\"}]}|\n",
      "|1      |2023-05-18 11:29:55|MERGE    |{predicate -> (t.trip_id = u.trip_id), matchedPredicates -> [{\"actionType\":\"update\"}], notMatchedPredicates -> [{\"actionType\":\"insert\"}]}|\n",
      "|0      |2023-05-18 11:27:31|WRITE    |{mode -> Overwrite, partitionBy -> []}                                                                                                   |\n",
      "+-------+-------------------+---------+-----------------------------------------------------------------------------------------------------------------------------------------+"
     ]
    }
   ],
   "source": [
    "deltaTable.history(100).select(\"version\", \"timestamp\", \"operation\", \"operationParameters\").show(truncate=False)"
   ]
  },
  {
   "cell_type": "code",
   "execution_count": 39,
   "id": "09009be5",
   "metadata": {},
   "outputs": [
    {
     "data": {
      "application/vnd.jupyter.widget-view+json": {
       "model_id": "",
       "version_major": 2,
       "version_minor": 0
      },
      "text/plain": [
       "FloatProgress(value=0.0, bar_style='info', description='Progress:', layout=Layout(height='25px', width='50%'),…"
      ]
     },
     "metadata": {},
     "output_type": "display_data"
    },
    {
     "name": "stdout",
     "output_type": "stream",
     "text": [
      "+-------------+--------+-------+--------------------+\n",
      "|  destination|route_id|trip_id|                  ts|\n",
      "+-------------+--------+-------+--------------------+\n",
      "|        Miami|       I|     28|2023-05-18 11:23:...|\n",
      "| Philadelphia|       H|    107|2023-05-18 11:23:...|\n",
      "|San Francisco|       J|    139|2023-05-18 11:23:...|\n",
      "| Philadelphia|       H|    157|2023-05-18 11:23:...|\n",
      "|    Las Vegas|       E|    174|2023-05-18 11:23:...|\n",
      "|        Miami|       I|    178|2023-05-18 11:23:...|\n",
      "|        Miami|       I|    208|2023-05-18 11:23:...|\n",
      "| Philadelphia|       H|    227|2023-05-18 11:23:...|\n",
      "|   New Jersey|       C|    242|2023-05-18 11:23:...|\n",
      "|  Los Angeles|       D|    253|2023-05-18 11:23:...|\n",
      "|       Tucson|       F|    255|2023-05-18 11:23:...|\n",
      "|Washington DC|       G|    266|2023-05-18 11:23:...|\n",
      "|        Miami|       I|    268|2023-05-18 11:23:...|\n",
      "| Philadelphia|       H|    307|2023-05-18 11:23:...|\n",
      "|Washington DC|       G|    316|2023-05-18 11:23:...|\n",
      "|      Seattle|       A|    320|2023-05-18 11:23:...|\n",
      "|Washington DC|       G|    326|2023-05-18 11:23:...|\n",
      "|  Los Angeles|       D|    353|2023-05-18 11:23:...|\n",
      "|       Tucson|       F|    365|2023-05-18 11:23:...|\n",
      "|      Seattle|       A|    370|2023-05-18 11:23:...|\n",
      "+-------------+--------+-------+--------------------+\n",
      "only showing top 20 rows"
     ]
    }
   ],
   "source": [
    "df_time_travel = spark.read.format(\"delta\").option(\"versionAsOf\", 1).load(config['target'])\n",
    "df_time_travel.show()"
   ]
  },
  {
   "cell_type": "code",
   "execution_count": 40,
   "id": "37e0189a",
   "metadata": {},
   "outputs": [
    {
     "data": {
      "application/vnd.jupyter.widget-view+json": {
       "model_id": "",
       "version_major": 2,
       "version_minor": 0
      },
      "text/plain": [
       "FloatProgress(value=0.0, bar_style='info', description='Progress:', layout=Layout(height='25px', width='50%'),…"
      ]
     },
     "metadata": {},
     "output_type": "display_data"
    }
   ],
   "source": [
    "#NOT WORKING - version  error\n",
    "#DLETE OPERATION\n",
    "# start_time=time.time()\n",
    "# condition=[i for i in range(2000050,2000101)]\n",
    "# deltaTable.delete(col('trip_id').isin(condition))\n",
    "# end_time=time.time()\n",
    "# delete_duration=end_time-start_time\n",
    "# print(\"delete_duration: {:.2f} sec\".format(delete_duration))"
   ]
  },
  {
   "cell_type": "code",
   "execution_count": 41,
   "id": "f4b49ee3",
   "metadata": {},
   "outputs": [
    {
     "data": {
      "application/vnd.jupyter.widget-view+json": {
       "model_id": "",
       "version_major": 2,
       "version_minor": 0
      },
      "text/plain": [
       "FloatProgress(value=0.0, bar_style='info', description='Progress:', layout=Layout(height='25px', width='50%'),…"
      ]
     },
     "metadata": {},
     "output_type": "display_data"
    },
    {
     "name": "stderr",
     "output_type": "stream",
     "text": [
      "An error was encountered:\n",
      "An error occurred while calling o126.delete.\n",
      ": java.lang.NoSuchMethodError: org.apache.spark.sql.catalyst.plans.logical.DeleteFromTable.<init>(Lorg/apache/spark/sql/catalyst/plans/logical/LogicalPlan;Lscala/Option;)V\n",
      "\tat io.delta.tables.execution.DeltaTableOperations.$anonfun$executeDelete$1(DeltaTableOperations.scala:42)\n",
      "\tat org.apache.spark.sql.delta.util.AnalysisHelper.improveUnsupportedOpError(AnalysisHelper.scala:105)\n",
      "\tat org.apache.spark.sql.delta.util.AnalysisHelper.improveUnsupportedOpError$(AnalysisHelper.scala:91)\n",
      "\tat io.delta.tables.DeltaTable.improveUnsupportedOpError(DeltaTable.scala:44)\n",
      "\tat io.delta.tables.execution.DeltaTableOperations.executeDelete(DeltaTableOperations.scala:41)\n",
      "\tat io.delta.tables.execution.DeltaTableOperations.executeDelete$(DeltaTableOperations.scala:41)\n",
      "\tat io.delta.tables.DeltaTable.executeDelete(DeltaTable.scala:44)\n",
      "\tat io.delta.tables.DeltaTable.delete(DeltaTable.scala:173)\n",
      "\tat sun.reflect.NativeMethodAccessorImpl.invoke0(Native Method)\n",
      "\tat sun.reflect.NativeMethodAccessorImpl.invoke(NativeMethodAccessorImpl.java:62)\n",
      "\tat sun.reflect.DelegatingMethodAccessorImpl.invoke(DelegatingMethodAccessorImpl.java:43)\n",
      "\tat java.lang.reflect.Method.invoke(Method.java:498)\n",
      "\tat py4j.reflection.MethodInvoker.invoke(MethodInvoker.java:244)\n",
      "\tat py4j.reflection.ReflectionEngine.invoke(ReflectionEngine.java:357)\n",
      "\tat py4j.Gateway.invoke(Gateway.java:282)\n",
      "\tat py4j.commands.AbstractCommand.invokeMethod(AbstractCommand.java:132)\n",
      "\tat py4j.commands.CallCommand.execute(CallCommand.java:79)\n",
      "\tat py4j.GatewayConnection.run(GatewayConnection.java:238)\n",
      "\tat java.lang.Thread.run(Thread.java:750)\n",
      "\n",
      "Traceback (most recent call last):\n",
      "  File \"/mnt/yarn/usercache/livy/appcache/application_1684389228849_0028/container_1684389228849_0028_01_000001/io.delta_delta-core_2.12-2.0.0.jar/delta/tables.py\", line 106, in delete\n",
      "    self._jdt.delete(DeltaTable._condition_to_jcolumn(condition))\n",
      "  File \"/mnt/yarn/usercache/livy/appcache/application_1684389228849_0028/container_1684389228849_0028_01_000001/py4j-0.10.9.5-src.zip/py4j/java_gateway.py\", line 1322, in __call__\n",
      "    answer, self.gateway_client, self.target_id, self.name)\n",
      "  File \"/mnt/yarn/usercache/livy/appcache/application_1684389228849_0028/container_1684389228849_0028_01_000001/pyspark.zip/pyspark/sql/utils.py\", line 190, in deco\n",
      "    return f(*a, **kw)\n",
      "  File \"/mnt/yarn/usercache/livy/appcache/application_1684389228849_0028/container_1684389228849_0028_01_000001/py4j-0.10.9.5-src.zip/py4j/protocol.py\", line 328, in get_return_value\n",
      "    format(target_id, \".\", name), value)\n",
      "py4j.protocol.Py4JJavaError: An error occurred while calling o126.delete.\n",
      ": java.lang.NoSuchMethodError: org.apache.spark.sql.catalyst.plans.logical.DeleteFromTable.<init>(Lorg/apache/spark/sql/catalyst/plans/logical/LogicalPlan;Lscala/Option;)V\n",
      "\tat io.delta.tables.execution.DeltaTableOperations.$anonfun$executeDelete$1(DeltaTableOperations.scala:42)\n",
      "\tat org.apache.spark.sql.delta.util.AnalysisHelper.improveUnsupportedOpError(AnalysisHelper.scala:105)\n",
      "\tat org.apache.spark.sql.delta.util.AnalysisHelper.improveUnsupportedOpError$(AnalysisHelper.scala:91)\n",
      "\tat io.delta.tables.DeltaTable.improveUnsupportedOpError(DeltaTable.scala:44)\n",
      "\tat io.delta.tables.execution.DeltaTableOperations.executeDelete(DeltaTableOperations.scala:41)\n",
      "\tat io.delta.tables.execution.DeltaTableOperations.executeDelete$(DeltaTableOperations.scala:41)\n",
      "\tat io.delta.tables.DeltaTable.executeDelete(DeltaTable.scala:44)\n",
      "\tat io.delta.tables.DeltaTable.delete(DeltaTable.scala:173)\n",
      "\tat sun.reflect.NativeMethodAccessorImpl.invoke0(Native Method)\n",
      "\tat sun.reflect.NativeMethodAccessorImpl.invoke(NativeMethodAccessorImpl.java:62)\n",
      "\tat sun.reflect.DelegatingMethodAccessorImpl.invoke(DelegatingMethodAccessorImpl.java:43)\n",
      "\tat java.lang.reflect.Method.invoke(Method.java:498)\n",
      "\tat py4j.reflection.MethodInvoker.invoke(MethodInvoker.java:244)\n",
      "\tat py4j.reflection.ReflectionEngine.invoke(ReflectionEngine.java:357)\n",
      "\tat py4j.Gateway.invoke(Gateway.java:282)\n",
      "\tat py4j.commands.AbstractCommand.invokeMethod(AbstractCommand.java:132)\n",
      "\tat py4j.commands.CallCommand.execute(CallCommand.java:79)\n",
      "\tat py4j.GatewayConnection.run(GatewayConnection.java:238)\n",
      "\tat java.lang.Thread.run(Thread.java:750)\n",
      "\n",
      "\n"
     ]
    }
   ],
   "source": [
    "# DELETE OPERATION\n",
    "start_time=time.time()\n",
    "condition=\"trip_id > 2000050\"\n",
    "deltaTable.delete(condition)\n",
    "end_time=time.time()\n",
    "delete_duration=end_time-start_time\n",
    "print(\"delete_duration: {:.2f} sec\".format(delete_duration))"
   ]
  },
  {
   "cell_type": "code",
   "execution_count": 31,
   "id": "2705d7c9",
   "metadata": {},
   "outputs": [
    {
     "data": {
      "application/vnd.jupyter.widget-view+json": {
       "model_id": "",
       "version_major": 2,
       "version_minor": 0
      },
      "text/plain": [
       "FloatProgress(value=0.0, bar_style='info', description='Progress:', layout=Layout(height='25px', width='50%'),…"
      ]
     },
     "metadata": {},
     "output_type": "display_data"
    }
   ],
   "source": [
    "condition=[i for i in range(2000050,2000100)]"
   ]
  },
  {
   "cell_type": "code",
   "execution_count": 32,
   "id": "8317dbc1",
   "metadata": {},
   "outputs": [
    {
     "data": {
      "application/vnd.jupyter.widget-view+json": {
       "model_id": "",
       "version_major": 2,
       "version_minor": 0
      },
      "text/plain": [
       "FloatProgress(value=0.0, bar_style='info', description='Progress:', layout=Layout(height='25px', width='50%'),…"
      ]
     },
     "metadata": {},
     "output_type": "display_data"
    },
    {
     "name": "stdout",
     "output_type": "stream",
     "text": [
      "[2000050, 2000051, 2000052, 2000053, 2000054, 2000055, 2000056, 2000057, 2000058, 2000059, 2000060, 2000061, 2000062, 2000063, 2000064, 2000065, 2000066, 2000067, 2000068, 2000069, 2000070, 2000071, 2000072, 2000073, 2000074, 2000075, 2000076, 2000077, 2000078, 2000079, 2000080, 2000081, 2000082, 2000083, 2000084, 2000085, 2000086, 2000087, 2000088, 2000089, 2000090, 2000091, 2000092, 2000093, 2000094, 2000095, 2000096, 2000097, 2000098, 2000099]"
     ]
    }
   ],
   "source": [
    "condition\n"
   ]
  },
  {
   "cell_type": "code",
   "execution_count": null,
   "id": "03be7f5f",
   "metadata": {},
   "outputs": [],
   "source": []
  }
 ],
 "metadata": {
  "kernelspec": {
   "display_name": "PySpark",
   "language": "python",
   "name": "pysparkkernel"
  },
  "language_info": {
   "codemirror_mode": {
    "name": "python",
    "version": 3
   },
   "file_extension": ".py",
   "mimetype": "text/x-python",
   "name": "pyspark",
   "pygments_lexer": "python3"
  }
 },
 "nbformat": 4,
 "nbformat_minor": 5
}
