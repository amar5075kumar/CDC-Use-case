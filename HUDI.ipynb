{
 "cells": [
  {
   "cell_type": "code",
   "execution_count": 1,
   "id": "7ff7d4b0",
   "metadata": {},
   "outputs": [
    {
     "name": "stdout",
     "output_type": "stream",
     "text": [
      "Starting Spark application\n"
     ]
    },
    {
     "data": {
      "text/html": [
       "<table>\n",
       "<tr><th>ID</th><th>YARN Application ID</th><th>Kind</th><th>State</th><th>Spark UI</th><th>Driver log</th><th>User</th><th>Current session?</th></tr><tr><td>1</td><td>application_1684296506639_0002</td><td>pyspark</td><td>idle</td><td><a target=\"_blank\" href=\"http://ip-172-31-5-42.ec2.internal:20888/proxy/application_1684296506639_0002/\">Link</a></td><td><a target=\"_blank\" href=\"http://ip-172-31-12-114.ec2.internal:8042/node/containerlogs/container_1684296506639_0002_01_000001/livy\">Link</a></td><td>None</td><td>✔</td></tr></table>"
      ],
      "text/plain": [
       "<IPython.core.display.HTML object>"
      ]
     },
     "metadata": {},
     "output_type": "display_data"
    },
    {
     "data": {
      "application/vnd.jupyter.widget-view+json": {
       "model_id": "",
       "version_major": 2,
       "version_minor": 0
      },
      "text/plain": [
       "FloatProgress(value=0.0, bar_style='info', description='Progress:', layout=Layout(height='25px', width='50%'),…"
      ]
     },
     "metadata": {},
     "output_type": "display_data"
    },
    {
     "name": "stdout",
     "output_type": "stream",
     "text": [
      "SparkSession available as 'spark'.\n"
     ]
    },
    {
     "data": {
      "application/vnd.jupyter.widget-view+json": {
       "model_id": "",
       "version_major": 2,
       "version_minor": 0
      },
      "text/plain": [
       "FloatProgress(value=0.0, bar_style='info', description='Progress:', layout=Layout(height='25px', width='50%'),…"
      ]
     },
     "metadata": {},
     "output_type": "display_data"
    }
   ],
   "source": [
    "#SO when you install spark on EMR cluster it comes with hudi already installed but it is local filesystem we need to copy it hdfs file system using the followinnf step after that only we can run it in notebooks\n",
    "#https://docs.aws.amazon.com/emr/latest/ReleaseGuide/emr-hudi-work-with-dataset.html\n",
    "#Use Hudi with Amazon EMR Notebooks using Amazon EMR 6.7 and later\n",
    "\n",
    "# In EC2 master instances \n",
    "# Step1 - hdfs dfs -mkdir -p /apps/hudi/lib\n",
    "# step2 - hdfs dfs -copyFromLocal /usr/lib/hudi/hudi-spark-bundle.jar /apps/hudi/lib/hudi-spark-bundle.jar\n",
    "# step3 - hdfs dfs -copyFromLocal /usr/lib/spark/external/lib/spark-avro.jar  /apps/hudi/lib/spark-avro.jar"
   ]
  },
  {
   "cell_type": "code",
   "execution_count": null,
   "id": "429599af",
   "metadata": {},
   "outputs": [],
   "source": [
    "spark"
   ]
  },
  {
   "cell_type": "code",
   "execution_count": 2,
   "id": "873e0d06",
   "metadata": {},
   "outputs": [
    {
     "name": "stdout",
     "output_type": "stream",
     "text": [
      "Starting Spark application\n"
     ]
    },
    {
     "data": {
      "text/html": [
       "<table>\n",
       "<tr><th>ID</th><th>YARN Application ID</th><th>Kind</th><th>State</th><th>Spark UI</th><th>Driver log</th><th>User</th><th>Current session?</th></tr><tr><td>2</td><td>application_1684296506639_0003</td><td>pyspark</td><td>idle</td><td><a target=\"_blank\" href=\"http://ip-172-31-5-42.ec2.internal:20888/proxy/application_1684296506639_0003/\">Link</a></td><td><a target=\"_blank\" href=\"http://ip-172-31-12-114.ec2.internal:8042/node/containerlogs/container_1684296506639_0003_01_000001/livy\">Link</a></td><td>None</td><td>✔</td></tr></table>"
      ],
      "text/plain": [
       "<IPython.core.display.HTML object>"
      ]
     },
     "metadata": {},
     "output_type": "display_data"
    },
    {
     "data": {
      "application/vnd.jupyter.widget-view+json": {
       "model_id": "",
       "version_major": 2,
       "version_minor": 0
      },
      "text/plain": [
       "FloatProgress(value=0.0, bar_style='info', description='Progress:', layout=Layout(height='25px', width='50%'),…"
      ]
     },
     "metadata": {},
     "output_type": "display_data"
    },
    {
     "name": "stdout",
     "output_type": "stream",
     "text": [
      "SparkSession available as 'spark'.\n"
     ]
    },
    {
     "data": {
      "text/html": [
       "Current session configs: <tt>{'conf': {'spark.jars': 'hdfs:///apps/hudi/lib/hudi-spark-bundle.jar', 'spark.serializer': 'org.apache.spark.serializer.KryoSerializer', 'spark.sql.catalog.spark_catalog': 'org.apache.spark.sql.hudi.catalog.HoodieCatalog', 'spark.sql.extensions': 'org.apache.spark.sql.hudi.HoodieSparkSessionExtension'}, 'proxyUser': 'jovyan', 'kind': 'pyspark'}</tt><br>"
      ],
      "text/plain": [
       "<IPython.core.display.HTML object>"
      ]
     },
     "metadata": {},
     "output_type": "display_data"
    },
    {
     "data": {
      "text/html": [
       "<table>\n",
       "<tr><th>ID</th><th>YARN Application ID</th><th>Kind</th><th>State</th><th>Spark UI</th><th>Driver log</th><th>User</th><th>Current session?</th></tr><tr><td>2</td><td>application_1684296506639_0003</td><td>pyspark</td><td>idle</td><td><a target=\"_blank\" href=\"http://ip-172-31-5-42.ec2.internal:20888/proxy/application_1684296506639_0003/\">Link</a></td><td><a target=\"_blank\" href=\"http://ip-172-31-12-114.ec2.internal:8042/node/containerlogs/container_1684296506639_0003_01_000001/livy\">Link</a></td><td>None</td><td>✔</td></tr></table>"
      ],
      "text/plain": [
       "<IPython.core.display.HTML object>"
      ]
     },
     "metadata": {},
     "output_type": "display_data"
    }
   ],
   "source": [
    "%%configure -f\n",
    "{ \"conf\": {\n",
    "            \"spark.jars\":\"hdfs:///apps/hudi/lib/hudi-spark-bundle.jar\",\n",
    "            \"spark.serializer\":\"org.apache.spark.serializer.KryoSerializer\",\n",
    "            \"spark.sql.catalog.spark_catalog\": \"org.apache.spark.sql.hudi.catalog.HoodieCatalog\",\n",
    "            \"spark.sql.extensions\":\"org.apache.spark.sql.hudi.HoodieSparkSessionExtension\"\n",
    "          }}"
   ]
  },
  {
   "cell_type": "code",
   "execution_count": 3,
   "id": "4fb5df24",
   "metadata": {},
   "outputs": [
    {
     "data": {
      "application/vnd.jupyter.widget-view+json": {
       "model_id": "",
       "version_major": 2,
       "version_minor": 0
      },
      "text/plain": [
       "FloatProgress(value=0.0, bar_style='info', description='Progress:', layout=Layout(height='25px', width='50%'),…"
      ]
     },
     "metadata": {},
     "output_type": "display_data"
    }
   ],
   "source": [
    "# General Constants - Basic Configuration\n",
    "HUDI_FORMAT = \"org.apache.hudi\"\n",
    "TABLE_NAME = \"hoodie.table.name\"\n",
    "RECORDKEY_FIELD_OPT_KEY = \"hoodie.datasource.write.recordkey.field\"\n",
    "PRECOMBINE_FIELD_OPT_KEY = \"hoodie.datasource.write.precombine.field\"\n",
    "OPERATION_OPT_KEY = \"hoodie.datasource.write.operation\"\n",
    "BULK_INSERT_OPERATION_OPT_VAL = \"bulk_insert\"\n",
    "UPSERT_OPERATION_OPT_VAL = \"upsert\"\n",
    "BULK_INSERT_PARALLELISM = \"hoodie.bulkinsert.shuffle.parallelism\"\n",
    "UPSERT_PARALLELISM = \"hoodie.upsert.shuffle.parallelism\"\n",
    "S3_CONSISTENCY_CHECK = \"hoodie.consistency.check.enabled\"\n",
    "HUDI_CLEANER_POLICY = \"hoodie.cleaner.policy\"\n",
    "KEEP_LATEST_COMMITS = \"KEEP_LATEST_COMMITS\"\n",
    "HUDI_COMMITS_RETAINED = \"hoodie.cleaner.commits.retained\"\n",
    "PAYLOAD_CLASS_OPT_KEY = \"hoodie.datasource.write.payload.class\"\n",
    "EMPTY_PAYLOAD_CLASS_OPT_VAL = \"org.apache.hudi.common.model.EmptyHoodieRecordPayload\""
   ]
  },
  {
   "cell_type": "code",
   "execution_count": 4,
   "id": "f5ce4259",
   "metadata": {},
   "outputs": [
    {
     "data": {
      "application/vnd.jupyter.widget-view+json": {
       "model_id": "",
       "version_major": 2,
       "version_minor": 0
      },
      "text/plain": [
       "FloatProgress(value=0.0, bar_style='info', description='Progress:', layout=Layout(height='25px', width='50%'),…"
      ]
     },
     "metadata": {},
     "output_type": "display_data"
    }
   ],
   "source": [
    "# Hive Constants - Needed\n",
    "HIVE_SYNC_ENABLED_OPT_KEY=\"hoodie.datasource.hive_sync.enable\"\n",
    "HIVE_PARTITION_FIELDS_OPT_KEY=\"hoodie.datasource.hive_sync.partition_fields\"\n",
    "HIVE_ASSUME_DATE_PARTITION_OPT_KEY=\"hoodie.datasource.hive_sync.assume_date_partitioning\"\n",
    "HIVE_PARTITION_EXTRACTOR_CLASS_OPT_KEY=\"hoodie.datasource.hive_sync.partition_extractor_class\"\n",
    "HIVE_TABLE_OPT_KEY=\"hoodie.datasource.hive_sync.table\""
   ]
  },
  {
   "cell_type": "code",
   "execution_count": 5,
   "id": "c96608a2",
   "metadata": {},
   "outputs": [
    {
     "data": {
      "application/vnd.jupyter.widget-view+json": {
       "model_id": "",
       "version_major": 2,
       "version_minor": 0
      },
      "text/plain": [
       "FloatProgress(value=0.0, bar_style='info', description='Progress:', layout=Layout(height='25px', width='50%'),…"
      ]
     },
     "metadata": {},
     "output_type": "display_data"
    }
   ],
   "source": [
    "# Partition Constants - For big dataset \n",
    "NONPARTITION_EXTRACTOR_CLASS_OPT_VAL=\"org.apache.hudi.hive.NonPartitionedExtractor\"\n",
    "MULTIPART_KEYS_EXTRACTOR_CLASS_OPT_VAL=\"org.apache.hudi.hive.MultiPartKeysValueExtractor\"\n",
    "KEYGENERATOR_CLASS_OPT_KEY=\"hoodie.datasource.write.keygenerator.class\"\n",
    "NONPARTITIONED_KEYGENERATOR_CLASS_OPT_VAL=\"org.apache.hudi.keygen.NonpartitionedKeyGenerator\"\n",
    "COMPLEX_KEYGENERATOR_CLASS_OPT_VAL=\"org.apache.hudi.ComplexKeyGenerator\"\n",
    "PARTITIONPATH_FIELD_OPT_KEY=\"hoodie.datasource.write.partitionpath.field\""
   ]
  },
  {
   "cell_type": "code",
   "execution_count": 6,
   "id": "24031d4e",
   "metadata": {},
   "outputs": [
    {
     "data": {
      "application/vnd.jupyter.widget-view+json": {
       "model_id": "",
       "version_major": 2,
       "version_minor": 0
      },
      "text/plain": [
       "FloatProgress(value=0.0, bar_style='info', description='Progress:', layout=Layout(height='25px', width='50%'),…"
      ]
     },
     "metadata": {},
     "output_type": "display_data"
    }
   ],
   "source": [
    "#Incremental Constants\n",
    "VIEW_TYPE_OPT_KEY=\"hoodie.datasource.view.type\"\n",
    "BEGIN_INSTANTTIME_OPT_KEY=\"hoodie.datasource.read.begin.instanttime\"\n",
    "VIEW_TYPE_INCREMENTAL_OPT_VAL=\"incremental\"\n",
    "END_INSTANTTIME_OPT_KEY=\"hoodie.datasource.read.end.instanttime\""
   ]
  },
  {
   "cell_type": "code",
   "execution_count": 7,
   "id": "b7d00600",
   "metadata": {},
   "outputs": [
    {
     "data": {
      "application/vnd.jupyter.widget-view+json": {
       "model_id": "",
       "version_major": 2,
       "version_minor": 0
      },
      "text/plain": [
       "FloatProgress(value=0.0, bar_style='info', description='Progress:', layout=Layout(height='25px', width='50%'),…"
      ]
     },
     "metadata": {},
     "output_type": "display_data"
    }
   ],
   "source": [
    "# Generate Dummy Dataset for testing\n",
    "\n",
    "from datetime import datetime\n",
    "dest = [\"Seattle\", \"New York\", \"New Jersey\", \"Los Angeles\", \"Las Vegas\", \"Tucson\",\"Washington DC\",\"Philadelphia\",\"Miami\",\"San Francisco\"]\n",
    "def get_json_data(start, count, dest):\n",
    "    time_stamp = datetime.now().strftime('%Y-%m-%d %H:%M:%S.%f')[:-3]\n",
    "    data = [{\"trip_id\": i, \"ts\": time_stamp, \"route_id\": chr(65 + (i % 10)), \"destination\": dest[i%10]} for i in range(start, start + count)]\n",
    "    return data"
   ]
  },
  {
   "cell_type": "code",
   "execution_count": 8,
   "id": "d9832110",
   "metadata": {},
   "outputs": [
    {
     "data": {
      "application/vnd.jupyter.widget-view+json": {
       "model_id": "",
       "version_major": 2,
       "version_minor": 0
      },
      "text/plain": [
       "FloatProgress(value=0.0, bar_style='info', description='Progress:', layout=Layout(height='25px', width='50%'),…"
      ]
     },
     "metadata": {},
     "output_type": "display_data"
    },
    {
     "name": "stdout",
     "output_type": "stream",
     "text": [
      "'2023-05-17 04:18:42.430'"
     ]
    }
   ],
   "source": [
    "datetime.now().strftime('%Y-%m-%d %H:%M:%S.%f')[:-3]"
   ]
  },
  {
   "cell_type": "code",
   "execution_count": 9,
   "id": "d9b8cd70",
   "metadata": {},
   "outputs": [
    {
     "data": {
      "application/vnd.jupyter.widget-view+json": {
       "model_id": "",
       "version_major": 2,
       "version_minor": 0
      },
      "text/plain": [
       "FloatProgress(value=0.0, bar_style='info', description='Progress:', layout=Layout(height='25px', width='50%'),…"
      ]
     },
     "metadata": {},
     "output_type": "display_data"
    }
   ],
   "source": [
    "#Create a spark dataframe\n",
    "def create_json_df(spark, data):\n",
    "    sc = spark.sparkContext\n",
    "    return spark.read.json(sc.parallelize(data))"
   ]
  },
  {
   "cell_type": "markdown",
   "id": "541ba7b2",
   "metadata": {},
   "source": [
    "## COW IMPLEMENTATION"
   ]
  },
  {
   "cell_type": "code",
   "execution_count": null,
   "id": "97139bc1",
   "metadata": {},
   "outputs": [],
   "source": [
    "#Inserting dataset of large size\n",
    "df = create_json_df(spark, get_json_data(0, 2000000, dest))"
   ]
  },
  {
   "cell_type": "code",
   "execution_count": null,
   "id": "d29bfa78",
   "metadata": {},
   "outputs": [],
   "source": [
    "df.show(truncate=False)"
   ]
  },
  {
   "cell_type": "code",
   "execution_count": 60,
   "id": "a951354f",
   "metadata": {},
   "outputs": [
    {
     "data": {
      "application/vnd.jupyter.widget-view+json": {
       "model_id": "",
       "version_major": 2,
       "version_minor": 0
      },
      "text/plain": [
       "FloatProgress(value=0.0, bar_style='info', description='Progress:', layout=Layout(height='25px', width='50%'),…"
      ]
     },
     "metadata": {},
     "output_type": "display_data"
    }
   ],
   "source": [
    "config = {\n",
    "    \"table_name\": \"hudi_trips_table\",\n",
    "    \"target\": \"s3://emrpocgigaforce/Output/hudi_data/hudi/\",\n",
    "    \"primary_key\": \"trip_id\",\n",
    "    \"sort_key\": \"ts\",\n",
    "    \"commits_to_retain\": \"2\"\n",
    "}"
   ]
  },
  {
   "cell_type": "code",
   "execution_count": null,
   "id": "13731c85",
   "metadata": {},
   "outputs": [],
   "source": [
    "(df.write.format(HUDI_FORMAT)\n",
    "      .option(PRECOMBINE_FIELD_OPT_KEY,config[\"sort_key\"])\n",
    "      .option(RECORDKEY_FIELD_OPT_KEY, config[\"primary_key\"])\n",
    "      .option(TABLE_NAME, config['table_name'])\n",
    "      .option(OPERATION_OPT_KEY, BULK_INSERT_OPERATION_OPT_VAL)\n",
    "      .option(BULK_INSERT_PARALLELISM, 3)\n",
    "      .option(S3_CONSISTENCY_CHECK, \"true\")\n",
    "      .option(HIVE_TABLE_OPT_KEY,config['table_name'])\n",
    "      .option(HIVE_SYNC_ENABLED_OPT_KEY,\"true\")\n",
    "      .option(HIVE_PARTITION_EXTRACTOR_CLASS_OPT_KEY,NONPARTITION_EXTRACTOR_CLASS_OPT_VAL)\n",
    "      .option(KEYGENERATOR_CLASS_OPT_KEY,NONPARTITIONED_KEYGENERATOR_CLASS_OPT_VAL)\n",
    "      .mode(\"Overwrite\")\n",
    "      .save(config['target']))"
   ]
  },
  {
   "cell_type": "code",
   "execution_count": null,
   "id": "b36b893b",
   "metadata": {},
   "outputs": [],
   "source": [
    "spark.sql(\"show tables\").show()"
   ]
  },
  {
   "cell_type": "code",
   "execution_count": null,
   "id": "b1ef639f",
   "metadata": {},
   "outputs": [],
   "source": [
    "spark.sql(\"show create table \"+config['table_name']).show(truncate=False)"
   ]
  },
  {
   "cell_type": "code",
   "execution_count": null,
   "id": "5d4d3167",
   "metadata": {},
   "outputs": [],
   "source": [
    "# Read the table from s3 \n",
    "df2=spark.read.format(HUDI_FORMAT).load(config[\"target\"]+\"/*\")"
   ]
  },
  {
   "cell_type": "code",
   "execution_count": null,
   "id": "aae995ae",
   "metadata": {},
   "outputs": [],
   "source": [
    "df2.show()"
   ]
  },
  {
   "cell_type": "code",
   "execution_count": null,
   "id": "0a147bf2",
   "metadata": {},
   "outputs": [],
   "source": [
    "df2.printSchema()"
   ]
  },
  {
   "cell_type": "code",
   "execution_count": null,
   "id": "c23ccc2c",
   "metadata": {},
   "outputs": [],
   "source": [
    "# Batch Upserting the data \n",
    "# For this process we need to modify some of the data \n",
    "# Modify the data\n",
    "from pyspark.sql.functions import *\n",
    "from pyspark.sql.functions import lit\n",
    "from pyspark.sql.functions import when, col\n",
    "\n",
    "#check for the data\n",
    "df2.filter((df2.trip_id>=1000000) & (df2.trip_id<1000100)).show()"
   ]
  },
  {
   "cell_type": "code",
   "execution_count": null,
   "id": "7355f035",
   "metadata": {},
   "outputs": [],
   "source": [
    "# Changing data for upsert\n",
    "upsert_dest= [\"boston\" for i in range (0,100)]"
   ]
  },
  {
   "cell_type": "code",
   "execution_count": null,
   "id": "fc950299",
   "metadata": {},
   "outputs": [],
   "source": [
    "len(upsert_dest)"
   ]
  },
  {
   "cell_type": "code",
   "execution_count": null,
   "id": "694344bb",
   "metadata": {},
   "outputs": [],
   "source": [
    "df3=create_json_df(spark, get_json_data(1000000,100, upsert_dest))"
   ]
  },
  {
   "cell_type": "code",
   "execution_count": null,
   "id": "c17a3ce3",
   "metadata": {},
   "outputs": [],
   "source": [
    "df3.show(truncate=False)"
   ]
  },
  {
   "cell_type": "code",
   "execution_count": null,
   "id": "a43d203d",
   "metadata": {},
   "outputs": [],
   "source": [
    "# ERROR WHILE UPSERTING DATA\n",
    "# ERROR: The error message `org.apache.hudi.exception.HoodieException: ts(Part -ts) field not found in record. Acceptable fields were` indicates that the timestamp field (by default, \"_ts\" or \"ts\") expected by Hudi for maintaining data versioning could not be found in the dataset being written. \n",
    "# SOLUTION : This error can occur if the name of the timestamp field in the dataset does not match the default Hudi timestamp field name or if the timestamp field is missing from the dataset."
   ]
  },
  {
   "cell_type": "code",
   "execution_count": null,
   "id": "75e18a95",
   "metadata": {},
   "outputs": [],
   "source": [
    "#  UPsert the changes in s3 now\n",
    "\n",
    "\n",
    "(df3.write.format(HUDI_FORMAT)\n",
    "      .option(RECORDKEY_FIELD_OPT_KEY, config[\"primary_key\"])\n",
    "      .option(TABLE_NAME, config['table_name'])\n",
    "      .option(OPERATION_OPT_KEY, UPSERT_OPERATION_OPT_VAL)\n",
    "      .option(UPSERT_PARALLELISM, 4)\n",
    "      .option(S3_CONSISTENCY_CHECK, \"true\")\n",
    "      .option(HUDI_CLEANER_POLICY, KEEP_LATEST_COMMITS)\n",
    "      .option(HUDI_COMMITS_RETAINED,config[\"commits_to_retain\"])\n",
    "      .option(HIVE_TABLE_OPT_KEY,config['table_name'])\n",
    "      .option(HIVE_SYNC_ENABLED_OPT_KEY,\"true\")\n",
    "      .option(HIVE_PARTITION_EXTRACTOR_CLASS_OPT_KEY,NONPARTITION_EXTRACTOR_CLASS_OPT_VAL)\n",
    "      .option(KEYGENERATOR_CLASS_OPT_KEY,NONPARTITIONED_KEYGENERATOR_CLASS_OPT_VAL)  \n",
    "      .mode(\"Append\")\n",
    "      .save(config['target']))"
   ]
  },
  {
   "cell_type": "code",
   "execution_count": null,
   "id": "441b98f7",
   "metadata": {},
   "outputs": [],
   "source": [
    "# Checking the unique commit time\n",
    "spark.sql(\"select distinct(_hoodie_commit_time) as commitTime from hudi_trips_table order by commitTime\").show(20, False)\n"
   ]
  },
  {
   "cell_type": "code",
   "execution_count": null,
   "id": "5fda59d8",
   "metadata": {},
   "outputs": [],
   "source": [
    "spark.sql(\"select trip_id, route_id, ts, destination from \"+config['table_name'] +\" where trip_id between 1000000 and 1000200\").show(150,False)"
   ]
  },
  {
   "cell_type": "code",
   "execution_count": 61,
   "id": "62aabf9f",
   "metadata": {},
   "outputs": [
    {
     "data": {
      "application/vnd.jupyter.widget-view+json": {
       "model_id": "94c6921c72ee4ed9b86a6fb2773cad96",
       "version_major": 2,
       "version_minor": 0
      },
      "text/plain": [
       "FloatProgress(value=0.0, bar_style='info', description='Progress:', layout=Layout(height='25px', width='50%'),…"
      ]
     },
     "metadata": {},
     "output_type": "display_data"
    },
    {
     "name": "stderr",
     "output_type": "stream",
     "text": [
      "Interrupted by user\n"
     ]
    }
   ],
   "source": [
    "# Inserting new data\n",
    "\n",
    "insert_dest=[\"chennai\" for i in range(0,100)]\n",
    "df4=create_json_df(spark,get_json_data(2000000,100,insert_dest))\n",
    "df4.show()"
   ]
  },
  {
   "cell_type": "code",
   "execution_count": null,
   "id": "112bef47",
   "metadata": {},
   "outputs": [],
   "source": [
    "#  Insert the changes in s3 now - same config of hudi options as upsert. Since it is new data it will be inserted directly \n",
    "(df4.write.format(HUDI_FORMAT)\n",
    "      .option(RECORDKEY_FIELD_OPT_KEY, config[\"primary_key\"])\n",
    "      .option(TABLE_NAME, config['table_name'])\n",
    "      .option(OPERATION_OPT_KEY, UPSERT_OPERATION_OPT_VAL)\n",
    "      .option(UPSERT_PARALLELISM, 4)\n",
    "      .option(S3_CONSISTENCY_CHECK, \"true\")\n",
    "      .option(HUDI_CLEANER_POLICY, KEEP_LATEST_COMMITS)\n",
    "      .option(HUDI_COMMITS_RETAINED,config[\"commits_to_retain\"])\n",
    "      .option(HIVE_TABLE_OPT_KEY,config['table_name'])\n",
    "      .option(HIVE_SYNC_ENABLED_OPT_KEY,\"true\")\n",
    "      .option(HIVE_PARTITION_EXTRACTOR_CLASS_OPT_KEY,NONPARTITION_EXTRACTOR_CLASS_OPT_VAL)\n",
    "      .option(KEYGENERATOR_CLASS_OPT_KEY,NONPARTITIONED_KEYGENERATOR_CLASS_OPT_VAL)  \n",
    "      .mode(\"Append\")\n",
    "      .save(config['target']))"
   ]
  },
  {
   "cell_type": "code",
   "execution_count": null,
   "id": "e626cc92",
   "metadata": {},
   "outputs": [],
   "source": [
    "# Check the data \n",
    "spark.sql(\"select * from \" + config['table_name'] +\" where trip_id  between 2000000 and 2000100\").show(50,False)"
   ]
  },
  {
   "cell_type": "markdown",
   "id": "655e9196",
   "metadata": {},
   "source": [
    "#### DELETE\n",
    "Hudi supports implementing two types of deletes on data stored in Hudi tables, by enabling the user to specify a different record payload implementation.\n",
    "\n",
    "For delete neither extra file not commit is added \n",
    "\n",
    "It can't be rollback since data has been deleted from hudi table\n",
    "\n",
    "Soft Deletes : Retain the record key and just null out the values for all the other fields. This can be achieved by ensuring the appropriate fields are nullable in the table schema and simply upserting the table after setting these fields to null.\n",
    "\n",
    "Hard Deletes : A stronger form of deletion is to physically remove any trace of the record from the table. This can be achieved in 3 different ways.\n",
    "\n",
    "    Using DataSource, set OPERATION_OPT_KEY to DELETE_OPERATION_OPT_VAL. This will remove all the records in the DataSet being submitted.\n",
    "    Using DataSource, set PAYLOAD_CLASS_OPT_KEY to \"org.apache.hudi.EmptyHoodieRecordPayload\". This will remove all the records in the DataSet being submitted.\n",
    "    Using DataSource or DeltaStreamer, add a column named _hoodie_is_deleted to DataSet. The value of this column must be set to true for all the records to be deleted and either false or left null for any records which are to be upserted."
   ]
  },
  {
   "cell_type": "code",
   "execution_count": null,
   "id": "61576ea6",
   "metadata": {},
   "outputs": [],
   "source": [
    "# Load Data\n",
    "df5=spark.read.format(HUDI_FORMAT).load(config[\"target\"]+\"/*\")"
   ]
  },
  {
   "cell_type": "code",
   "execution_count": null,
   "id": "2bef9b6f",
   "metadata": {},
   "outputs": [],
   "source": [
    "df5.show(10,False)"
   ]
  },
  {
   "cell_type": "code",
   "execution_count": null,
   "id": "4b80aa14",
   "metadata": {},
   "outputs": [],
   "source": [
    "df5.count()"
   ]
  },
  {
   "cell_type": "code",
   "execution_count": null,
   "id": "aec750b9",
   "metadata": {},
   "outputs": [],
   "source": [
    "# Soft Delete\n",
    "# df6=df5.filter((df5.trip_id>2000050) & (df.trip_id<2000100))\n",
    "df6=df5.filter(col(\"trip_id\").between(2000050,2000100))"
   ]
  },
  {
   "cell_type": "code",
   "execution_count": null,
   "id": "492ea2d0",
   "metadata": {},
   "outputs": [],
   "source": [
    "df6.show()"
   ]
  },
  {
   "cell_type": "code",
   "execution_count": null,
   "id": "32e14ca4",
   "metadata": {},
   "outputs": [],
   "source": [
    "(df6.write.format(HUDI_FORMAT)\n",
    "      .option(RECORDKEY_FIELD_OPT_KEY, config[\"primary_key\"])\n",
    "      .option(TABLE_NAME, config['table_name'])\n",
    "      .option(OPERATION_OPT_KEY, UPSERT_OPERATION_OPT_VAL)\n",
    "      .option(UPSERT_PARALLELISM, 4)\n",
    "      .option(S3_CONSISTENCY_CHECK, \"true\")\n",
    "      .option(HUDI_CLEANER_POLICY, KEEP_LATEST_COMMITS)\n",
    "      .option(HUDI_COMMITS_RETAINED,config[\"commits_to_retain\"])\n",
    "      .option(HIVE_TABLE_OPT_KEY,config['table_name'])\n",
    "      .option(HIVE_SYNC_ENABLED_OPT_KEY,\"true\")\n",
    "      .option(HIVE_PARTITION_EXTRACTOR_CLASS_OPT_KEY,NONPARTITION_EXTRACTOR_CLASS_OPT_VAL)\n",
    "      .option(KEYGENERATOR_CLASS_OPT_KEY,NONPARTITIONED_KEYGENERATOR_CLASS_OPT_VAL)\n",
    "      .option(PAYLOAD_CLASS_OPT_KEY,EMPTY_PAYLOAD_CLASS_OPT_VAL)    # Deleting the record so this option needs to be added \n",
    "      .mode(\"Append\")\n",
    "      .save(config['target']))"
   ]
  },
  {
   "cell_type": "code",
   "execution_count": null,
   "id": "6bdf1b74",
   "metadata": {},
   "outputs": [],
   "source": [
    "# Load Data\n",
    "df7=spark.read.format(HUDI_FORMAT).load(config[\"target\"]+\"/*\")"
   ]
  },
  {
   "cell_type": "code",
   "execution_count": null,
   "id": "32d7bb43",
   "metadata": {},
   "outputs": [],
   "source": [
    "df7.filter(col(\"trip_id\")>2000000).orderBy(col(\"trip_id\").asc()).show(100,False)"
   ]
  },
  {
   "cell_type": "code",
   "execution_count": null,
   "id": "5f1b81bb",
   "metadata": {},
   "outputs": [],
   "source": [
    "spark.sql(\"select distinct(_hoodie_commit_time) as commitTime from hudi_trips_table order by commitTime\").show(20, False)\n"
   ]
  },
  {
   "cell_type": "code",
   "execution_count": null,
   "id": "06385775",
   "metadata": {},
   "outputs": [],
   "source": [
    "# Check the recent commits made in table\n",
    "df7.orderBy(col(\"_hoodie_commit_time\").desc()).show(200,False)"
   ]
  },
  {
   "cell_type": "code",
   "execution_count": null,
   "id": "51750c60",
   "metadata": {},
   "outputs": [],
   "source": []
  },
  {
   "attachments": {
    "image-2.png": {
     "image/png": "[encoded data removed]"
    },
    "image-3.png": {
     "image/png": "[encoded data removed]"
    },
    "image.png": {
     "image/png": "[encoded data removed]"
    }
   },
   "cell_type": "markdown",
   "id": "dd1b6048",
   "metadata": {},
   "source": [
    "#### MERGE on READ TABLE\n",
    "#### ![image.png](attachment:image.png)\n",
    "#### ![image-2.png](attachment:image-2.png)\n",
    "#### ![image-3.png](attachment:image-3.png)\n"
   ]
  },
  {
   "cell_type": "markdown",
   "id": "a6b69514",
   "metadata": {},
   "source": [
    "### MOR definition\n",
    "The default table type is Copy-On-Write which is best suited for read-heavy workloads with modest writes. Copy-On-Write creates commit files with original data + the new changes during writing itself. While this increases latency on writes, this set up makes it more manageable for faster read.\n",
    "\n",
    "For near real-time applications that mandate quick upserts, MERGE_ON_READ table type would be better suited. MOR table stores incoming upserts for each file group, onto a row based delta log (In Avro file format). This log is then merged with the existing Parquet file using a a compactor during reads."
   ]
  },
  {
   "cell_type": "markdown",
   "id": "5756c8ae",
   "metadata": {},
   "source": [
    "## MOR IMPLEMENTATION"
   ]
  },
  {
   "cell_type": "code",
   "execution_count": 10,
   "id": "72720cc0",
   "metadata": {},
   "outputs": [
    {
     "data": {
      "application/vnd.jupyter.widget-view+json": {
       "model_id": "",
       "version_major": 2,
       "version_minor": 0
      },
      "text/plain": [
       "FloatProgress(value=0.0, bar_style='info', description='Progress:', layout=Layout(height='25px', width='50%'),…"
      ]
     },
     "metadata": {},
     "output_type": "display_data"
    }
   ],
   "source": [
    "config = {\n",
    "    \"table_name\": \"hudi_mor_trips_table\",\n",
    "    \"table_name_rt\": \"hudi_mor_trips_table_rt\",\n",
    "    \"target\": \"s3://emrpocgigaforce/Output/hudi_data/hudi/hudi_mor/\",\n",
    "    \"primary_key\": \"trip_id\",\n",
    "    \"sort_key\": \"ts\",\n",
    "    \"commits_to_retain\": \"2\",\n",
    "}"
   ]
  },
  {
   "cell_type": "code",
   "execution_count": 13,
   "id": "6a97b1ee",
   "metadata": {},
   "outputs": [
    {
     "data": {
      "application/vnd.jupyter.widget-view+json": {
       "model_id": "",
       "version_major": 2,
       "version_minor": 0
      },
      "text/plain": [
       "FloatProgress(value=0.0, bar_style='info', description='Progress:', layout=Layout(height='25px', width='50%'),…"
      ]
     },
     "metadata": {},
     "output_type": "display_data"
    }
   ],
   "source": [
    "STORAGE_TYPE_OPT_KEY=\"hoodie.datasource.write.storage.type\"\n",
    "COMPACTION_INLINE_OPT_KEY=\"hoodie.compact.inline\"\n",
    "COMPACTION_MAX_DELTA_COMMITS_OPT_KEY=\"hoodie.compact.inline.max.delta.commits\""
   ]
  },
  {
   "cell_type": "code",
   "execution_count": 11,
   "id": "417f8962",
   "metadata": {},
   "outputs": [
    {
     "data": {
      "application/vnd.jupyter.widget-view+json": {
       "model_id": "",
       "version_major": 2,
       "version_minor": 0
      },
      "text/plain": [
       "FloatProgress(value=0.0, bar_style='info', description='Progress:', layout=Layout(height='25px', width='50%'),…"
      ]
     },
     "metadata": {},
     "output_type": "display_data"
    }
   ],
   "source": [
    "df_mor=create_json_df(spark, get_json_data(0, 2000000, dest))"
   ]
  },
  {
   "cell_type": "code",
   "execution_count": 14,
   "id": "1687a9cf",
   "metadata": {},
   "outputs": [
    {
     "data": {
      "application/vnd.jupyter.widget-view+json": {
       "model_id": "",
       "version_major": 2,
       "version_minor": 0
      },
      "text/plain": [
       "FloatProgress(value=0.0, bar_style='info', description='Progress:', layout=Layout(height='25px', width='50%'),…"
      ]
     },
     "metadata": {},
     "output_type": "display_data"
    }
   ],
   "source": [
    "(df_mor.write.format(HUDI_FORMAT)\n",
    "      .option(PRECOMBINE_FIELD_OPT_KEY,config[\"sort_key\"])\n",
    "      .option(RECORDKEY_FIELD_OPT_KEY, config[\"primary_key\"])\n",
    "      .option(TABLE_NAME, config['table_name'])\n",
    "      .option(OPERATION_OPT_KEY, BULK_INSERT_OPERATION_OPT_VAL)\n",
    "      .option(BULK_INSERT_PARALLELISM, 3)\n",
    "      .option(S3_CONSISTENCY_CHECK, \"true\")\n",
    "      .option(HIVE_TABLE_OPT_KEY,config['table_name'])\n",
    "      .option(HIVE_SYNC_ENABLED_OPT_KEY,\"true\")\n",
    "      .option(HIVE_PARTITION_EXTRACTOR_CLASS_OPT_KEY,NONPARTITION_EXTRACTOR_CLASS_OPT_VAL)\n",
    "      .option(KEYGENERATOR_CLASS_OPT_KEY,NONPARTITIONED_KEYGENERATOR_CLASS_OPT_VAL)\n",
    "      .option(STORAGE_TYPE_OPT_KEY,\"MERGE_ON_READ\")\n",
    "      .option(COMPACTION_INLINE_OPT_KEY,\"false\")\n",
    "      .option(COMPACTION_MAX_DELTA_COMMITS_OPT_KEY,\"20\")\n",
    "      .mode(\"Overwrite\")\n",
    "      .save(config['target'])\n",
    ")"
   ]
  },
  {
   "cell_type": "code",
   "execution_count": null,
   "id": "b146fb36",
   "metadata": {},
   "outputs": [],
   "source": []
  },
  {
   "cell_type": "code",
   "execution_count": 15,
   "id": "7ca38f05",
   "metadata": {},
   "outputs": [
    {
     "data": {
      "application/vnd.jupyter.widget-view+json": {
       "model_id": "",
       "version_major": 2,
       "version_minor": 0
      },
      "text/plain": [
       "FloatProgress(value=0.0, bar_style='info', description='Progress:', layout=Layout(height='25px', width='50%'),…"
      ]
     },
     "metadata": {},
     "output_type": "display_data"
    },
    {
     "name": "stdout",
     "output_type": "stream",
     "text": [
      "+---------+-----------------------+-----------+\n",
      "|namespace|tableName              |isTemporary|\n",
      "+---------+-----------------------+-----------+\n",
      "|default  |hudi_mor_trips_table_ro|false      |\n",
      "|default  |hudi_mor_trips_table_rt|false      |\n",
      "+---------+-----------------------+-----------+"
     ]
    }
   ],
   "source": [
    "spark.sql(\"show tables\").show(10,False)"
   ]
  },
  {
   "cell_type": "code",
   "execution_count": 16,
   "id": "e37c4c72",
   "metadata": {},
   "outputs": [
    {
     "data": {
      "application/vnd.jupyter.widget-view+json": {
       "model_id": "",
       "version_major": 2,
       "version_minor": 0
      },
      "text/plain": [
       "FloatProgress(value=0.0, bar_style='info', description='Progress:', layout=Layout(height='25px', width='50%'),…"
      ]
     },
     "metadata": {},
     "output_type": "display_data"
    },
    {
     "name": "stdout",
     "output_type": "stream",
     "text": [
      "+------------------------------------------------------------------------------------------------------------------------------------------------------------------------------------------------------------------------------------------------------------------------------------------------------------------------------------------------------------------------------------------------------------------------------------------------------------------------------------------------------------------------+\n",
      "|createtab_stmt                                                                                                                                                                                                                                                                                                                                                                                                                                                                                                          |\n",
      "+------------------------------------------------------------------------------------------------------------------------------------------------------------------------------------------------------------------------------------------------------------------------------------------------------------------------------------------------------------------------------------------------------------------------------------------------------------------------------------------------------------------------+\n",
      "|CREATE TABLE default.hudi_mor_trips_table_ro (\\n  _hoodie_commit_time STRING,\\n  _hoodie_commit_seqno STRING,\\n  _hoodie_record_key STRING,\\n  _hoodie_partition_path STRING,\\n  _hoodie_file_name STRING,\\n  destination STRING,\\n  route_id STRING,\\n  trip_id BIGINT,\\n  ts STRING)\\nUSING hudi\\nOPTIONS (\\n  'hoodie.query.as.ro.table' = 'true')\\nLOCATION 's3://emrpocgigaforce/Output/hudi_data/hudi/hudi_mor'\\nTBLPROPERTIES (\\n  'bucketing_version' = '2',\\n  'last_commit_time_sync' = '20230517042030442')\\n|\n",
      "+------------------------------------------------------------------------------------------------------------------------------------------------------------------------------------------------------------------------------------------------------------------------------------------------------------------------------------------------------------------------------------------------------------------------------------------------------------------------------------------------------------------------+"
     ]
    }
   ],
   "source": [
    "spark.sql(\"show create table \" + config['table_name'] + \"_ro\").show(20,False)"
   ]
  },
  {
   "cell_type": "code",
   "execution_count": 17,
   "id": "6a6b6435",
   "metadata": {},
   "outputs": [
    {
     "data": {
      "application/vnd.jupyter.widget-view+json": {
       "model_id": "",
       "version_major": 2,
       "version_minor": 0
      },
      "text/plain": [
       "FloatProgress(value=0.0, bar_style='info', description='Progress:', layout=Layout(height='25px', width='50%'),…"
      ]
     },
     "metadata": {},
     "output_type": "display_data"
    },
    {
     "name": "stdout",
     "output_type": "stream",
     "text": [
      "+-------------------------------------------------------------------------------------------------------------------------------------------------------------------------------------------------------------------------------------------------------------------------------------------------------------------------------------------------------------------------------------------------------------------------------------------------------------------------------------------------------------------------+\n",
      "|createtab_stmt                                                                                                                                                                                                                                                                                                                                                                                                                                                                                                           |\n",
      "+-------------------------------------------------------------------------------------------------------------------------------------------------------------------------------------------------------------------------------------------------------------------------------------------------------------------------------------------------------------------------------------------------------------------------------------------------------------------------------------------------------------------------+\n",
      "|CREATE TABLE default.hudi_mor_trips_table_rt (\\n  _hoodie_commit_time STRING,\\n  _hoodie_commit_seqno STRING,\\n  _hoodie_record_key STRING,\\n  _hoodie_partition_path STRING,\\n  _hoodie_file_name STRING,\\n  destination STRING,\\n  route_id STRING,\\n  trip_id BIGINT,\\n  ts STRING)\\nUSING hudi\\nOPTIONS (\\n  'hoodie.query.as.ro.table' = 'false')\\nLOCATION 's3://emrpocgigaforce/Output/hudi_data/hudi/hudi_mor'\\nTBLPROPERTIES (\\n  'bucketing_version' = '2',\\n  'last_commit_time_sync' = '20230517042030442')\\n|\n",
      "+-------------------------------------------------------------------------------------------------------------------------------------------------------------------------------------------------------------------------------------------------------------------------------------------------------------------------------------------------------------------------------------------------------------------------------------------------------------------------------------------------------------------------+"
     ]
    }
   ],
   "source": [
    "spark.sql(\"show create table \" + config['table_name'] + \"_rt\").show(20,False)"
   ]
  },
  {
   "cell_type": "code",
   "execution_count": 18,
   "id": "0b2a732e",
   "metadata": {},
   "outputs": [
    {
     "data": {
      "application/vnd.jupyter.widget-view+json": {
       "model_id": "",
       "version_major": 2,
       "version_minor": 0
      },
      "text/plain": [
       "FloatProgress(value=0.0, bar_style='info', description='Progress:', layout=Layout(height='25px', width='50%'),…"
      ]
     },
     "metadata": {},
     "output_type": "display_data"
    }
   ],
   "source": [
    "df2_mor=spark.read.format(HUDI_FORMAT).load(config['target'] + \"/*\")\n"
   ]
  },
  {
   "cell_type": "code",
   "execution_count": 19,
   "id": "c1ae9ca1",
   "metadata": {},
   "outputs": [
    {
     "data": {
      "application/vnd.jupyter.widget-view+json": {
       "model_id": "",
       "version_major": 2,
       "version_minor": 0
      },
      "text/plain": [
       "FloatProgress(value=0.0, bar_style='info', description='Progress:', layout=Layout(height='25px', width='50%'),…"
      ]
     },
     "metadata": {},
     "output_type": "display_data"
    },
    {
     "name": "stdout",
     "output_type": "stream",
     "text": [
      "+-------------------+----------------------+------------------+----------------------+----------------------------------------------------------------------+-------------+--------+-------+-----------------------+\n",
      "|_hoodie_commit_time|_hoodie_commit_seqno  |_hoodie_record_key|_hoodie_partition_path|_hoodie_file_name                                                     |destination  |route_id|trip_id|ts                     |\n",
      "+-------------------+----------------------+------------------+----------------------+----------------------------------------------------------------------+-------------+--------+-------+-----------------------+\n",
      "|20230517042030442  |20230517042030442_1_1 |1000448           |                      |84afd4d0-aed4-4e04-9391-dbbc09be6f83-0_1-3-0_20230517042030442.parquet|Miami        |I       |1000448|2023-05-17 04:19:52.063|\n",
      "|20230517042030442  |20230517042030442_1_3 |1000449           |                      |84afd4d0-aed4-4e04-9391-dbbc09be6f83-0_1-3-0_20230517042030442.parquet|San Francisco|J       |1000449|2023-05-17 04:19:52.063|\n",
      "|20230517042030442  |20230517042030442_1_6 |1000450           |                      |84afd4d0-aed4-4e04-9391-dbbc09be6f83-0_1-3-0_20230517042030442.parquet|Seattle      |A       |1000450|2023-05-17 04:19:52.063|\n",
      "|20230517042030442  |20230517042030442_1_8 |1000451           |                      |84afd4d0-aed4-4e04-9391-dbbc09be6f83-0_1-3-0_20230517042030442.parquet|New York     |B       |1000451|2023-05-17 04:19:52.063|\n",
      "|20230517042030442  |20230517042030442_1_10|1000452           |                      |84afd4d0-aed4-4e04-9391-dbbc09be6f83-0_1-3-0_20230517042030442.parquet|New Jersey   |C       |1000452|2023-05-17 04:19:52.063|\n",
      "|20230517042030442  |20230517042030442_1_11|1000453           |                      |84afd4d0-aed4-4e04-9391-dbbc09be6f83-0_1-3-0_20230517042030442.parquet|Los Angeles  |D       |1000453|2023-05-17 04:19:52.063|\n",
      "|20230517042030442  |20230517042030442_1_13|1000454           |                      |84afd4d0-aed4-4e04-9391-dbbc09be6f83-0_1-3-0_20230517042030442.parquet|Las Vegas    |E       |1000454|2023-05-17 04:19:52.063|\n",
      "|20230517042030442  |20230517042030442_1_14|1000455           |                      |84afd4d0-aed4-4e04-9391-dbbc09be6f83-0_1-3-0_20230517042030442.parquet|Tucson       |F       |1000455|2023-05-17 04:19:52.063|\n",
      "|20230517042030442  |20230517042030442_1_15|1000456           |                      |84afd4d0-aed4-4e04-9391-dbbc09be6f83-0_1-3-0_20230517042030442.parquet|Washington DC|G       |1000456|2023-05-17 04:19:52.063|\n",
      "|20230517042030442  |20230517042030442_1_16|1000457           |                      |84afd4d0-aed4-4e04-9391-dbbc09be6f83-0_1-3-0_20230517042030442.parquet|Philadelphia |H       |1000457|2023-05-17 04:19:52.063|\n",
      "|20230517042030442  |20230517042030442_1_17|1000458           |                      |84afd4d0-aed4-4e04-9391-dbbc09be6f83-0_1-3-0_20230517042030442.parquet|Miami        |I       |1000458|2023-05-17 04:19:52.063|\n",
      "|20230517042030442  |20230517042030442_1_18|1000459           |                      |84afd4d0-aed4-4e04-9391-dbbc09be6f83-0_1-3-0_20230517042030442.parquet|San Francisco|J       |1000459|2023-05-17 04:19:52.063|\n",
      "|20230517042030442  |20230517042030442_1_19|1000460           |                      |84afd4d0-aed4-4e04-9391-dbbc09be6f83-0_1-3-0_20230517042030442.parquet|Seattle      |A       |1000460|2023-05-17 04:19:52.063|\n",
      "|20230517042030442  |20230517042030442_1_20|1000461           |                      |84afd4d0-aed4-4e04-9391-dbbc09be6f83-0_1-3-0_20230517042030442.parquet|New York     |B       |1000461|2023-05-17 04:19:52.063|\n",
      "|20230517042030442  |20230517042030442_1_22|1000462           |                      |84afd4d0-aed4-4e04-9391-dbbc09be6f83-0_1-3-0_20230517042030442.parquet|New Jersey   |C       |1000462|2023-05-17 04:19:52.063|\n",
      "|20230517042030442  |20230517042030442_1_23|1000463           |                      |84afd4d0-aed4-4e04-9391-dbbc09be6f83-0_1-3-0_20230517042030442.parquet|Los Angeles  |D       |1000463|2023-05-17 04:19:52.063|\n",
      "|20230517042030442  |20230517042030442_1_24|1000464           |                      |84afd4d0-aed4-4e04-9391-dbbc09be6f83-0_1-3-0_20230517042030442.parquet|Las Vegas    |E       |1000464|2023-05-17 04:19:52.063|\n",
      "|20230517042030442  |20230517042030442_1_25|1000465           |                      |84afd4d0-aed4-4e04-9391-dbbc09be6f83-0_1-3-0_20230517042030442.parquet|Tucson       |F       |1000465|2023-05-17 04:19:52.063|\n",
      "|20230517042030442  |20230517042030442_1_26|1000466           |                      |84afd4d0-aed4-4e04-9391-dbbc09be6f83-0_1-3-0_20230517042030442.parquet|Washington DC|G       |1000466|2023-05-17 04:19:52.063|\n",
      "|20230517042030442  |20230517042030442_1_27|1000467           |                      |84afd4d0-aed4-4e04-9391-dbbc09be6f83-0_1-3-0_20230517042030442.parquet|Philadelphia |H       |1000467|2023-05-17 04:19:52.063|\n",
      "+-------------------+----------------------+------------------+----------------------+----------------------------------------------------------------------+-------------+--------+-------+-----------------------+\n",
      "only showing top 20 rows"
     ]
    }
   ],
   "source": [
    "df2_mor.show(20,False)"
   ]
  },
  {
   "cell_type": "code",
   "execution_count": 20,
   "id": "c3d14019",
   "metadata": {},
   "outputs": [
    {
     "data": {
      "application/vnd.jupyter.widget-view+json": {
       "model_id": "",
       "version_major": 2,
       "version_minor": 0
      },
      "text/plain": [
       "FloatProgress(value=0.0, bar_style='info', description='Progress:', layout=Layout(height='25px', width='50%'),…"
      ]
     },
     "metadata": {},
     "output_type": "display_data"
    },
    {
     "name": "stdout",
     "output_type": "stream",
     "text": [
      "+-------------------+----------------------+------------------+----------------------+----------------------------------------------------------------------+-------------+--------+-------+-----------------------+\n",
      "|_hoodie_commit_time|_hoodie_commit_seqno  |_hoodie_record_key|_hoodie_partition_path|_hoodie_file_name                                                     |destination  |route_id|trip_id|ts                     |\n",
      "+-------------------+----------------------+------------------+----------------------+----------------------------------------------------------------------+-------------+--------+-------+-----------------------+\n",
      "|20230517042030442  |20230517042030442_0_2 |0                 |                      |029ee7b5-7b1b-4a1e-a43d-0cdd91ce8866-0_0-2-0_20230517042030442.parquet|Seattle      |A       |0      |2023-05-17 04:19:52.063|\n",
      "|20230517042030442  |20230517042030442_0_4 |1                 |                      |029ee7b5-7b1b-4a1e-a43d-0cdd91ce8866-0_0-2-0_20230517042030442.parquet|New York     |B       |1      |2023-05-17 04:19:52.063|\n",
      "|20230517042030442  |20230517042030442_0_5 |2                 |                      |029ee7b5-7b1b-4a1e-a43d-0cdd91ce8866-0_0-2-0_20230517042030442.parquet|New Jersey   |C       |2      |2023-05-17 04:19:52.063|\n",
      "|20230517042030442  |20230517042030442_0_7 |3                 |                      |029ee7b5-7b1b-4a1e-a43d-0cdd91ce8866-0_0-2-0_20230517042030442.parquet|Los Angeles  |D       |3      |2023-05-17 04:19:52.063|\n",
      "|20230517042030442  |20230517042030442_0_9 |4                 |                      |029ee7b5-7b1b-4a1e-a43d-0cdd91ce8866-0_0-2-0_20230517042030442.parquet|Las Vegas    |E       |4      |2023-05-17 04:19:52.063|\n",
      "|20230517042030442  |20230517042030442_0_12|5                 |                      |029ee7b5-7b1b-4a1e-a43d-0cdd91ce8866-0_0-2-0_20230517042030442.parquet|Tucson       |F       |5      |2023-05-17 04:19:52.063|\n",
      "|20230517042030442  |20230517042030442_0_21|6                 |                      |029ee7b5-7b1b-4a1e-a43d-0cdd91ce8866-0_0-2-0_20230517042030442.parquet|Washington DC|G       |6      |2023-05-17 04:19:52.063|\n",
      "|20230517042030442  |20230517042030442_0_39|7                 |                      |029ee7b5-7b1b-4a1e-a43d-0cdd91ce8866-0_0-2-0_20230517042030442.parquet|Philadelphia |H       |7      |2023-05-17 04:19:52.063|\n",
      "|20230517042030442  |20230517042030442_0_41|8                 |                      |029ee7b5-7b1b-4a1e-a43d-0cdd91ce8866-0_0-2-0_20230517042030442.parquet|Miami        |I       |8      |2023-05-17 04:19:52.063|\n",
      "|20230517042030442  |20230517042030442_0_43|9                 |                      |029ee7b5-7b1b-4a1e-a43d-0cdd91ce8866-0_0-2-0_20230517042030442.parquet|San Francisco|J       |9      |2023-05-17 04:19:52.063|\n",
      "|20230517042030442  |20230517042030442_0_45|10                |                      |029ee7b5-7b1b-4a1e-a43d-0cdd91ce8866-0_0-2-0_20230517042030442.parquet|Seattle      |A       |10     |2023-05-17 04:19:52.063|\n",
      "|20230517042030442  |20230517042030442_0_47|11                |                      |029ee7b5-7b1b-4a1e-a43d-0cdd91ce8866-0_0-2-0_20230517042030442.parquet|New York     |B       |11     |2023-05-17 04:19:52.063|\n",
      "|20230517042030442  |20230517042030442_0_49|12                |                      |029ee7b5-7b1b-4a1e-a43d-0cdd91ce8866-0_0-2-0_20230517042030442.parquet|New Jersey   |C       |12     |2023-05-17 04:19:52.063|\n",
      "|20230517042030442  |20230517042030442_0_51|13                |                      |029ee7b5-7b1b-4a1e-a43d-0cdd91ce8866-0_0-2-0_20230517042030442.parquet|Los Angeles  |D       |13     |2023-05-17 04:19:52.063|\n",
      "|20230517042030442  |20230517042030442_0_53|14                |                      |029ee7b5-7b1b-4a1e-a43d-0cdd91ce8866-0_0-2-0_20230517042030442.parquet|Las Vegas    |E       |14     |2023-05-17 04:19:52.063|\n",
      "|20230517042030442  |20230517042030442_0_55|15                |                      |029ee7b5-7b1b-4a1e-a43d-0cdd91ce8866-0_0-2-0_20230517042030442.parquet|Tucson       |F       |15     |2023-05-17 04:19:52.063|\n",
      "|20230517042030442  |20230517042030442_0_57|16                |                      |029ee7b5-7b1b-4a1e-a43d-0cdd91ce8866-0_0-2-0_20230517042030442.parquet|Washington DC|G       |16     |2023-05-17 04:19:52.063|\n",
      "|20230517042030442  |20230517042030442_0_59|17                |                      |029ee7b5-7b1b-4a1e-a43d-0cdd91ce8866-0_0-2-0_20230517042030442.parquet|Philadelphia |H       |17     |2023-05-17 04:19:52.063|\n",
      "|20230517042030442  |20230517042030442_0_61|18                |                      |029ee7b5-7b1b-4a1e-a43d-0cdd91ce8866-0_0-2-0_20230517042030442.parquet|Miami        |I       |18     |2023-05-17 04:19:52.063|\n",
      "|20230517042030442  |20230517042030442_0_63|19                |                      |029ee7b5-7b1b-4a1e-a43d-0cdd91ce8866-0_0-2-0_20230517042030442.parquet|San Francisco|J       |19     |2023-05-17 04:19:52.063|\n",
      "+-------------------+----------------------+------------------+----------------------+----------------------------------------------------------------------+-------------+--------+-------+-----------------------+\n",
      "only showing top 20 rows"
     ]
    }
   ],
   "source": [
    "spark.sql(\"select * from \" + config['table_name'] + \"_ro\").show(20,False)"
   ]
  },
  {
   "cell_type": "code",
   "execution_count": 21,
   "id": "1a72a273",
   "metadata": {},
   "outputs": [
    {
     "data": {
      "application/vnd.jupyter.widget-view+json": {
       "model_id": "",
       "version_major": 2,
       "version_minor": 0
      },
      "text/plain": [
       "FloatProgress(value=0.0, bar_style='info', description='Progress:', layout=Layout(height='25px', width='50%'),…"
      ]
     },
     "metadata": {},
     "output_type": "display_data"
    },
    {
     "name": "stdout",
     "output_type": "stream",
     "text": [
      "+-----------+--------+-------+-----------------------+\n",
      "|destination|route_id|trip_id|ts                     |\n",
      "+-----------+--------+-------+-----------------------+\n",
      "|noida      |A       |1000000|2023-05-17 04:22:20.255|\n",
      "|noida      |B       |1000001|2023-05-17 04:22:20.255|\n",
      "|noida      |C       |1000002|2023-05-17 04:22:20.255|\n",
      "|noida      |D       |1000003|2023-05-17 04:22:20.255|\n",
      "|noida      |E       |1000004|2023-05-17 04:22:20.255|\n",
      "|noida      |F       |1000005|2023-05-17 04:22:20.255|\n",
      "|noida      |G       |1000006|2023-05-17 04:22:20.255|\n",
      "|noida      |H       |1000007|2023-05-17 04:22:20.255|\n",
      "|noida      |I       |1000008|2023-05-17 04:22:20.255|\n",
      "|noida      |J       |1000009|2023-05-17 04:22:20.255|\n",
      "|noida      |A       |1000010|2023-05-17 04:22:20.255|\n",
      "|noida      |B       |1000011|2023-05-17 04:22:20.255|\n",
      "|noida      |C       |1000012|2023-05-17 04:22:20.255|\n",
      "|noida      |D       |1000013|2023-05-17 04:22:20.255|\n",
      "|noida      |E       |1000014|2023-05-17 04:22:20.255|\n",
      "|noida      |F       |1000015|2023-05-17 04:22:20.255|\n",
      "|noida      |G       |1000016|2023-05-17 04:22:20.255|\n",
      "|noida      |H       |1000017|2023-05-17 04:22:20.255|\n",
      "|noida      |I       |1000018|2023-05-17 04:22:20.255|\n",
      "|noida      |J       |1000019|2023-05-17 04:22:20.255|\n",
      "+-----------+--------+-------+-----------------------+\n",
      "only showing top 20 rows"
     ]
    }
   ],
   "source": [
    "# Changing data for upsert\n",
    "upsert_dest_mor= [\"noida\" for i in range (0,100)]\n",
    "df3_mor=create_json_df(spark, get_json_data(1000000,100, upsert_dest_mor))\n",
    "df3_mor.show(20,False)"
   ]
  },
  {
   "cell_type": "code",
   "execution_count": 22,
   "id": "6e417b9b",
   "metadata": {},
   "outputs": [
    {
     "data": {
      "application/vnd.jupyter.widget-view+json": {
       "model_id": "",
       "version_major": 2,
       "version_minor": 0
      },
      "text/plain": [
       "FloatProgress(value=0.0, bar_style='info', description='Progress:', layout=Layout(height='25px', width='50%'),…"
      ]
     },
     "metadata": {},
     "output_type": "display_data"
    }
   ],
   "source": [
    "(df3_mor.write.format(HUDI_FORMAT)\n",
    "      .option(PRECOMBINE_FIELD_OPT_KEY, config[\"sort_key\"])\n",
    "      .option(RECORDKEY_FIELD_OPT_KEY, config[\"primary_key\"])\n",
    "      .option(TABLE_NAME, config['table_name'])\n",
    "      .option(OPERATION_OPT_KEY, UPSERT_OPERATION_OPT_VAL)\n",
    "      .option(UPSERT_PARALLELISM, 3)\n",
    "      .option(S3_CONSISTENCY_CHECK, \"true\")\n",
    "      .option(HUDI_CLEANER_POLICY, KEEP_LATEST_COMMITS)\n",
    "      .option(HUDI_COMMITS_RETAINED,config[\"commits_to_retain\"])\n",
    "      .option(HIVE_TABLE_OPT_KEY,config['table_name'])\n",
    "      .option(HIVE_SYNC_ENABLED_OPT_KEY,\"true\")\n",
    "      .option(HIVE_PARTITION_EXTRACTOR_CLASS_OPT_KEY,NONPARTITION_EXTRACTOR_CLASS_OPT_VAL)\n",
    "      .option(KEYGENERATOR_CLASS_OPT_KEY,NONPARTITIONED_KEYGENERATOR_CLASS_OPT_VAL)  \n",
    "      .option(STORAGE_TYPE_OPT_KEY, \"MERGE_ON_READ\")\n",
    "      .option(COMPACTION_INLINE_OPT_KEY, \"false\")\n",
    "      .option(COMPACTION_MAX_DELTA_COMMITS_OPT_KEY, \"20\")\n",
    "      .mode(\"Append\")\n",
    "      .save(config['target']))"
   ]
  },
  {
   "cell_type": "code",
   "execution_count": 23,
   "id": "23498e78",
   "metadata": {},
   "outputs": [
    {
     "data": {
      "application/vnd.jupyter.widget-view+json": {
       "model_id": "",
       "version_major": 2,
       "version_minor": 0
      },
      "text/plain": [
       "FloatProgress(value=0.0, bar_style='info', description='Progress:', layout=Layout(height='25px', width='50%'),…"
      ]
     },
     "metadata": {},
     "output_type": "display_data"
    }
   ],
   "source": [
    "df4_mor=spark.read.format(HUDI_FORMAT).load(config['target'] + \"/*\")"
   ]
  },
  {
   "cell_type": "code",
   "execution_count": 25,
   "id": "732184a9",
   "metadata": {},
   "outputs": [
    {
     "data": {
      "application/vnd.jupyter.widget-view+json": {
       "model_id": "",
       "version_major": 2,
       "version_minor": 0
      },
      "text/plain": [
       "FloatProgress(value=0.0, bar_style='info', description='Progress:', layout=Layout(height='25px', width='50%'),…"
      ]
     },
     "metadata": {},
     "output_type": "display_data"
    },
    {
     "name": "stdout",
     "output_type": "stream",
     "text": [
      "+-------------------+-----------------------+------------------+----------------------+--------------------------------------+-----------+--------+-------+-----------------------+\n",
      "|_hoodie_commit_time|_hoodie_commit_seqno   |_hoodie_record_key|_hoodie_partition_path|_hoodie_file_name                     |destination|route_id|trip_id|ts                     |\n",
      "+-------------------+-----------------------+------------------+----------------------+--------------------------------------+-----------+--------+-------+-----------------------+\n",
      "|20230517042222304  |20230517042222304_0_6  |1000000           |                      |029ee7b5-7b1b-4a1e-a43d-0cdd91ce8866-0|noida      |A       |1000000|2023-05-17 04:22:20.255|\n",
      "|20230517042222304  |20230517042222304_0_96 |1000001           |                      |029ee7b5-7b1b-4a1e-a43d-0cdd91ce8866-0|noida      |B       |1000001|2023-05-17 04:22:20.255|\n",
      "|20230517042222304  |20230517042222304_0_29 |1000002           |                      |029ee7b5-7b1b-4a1e-a43d-0cdd91ce8866-0|noida      |C       |1000002|2023-05-17 04:22:20.255|\n",
      "|20230517042222304  |20230517042222304_0_58 |1000003           |                      |029ee7b5-7b1b-4a1e-a43d-0cdd91ce8866-0|noida      |D       |1000003|2023-05-17 04:22:20.255|\n",
      "|20230517042222304  |20230517042222304_0_31 |1000004           |                      |029ee7b5-7b1b-4a1e-a43d-0cdd91ce8866-0|noida      |E       |1000004|2023-05-17 04:22:20.255|\n",
      "|20230517042222304  |20230517042222304_0_82 |1000005           |                      |029ee7b5-7b1b-4a1e-a43d-0cdd91ce8866-0|noida      |F       |1000005|2023-05-17 04:22:20.255|\n",
      "|20230517042222304  |20230517042222304_0_16 |1000006           |                      |029ee7b5-7b1b-4a1e-a43d-0cdd91ce8866-0|noida      |G       |1000006|2023-05-17 04:22:20.255|\n",
      "|20230517042222304  |20230517042222304_0_68 |1000007           |                      |029ee7b5-7b1b-4a1e-a43d-0cdd91ce8866-0|noida      |H       |1000007|2023-05-17 04:22:20.255|\n",
      "|20230517042222304  |20230517042222304_0_9  |1000008           |                      |029ee7b5-7b1b-4a1e-a43d-0cdd91ce8866-0|noida      |I       |1000008|2023-05-17 04:22:20.255|\n",
      "|20230517042222304  |20230517042222304_0_88 |1000009           |                      |029ee7b5-7b1b-4a1e-a43d-0cdd91ce8866-0|noida      |J       |1000009|2023-05-17 04:22:20.255|\n",
      "|20230517042222304  |20230517042222304_0_75 |1000010           |                      |029ee7b5-7b1b-4a1e-a43d-0cdd91ce8866-0|noida      |A       |1000010|2023-05-17 04:22:20.255|\n",
      "|20230517042222304  |20230517042222304_0_53 |1000011           |                      |029ee7b5-7b1b-4a1e-a43d-0cdd91ce8866-0|noida      |B       |1000011|2023-05-17 04:22:20.255|\n",
      "|20230517042222304  |20230517042222304_0_98 |1000012           |                      |029ee7b5-7b1b-4a1e-a43d-0cdd91ce8866-0|noida      |C       |1000012|2023-05-17 04:22:20.255|\n",
      "|20230517042222304  |20230517042222304_0_37 |1000013           |                      |029ee7b5-7b1b-4a1e-a43d-0cdd91ce8866-0|noida      |D       |1000013|2023-05-17 04:22:20.255|\n",
      "|20230517042222304  |20230517042222304_0_64 |1000014           |                      |029ee7b5-7b1b-4a1e-a43d-0cdd91ce8866-0|noida      |E       |1000014|2023-05-17 04:22:20.255|\n",
      "|20230517042222304  |20230517042222304_0_47 |1000015           |                      |029ee7b5-7b1b-4a1e-a43d-0cdd91ce8866-0|noida      |F       |1000015|2023-05-17 04:22:20.255|\n",
      "|20230517042222304  |20230517042222304_0_69 |1000016           |                      |029ee7b5-7b1b-4a1e-a43d-0cdd91ce8866-0|noida      |G       |1000016|2023-05-17 04:22:20.255|\n",
      "|20230517042222304  |20230517042222304_0_48 |1000017           |                      |029ee7b5-7b1b-4a1e-a43d-0cdd91ce8866-0|noida      |H       |1000017|2023-05-17 04:22:20.255|\n",
      "|20230517042222304  |20230517042222304_0_103|1000018           |                      |029ee7b5-7b1b-4a1e-a43d-0cdd91ce8866-0|noida      |I       |1000018|2023-05-17 04:22:20.255|\n",
      "|20230517042222304  |20230517042222304_0_5  |1000019           |                      |029ee7b5-7b1b-4a1e-a43d-0cdd91ce8866-0|noida      |J       |1000019|2023-05-17 04:22:20.255|\n",
      "|20230517042222304  |20230517042222304_0_44 |1000020           |                      |029ee7b5-7b1b-4a1e-a43d-0cdd91ce8866-0|noida      |A       |1000020|2023-05-17 04:22:20.255|\n",
      "|20230517042222304  |20230517042222304_0_62 |1000021           |                      |029ee7b5-7b1b-4a1e-a43d-0cdd91ce8866-0|noida      |B       |1000021|2023-05-17 04:22:20.255|\n",
      "|20230517042222304  |20230517042222304_0_38 |1000022           |                      |029ee7b5-7b1b-4a1e-a43d-0cdd91ce8866-0|noida      |C       |1000022|2023-05-17 04:22:20.255|\n",
      "|20230517042222304  |20230517042222304_0_59 |1000023           |                      |029ee7b5-7b1b-4a1e-a43d-0cdd91ce8866-0|noida      |D       |1000023|2023-05-17 04:22:20.255|\n",
      "|20230517042222304  |20230517042222304_0_41 |1000024           |                      |029ee7b5-7b1b-4a1e-a43d-0cdd91ce8866-0|noida      |E       |1000024|2023-05-17 04:22:20.255|\n",
      "|20230517042222304  |20230517042222304_0_60 |1000025           |                      |029ee7b5-7b1b-4a1e-a43d-0cdd91ce8866-0|noida      |F       |1000025|2023-05-17 04:22:20.255|\n",
      "|20230517042222304  |20230517042222304_0_39 |1000026           |                      |029ee7b5-7b1b-4a1e-a43d-0cdd91ce8866-0|noida      |G       |1000026|2023-05-17 04:22:20.255|\n",
      "|20230517042222304  |20230517042222304_0_61 |1000027           |                      |029ee7b5-7b1b-4a1e-a43d-0cdd91ce8866-0|noida      |H       |1000027|2023-05-17 04:22:20.255|\n",
      "|20230517042222304  |20230517042222304_0_49 |1000028           |                      |029ee7b5-7b1b-4a1e-a43d-0cdd91ce8866-0|noida      |I       |1000028|2023-05-17 04:22:20.255|\n",
      "|20230517042222304  |20230517042222304_0_55 |1000029           |                      |029ee7b5-7b1b-4a1e-a43d-0cdd91ce8866-0|noida      |J       |1000029|2023-05-17 04:22:20.255|\n",
      "|20230517042222304  |20230517042222304_0_94 |1000030           |                      |029ee7b5-7b1b-4a1e-a43d-0cdd91ce8866-0|noida      |A       |1000030|2023-05-17 04:22:20.255|\n",
      "|20230517042222304  |20230517042222304_0_25 |1000031           |                      |029ee7b5-7b1b-4a1e-a43d-0cdd91ce8866-0|noida      |B       |1000031|2023-05-17 04:22:20.255|\n",
      "|20230517042222304  |20230517042222304_0_104|1000032           |                      |029ee7b5-7b1b-4a1e-a43d-0cdd91ce8866-0|noida      |C       |1000032|2023-05-17 04:22:20.255|\n",
      "|20230517042222304  |20230517042222304_0_54 |1000033           |                      |029ee7b5-7b1b-4a1e-a43d-0cdd91ce8866-0|noida      |D       |1000033|2023-05-17 04:22:20.255|\n",
      "|20230517042222304  |20230517042222304_0_56 |1000034           |                      |029ee7b5-7b1b-4a1e-a43d-0cdd91ce8866-0|noida      |E       |1000034|2023-05-17 04:22:20.255|\n",
      "|20230517042222304  |20230517042222304_0_19 |1000035           |                      |029ee7b5-7b1b-4a1e-a43d-0cdd91ce8866-0|noida      |F       |1000035|2023-05-17 04:22:20.255|\n",
      "|20230517042222304  |20230517042222304_0_67 |1000036           |                      |029ee7b5-7b1b-4a1e-a43d-0cdd91ce8866-0|noida      |G       |1000036|2023-05-17 04:22:20.255|\n",
      "|20230517042222304  |20230517042222304_0_30 |1000037           |                      |029ee7b5-7b1b-4a1e-a43d-0cdd91ce8866-0|noida      |H       |1000037|2023-05-17 04:22:20.255|\n",
      "|20230517042222304  |20230517042222304_0_57 |1000038           |                      |029ee7b5-7b1b-4a1e-a43d-0cdd91ce8866-0|noida      |I       |1000038|2023-05-17 04:22:20.255|\n",
      "|20230517042222304  |20230517042222304_0_50 |1000039           |                      |029ee7b5-7b1b-4a1e-a43d-0cdd91ce8866-0|noida      |J       |1000039|2023-05-17 04:22:20.255|\n",
      "|20230517042222304  |20230517042222304_0_7  |1000040           |                      |029ee7b5-7b1b-4a1e-a43d-0cdd91ce8866-0|noida      |A       |1000040|2023-05-17 04:22:20.255|\n",
      "|20230517042222304  |20230517042222304_0_70 |1000041           |                      |029ee7b5-7b1b-4a1e-a43d-0cdd91ce8866-0|noida      |B       |1000041|2023-05-17 04:22:20.255|\n",
      "|20230517042222304  |20230517042222304_0_35 |1000042           |                      |029ee7b5-7b1b-4a1e-a43d-0cdd91ce8866-0|noida      |C       |1000042|2023-05-17 04:22:20.255|\n",
      "|20230517042222304  |20230517042222304_0_83 |1000043           |                      |029ee7b5-7b1b-4a1e-a43d-0cdd91ce8866-0|noida      |D       |1000043|2023-05-17 04:22:20.255|\n",
      "|20230517042222304  |20230517042222304_0_18 |1000044           |                      |029ee7b5-7b1b-4a1e-a43d-0cdd91ce8866-0|noida      |E       |1000044|2023-05-17 04:22:20.255|\n",
      "|20230517042222304  |20230517042222304_0_87 |1000045           |                      |029ee7b5-7b1b-4a1e-a43d-0cdd91ce8866-0|noida      |F       |1000045|2023-05-17 04:22:20.255|\n",
      "|20230517042222304  |20230517042222304_0_23 |1000046           |                      |029ee7b5-7b1b-4a1e-a43d-0cdd91ce8866-0|noida      |G       |1000046|2023-05-17 04:22:20.255|\n",
      "|20230517042222304  |20230517042222304_0_91 |1000047           |                      |029ee7b5-7b1b-4a1e-a43d-0cdd91ce8866-0|noida      |H       |1000047|2023-05-17 04:22:20.255|\n",
      "|20230517042222304  |20230517042222304_0_33 |1000048           |                      |029ee7b5-7b1b-4a1e-a43d-0cdd91ce8866-0|noida      |I       |1000048|2023-05-17 04:22:20.255|\n",
      "|20230517042222304  |20230517042222304_0_73 |1000049           |                      |029ee7b5-7b1b-4a1e-a43d-0cdd91ce8866-0|noida      |J       |1000049|2023-05-17 04:22:20.255|\n",
      "|20230517042222304  |20230517042222304_0_97 |1000050           |                      |029ee7b5-7b1b-4a1e-a43d-0cdd91ce8866-0|noida      |A       |1000050|2023-05-17 04:22:20.255|\n",
      "|20230517042222304  |20230517042222304_0_20 |1000051           |                      |029ee7b5-7b1b-4a1e-a43d-0cdd91ce8866-0|noida      |B       |1000051|2023-05-17 04:22:20.255|\n",
      "|20230517042222304  |20230517042222304_0_99 |1000052           |                      |029ee7b5-7b1b-4a1e-a43d-0cdd91ce8866-0|noida      |C       |1000052|2023-05-17 04:22:20.255|\n",
      "|20230517042222304  |20230517042222304_0_26 |1000053           |                      |029ee7b5-7b1b-4a1e-a43d-0cdd91ce8866-0|noida      |D       |1000053|2023-05-17 04:22:20.255|\n",
      "|20230517042222304  |20230517042222304_0_90 |1000054           |                      |029ee7b5-7b1b-4a1e-a43d-0cdd91ce8866-0|noida      |E       |1000054|2023-05-17 04:22:20.255|\n",
      "|20230517042222304  |20230517042222304_0_21 |1000055           |                      |029ee7b5-7b1b-4a1e-a43d-0cdd91ce8866-0|noida      |F       |1000055|2023-05-17 04:22:20.255|\n",
      "|20230517042222304  |20230517042222304_0_85 |1000056           |                      |029ee7b5-7b1b-4a1e-a43d-0cdd91ce8866-0|noida      |G       |1000056|2023-05-17 04:22:20.255|\n",
      "|20230517042222304  |20230517042222304_0_34 |1000057           |                      |029ee7b5-7b1b-4a1e-a43d-0cdd91ce8866-0|noida      |H       |1000057|2023-05-17 04:22:20.255|\n",
      "|20230517042222304  |20230517042222304_0_101|1000058           |                      |029ee7b5-7b1b-4a1e-a43d-0cdd91ce8866-0|noida      |I       |1000058|2023-05-17 04:22:20.255|\n",
      "|20230517042222304  |20230517042222304_0_24 |1000059           |                      |029ee7b5-7b1b-4a1e-a43d-0cdd91ce8866-0|noida      |J       |1000059|2023-05-17 04:22:20.255|\n",
      "|20230517042222304  |20230517042222304_0_8  |1000060           |                      |029ee7b5-7b1b-4a1e-a43d-0cdd91ce8866-0|noida      |A       |1000060|2023-05-17 04:22:20.255|\n",
      "|20230517042222304  |20230517042222304_0_66 |1000061           |                      |029ee7b5-7b1b-4a1e-a43d-0cdd91ce8866-0|noida      |B       |1000061|2023-05-17 04:22:20.255|\n",
      "|20230517042222304  |20230517042222304_0_40 |1000062           |                      |029ee7b5-7b1b-4a1e-a43d-0cdd91ce8866-0|noida      |C       |1000062|2023-05-17 04:22:20.255|\n",
      "|20230517042222304  |20230517042222304_0_93 |1000063           |                      |029ee7b5-7b1b-4a1e-a43d-0cdd91ce8866-0|noida      |D       |1000063|2023-05-17 04:22:20.255|\n",
      "|20230517042222304  |20230517042222304_0_42 |1000064           |                      |029ee7b5-7b1b-4a1e-a43d-0cdd91ce8866-0|noida      |E       |1000064|2023-05-17 04:22:20.255|\n",
      "|20230517042222304  |20230517042222304_0_78 |1000065           |                      |029ee7b5-7b1b-4a1e-a43d-0cdd91ce8866-0|noida      |F       |1000065|2023-05-17 04:22:20.255|\n",
      "|20230517042222304  |20230517042222304_0_11 |1000066           |                      |029ee7b5-7b1b-4a1e-a43d-0cdd91ce8866-0|noida      |G       |1000066|2023-05-17 04:22:20.255|\n",
      "|20230517042222304  |20230517042222304_0_79 |1000067           |                      |029ee7b5-7b1b-4a1e-a43d-0cdd91ce8866-0|noida      |H       |1000067|2023-05-17 04:22:20.255|\n",
      "|20230517042222304  |20230517042222304_0_28 |1000068           |                      |029ee7b5-7b1b-4a1e-a43d-0cdd91ce8866-0|noida      |I       |1000068|2023-05-17 04:22:20.255|\n",
      "|20230517042222304  |20230517042222304_0_63 |1000069           |                      |029ee7b5-7b1b-4a1e-a43d-0cdd91ce8866-0|noida      |J       |1000069|2023-05-17 04:22:20.255|\n",
      "|20230517042222304  |20230517042222304_0_100|1000070           |                      |029ee7b5-7b1b-4a1e-a43d-0cdd91ce8866-0|noida      |A       |1000070|2023-05-17 04:22:20.255|\n",
      "|20230517042222304  |20230517042222304_0_22 |1000071           |                      |029ee7b5-7b1b-4a1e-a43d-0cdd91ce8866-0|noida      |B       |1000071|2023-05-17 04:22:20.255|\n",
      "|20230517042222304  |20230517042222304_0_95 |1000072           |                      |029ee7b5-7b1b-4a1e-a43d-0cdd91ce8866-0|noida      |C       |1000072|2023-05-17 04:22:20.255|\n",
      "|20230517042222304  |20230517042222304_0_46 |1000073           |                      |029ee7b5-7b1b-4a1e-a43d-0cdd91ce8866-0|noida      |D       |1000073|2023-05-17 04:22:20.255|\n",
      "|20230517042222304  |20230517042222304_0_81 |1000074           |                      |029ee7b5-7b1b-4a1e-a43d-0cdd91ce8866-0|noida      |E       |1000074|2023-05-17 04:22:20.255|\n",
      "|20230517042222304  |20230517042222304_0_10 |1000075           |                      |029ee7b5-7b1b-4a1e-a43d-0cdd91ce8866-0|noida      |F       |1000075|2023-05-17 04:22:20.255|\n",
      "|20230517042222304  |20230517042222304_0_77 |1000076           |                      |029ee7b5-7b1b-4a1e-a43d-0cdd91ce8866-0|noida      |G       |1000076|2023-05-17 04:22:20.255|\n",
      "|20230517042222304  |20230517042222304_0_14 |1000077           |                      |029ee7b5-7b1b-4a1e-a43d-0cdd91ce8866-0|noida      |H       |1000077|2023-05-17 04:22:20.255|\n",
      "|20230517042222304  |20230517042222304_0_76 |1000078           |                      |029ee7b5-7b1b-4a1e-a43d-0cdd91ce8866-0|noida      |I       |1000078|2023-05-17 04:22:20.255|\n",
      "|20230517042222304  |20230517042222304_0_27 |1000079           |                      |029ee7b5-7b1b-4a1e-a43d-0cdd91ce8866-0|noida      |J       |1000079|2023-05-17 04:22:20.255|\n",
      "|20230517042222304  |20230517042222304_0_43 |1000080           |                      |029ee7b5-7b1b-4a1e-a43d-0cdd91ce8866-0|noida      |A       |1000080|2023-05-17 04:22:20.255|\n",
      "|20230517042222304  |20230517042222304_0_89 |1000081           |                      |029ee7b5-7b1b-4a1e-a43d-0cdd91ce8866-0|noida      |B       |1000081|2023-05-17 04:22:20.255|\n",
      "|20230517042222304  |20230517042222304_0_15 |1000082           |                      |029ee7b5-7b1b-4a1e-a43d-0cdd91ce8866-0|noida      |C       |1000082|2023-05-17 04:22:20.255|\n",
      "|20230517042222304  |20230517042222304_0_102|1000083           |                      |029ee7b5-7b1b-4a1e-a43d-0cdd91ce8866-0|noida      |D       |1000083|2023-05-17 04:22:20.255|\n",
      "|20230517042222304  |20230517042222304_0_17 |1000084           |                      |029ee7b5-7b1b-4a1e-a43d-0cdd91ce8866-0|noida      |E       |1000084|2023-05-17 04:22:20.255|\n",
      "|20230517042222304  |20230517042222304_0_74 |1000085           |                      |029ee7b5-7b1b-4a1e-a43d-0cdd91ce8866-0|noida      |F       |1000085|2023-05-17 04:22:20.255|\n",
      "|20230517042222304  |20230517042222304_0_13 |1000086           |                      |029ee7b5-7b1b-4a1e-a43d-0cdd91ce8866-0|noida      |G       |1000086|2023-05-17 04:22:20.255|\n",
      "|20230517042222304  |20230517042222304_0_86 |1000087           |                      |029ee7b5-7b1b-4a1e-a43d-0cdd91ce8866-0|noida      |H       |1000087|2023-05-17 04:22:20.255|\n",
      "|20230517042222304  |20230517042222304_0_51 |1000088           |                      |029ee7b5-7b1b-4a1e-a43d-0cdd91ce8866-0|noida      |I       |1000088|2023-05-17 04:22:20.255|\n",
      "|20230517042222304  |20230517042222304_0_71 |1000089           |                      |029ee7b5-7b1b-4a1e-a43d-0cdd91ce8866-0|noida      |J       |1000089|2023-05-17 04:22:20.255|\n",
      "|20230517042222304  |20230517042222304_0_84 |1000090           |                      |029ee7b5-7b1b-4a1e-a43d-0cdd91ce8866-0|noida      |A       |1000090|2023-05-17 04:22:20.255|\n",
      "|20230517042222304  |20230517042222304_0_12 |1000091           |                      |029ee7b5-7b1b-4a1e-a43d-0cdd91ce8866-0|noida      |B       |1000091|2023-05-17 04:22:20.255|\n",
      "|20230517042222304  |20230517042222304_0_65 |1000092           |                      |029ee7b5-7b1b-4a1e-a43d-0cdd91ce8866-0|noida      |C       |1000092|2023-05-17 04:22:20.255|\n",
      "|20230517042222304  |20230517042222304_0_32 |1000093           |                      |029ee7b5-7b1b-4a1e-a43d-0cdd91ce8866-0|noida      |D       |1000093|2023-05-17 04:22:20.255|\n",
      "|20230517042222304  |20230517042222304_0_92 |1000094           |                      |029ee7b5-7b1b-4a1e-a43d-0cdd91ce8866-0|noida      |E       |1000094|2023-05-17 04:22:20.255|\n",
      "|20230517042222304  |20230517042222304_0_36 |1000095           |                      |029ee7b5-7b1b-4a1e-a43d-0cdd91ce8866-0|noida      |F       |1000095|2023-05-17 04:22:20.255|\n",
      "|20230517042222304  |20230517042222304_0_72 |1000096           |                      |029ee7b5-7b1b-4a1e-a43d-0cdd91ce8866-0|noida      |G       |1000096|2023-05-17 04:22:20.255|\n",
      "|20230517042222304  |20230517042222304_0_52 |1000097           |                      |029ee7b5-7b1b-4a1e-a43d-0cdd91ce8866-0|noida      |H       |1000097|2023-05-17 04:22:20.255|\n",
      "|20230517042222304  |20230517042222304_0_80 |1000098           |                      |029ee7b5-7b1b-4a1e-a43d-0cdd91ce8866-0|noida      |I       |1000098|2023-05-17 04:22:20.255|\n",
      "|20230517042222304  |20230517042222304_0_45 |1000099           |                      |029ee7b5-7b1b-4a1e-a43d-0cdd91ce8866-0|noida      |J       |1000099|2023-05-17 04:22:20.255|\n",
      "+-------------------+-----------------------+------------------+----------------------+--------------------------------------+-----------+--------+-------+-----------------------+\n",
      "only showing top 100 rows"
     ]
    }
   ],
   "source": [
    "# Modify the data\n",
    "from pyspark.sql.functions import *\n",
    "from pyspark.sql.functions import lit\n",
    "from pyspark.sql.functions import when, col\n",
    "df4_mor.filter(col(\"trip_id\").between(1000000,1000100)).show(100,False)"
   ]
  },
  {
   "cell_type": "code",
   "execution_count": 26,
   "id": "f4ec3ff8",
   "metadata": {},
   "outputs": [
    {
     "data": {
      "application/vnd.jupyter.widget-view+json": {
       "model_id": "",
       "version_major": 2,
       "version_minor": 0
      },
      "text/plain": [
       "FloatProgress(value=0.0, bar_style='info', description='Progress:', layout=Layout(height='25px', width='50%'),…"
      ]
     },
     "metadata": {},
     "output_type": "display_data"
    },
    {
     "name": "stdout",
     "output_type": "stream",
     "text": [
      "+-----------+--------+-------+--------------------+\n",
      "|destination|route_id|trip_id|                  ts|\n",
      "+-----------+--------+-------+--------------------+\n",
      "|  ghaziabad|       A|2000000|2023-05-17 04:25:...|\n",
      "|  ghaziabad|       B|2000001|2023-05-17 04:25:...|\n",
      "|  ghaziabad|       C|2000002|2023-05-17 04:25:...|\n",
      "|  ghaziabad|       D|2000003|2023-05-17 04:25:...|\n",
      "|  ghaziabad|       E|2000004|2023-05-17 04:25:...|\n",
      "|  ghaziabad|       F|2000005|2023-05-17 04:25:...|\n",
      "|  ghaziabad|       G|2000006|2023-05-17 04:25:...|\n",
      "|  ghaziabad|       H|2000007|2023-05-17 04:25:...|\n",
      "|  ghaziabad|       I|2000008|2023-05-17 04:25:...|\n",
      "|  ghaziabad|       J|2000009|2023-05-17 04:25:...|\n",
      "|  ghaziabad|       A|2000010|2023-05-17 04:25:...|\n",
      "|  ghaziabad|       B|2000011|2023-05-17 04:25:...|\n",
      "|  ghaziabad|       C|2000012|2023-05-17 04:25:...|\n",
      "|  ghaziabad|       D|2000013|2023-05-17 04:25:...|\n",
      "|  ghaziabad|       E|2000014|2023-05-17 04:25:...|\n",
      "|  ghaziabad|       F|2000015|2023-05-17 04:25:...|\n",
      "|  ghaziabad|       G|2000016|2023-05-17 04:25:...|\n",
      "|  ghaziabad|       H|2000017|2023-05-17 04:25:...|\n",
      "|  ghaziabad|       I|2000018|2023-05-17 04:25:...|\n",
      "|  ghaziabad|       J|2000019|2023-05-17 04:25:...|\n",
      "+-----------+--------+-------+--------------------+\n",
      "only showing top 20 rows"
     ]
    }
   ],
   "source": [
    "# Inserting new data\n",
    "\n",
    "insert_dest=[\"ghaziabad\" for i in range(0,100)]\n",
    "df5_mor=create_json_df(spark,get_json_data(2000000,100,insert_dest))\n",
    "df5_mor.show()"
   ]
  },
  {
   "cell_type": "code",
   "execution_count": 27,
   "id": "25788b38",
   "metadata": {},
   "outputs": [
    {
     "data": {
      "application/vnd.jupyter.widget-view+json": {
       "model_id": "",
       "version_major": 2,
       "version_minor": 0
      },
      "text/plain": [
       "FloatProgress(value=0.0, bar_style='info', description='Progress:', layout=Layout(height='25px', width='50%'),…"
      ]
     },
     "metadata": {},
     "output_type": "display_data"
    }
   ],
   "source": [
    "(df5_mor.write.format(HUDI_FORMAT)\n",
    "      .option(PRECOMBINE_FIELD_OPT_KEY, config[\"sort_key\"])\n",
    "      .option(RECORDKEY_FIELD_OPT_KEY, config[\"primary_key\"])\n",
    "      .option(TABLE_NAME, config['table_name'])\n",
    "      .option(OPERATION_OPT_KEY, UPSERT_OPERATION_OPT_VAL)\n",
    "      .option(UPSERT_PARALLELISM, 3)\n",
    "      .option(S3_CONSISTENCY_CHECK, \"true\")\n",
    "      .option(HUDI_CLEANER_POLICY, KEEP_LATEST_COMMITS)\n",
    "      .option(HUDI_COMMITS_RETAINED,config[\"commits_to_retain\"])\n",
    "      .option(HIVE_TABLE_OPT_KEY,config['table_name'])\n",
    "      .option(HIVE_SYNC_ENABLED_OPT_KEY,\"true\")\n",
    "      .option(HIVE_PARTITION_EXTRACTOR_CLASS_OPT_KEY,NONPARTITION_EXTRACTOR_CLASS_OPT_VAL)\n",
    "      .option(KEYGENERATOR_CLASS_OPT_KEY,NONPARTITIONED_KEYGENERATOR_CLASS_OPT_VAL)  \n",
    "      .option(STORAGE_TYPE_OPT_KEY, \"MERGE_ON_READ\")\n",
    "      .option(COMPACTION_INLINE_OPT_KEY, \"false\")\n",
    "      .option(COMPACTION_MAX_DELTA_COMMITS_OPT_KEY, \"20\")\n",
    "      .mode(\"Append\")\n",
    "      .save(config['target']))"
   ]
  },
  {
   "cell_type": "code",
   "execution_count": 28,
   "id": "24cae914",
   "metadata": {},
   "outputs": [
    {
     "data": {
      "application/vnd.jupyter.widget-view+json": {
       "model_id": "",
       "version_major": 2,
       "version_minor": 0
      },
      "text/plain": [
       "FloatProgress(value=0.0, bar_style='info', description='Progress:', layout=Layout(height='25px', width='50%'),…"
      ]
     },
     "metadata": {},
     "output_type": "display_data"
    }
   ],
   "source": [
    "df6_mor=spark.read.format(HUDI_FORMAT).load(config['target'] + \"/*\")"
   ]
  },
  {
   "cell_type": "code",
   "execution_count": 29,
   "id": "b7820332",
   "metadata": {},
   "outputs": [
    {
     "data": {
      "application/vnd.jupyter.widget-view+json": {
       "model_id": "",
       "version_major": 2,
       "version_minor": 0
      },
      "text/plain": [
       "FloatProgress(value=0.0, bar_style='info', description='Progress:', layout=Layout(height='25px', width='50%'),…"
      ]
     },
     "metadata": {},
     "output_type": "display_data"
    },
    {
     "name": "stdout",
     "output_type": "stream",
     "text": [
      "+-------------------+--------------------------+------------------+----------------------+-------------------------------------------------------------------------+-----------+--------+-------+-----------------------+\n",
      "|_hoodie_commit_time|_hoodie_commit_seqno      |_hoodie_record_key|_hoodie_partition_path|_hoodie_file_name                                                        |destination|route_id|trip_id|ts                     |\n",
      "+-------------------+--------------------------+------------------+----------------------+-------------------------------------------------------------------------+-----------+--------+-------+-----------------------+\n",
      "|20230517042558970  |20230517042558970_0_999552|2000078           |                      |84afd4d0-aed4-4e04-9391-dbbc09be6f83-0_0-99-127_20230517042558970.parquet|ghaziabad  |I       |2000078|2023-05-17 04:25:54.669|\n",
      "|20230517042558970  |20230517042558970_0_999553|2000077           |                      |84afd4d0-aed4-4e04-9391-dbbc09be6f83-0_0-99-127_20230517042558970.parquet|ghaziabad  |H       |2000077|2023-05-17 04:25:54.669|\n",
      "|20230517042558970  |20230517042558970_0_999554|2000076           |                      |84afd4d0-aed4-4e04-9391-dbbc09be6f83-0_0-99-127_20230517042558970.parquet|ghaziabad  |G       |2000076|2023-05-17 04:25:54.669|\n",
      "|20230517042558970  |20230517042558970_0_999555|2000075           |                      |84afd4d0-aed4-4e04-9391-dbbc09be6f83-0_0-99-127_20230517042558970.parquet|ghaziabad  |F       |2000075|2023-05-17 04:25:54.669|\n",
      "|20230517042558970  |20230517042558970_0_999556|2000079           |                      |84afd4d0-aed4-4e04-9391-dbbc09be6f83-0_0-99-127_20230517042558970.parquet|ghaziabad  |J       |2000079|2023-05-17 04:25:54.669|\n",
      "|20230517042558970  |20230517042558970_0_999557|2000070           |                      |84afd4d0-aed4-4e04-9391-dbbc09be6f83-0_0-99-127_20230517042558970.parquet|ghaziabad  |A       |2000070|2023-05-17 04:25:54.669|\n",
      "|20230517042558970  |20230517042558970_0_999558|2000074           |                      |84afd4d0-aed4-4e04-9391-dbbc09be6f83-0_0-99-127_20230517042558970.parquet|ghaziabad  |E       |2000074|2023-05-17 04:25:54.669|\n",
      "|20230517042558970  |20230517042558970_0_999559|2000073           |                      |84afd4d0-aed4-4e04-9391-dbbc09be6f83-0_0-99-127_20230517042558970.parquet|ghaziabad  |D       |2000073|2023-05-17 04:25:54.669|\n",
      "|20230517042558970  |20230517042558970_0_999560|2000072           |                      |84afd4d0-aed4-4e04-9391-dbbc09be6f83-0_0-99-127_20230517042558970.parquet|ghaziabad  |C       |2000072|2023-05-17 04:25:54.669|\n",
      "|20230517042558970  |20230517042558970_0_999561|2000071           |                      |84afd4d0-aed4-4e04-9391-dbbc09be6f83-0_0-99-127_20230517042558970.parquet|ghaziabad  |B       |2000071|2023-05-17 04:25:54.669|\n",
      "|20230517042558970  |20230517042558970_0_999562|2000009           |                      |84afd4d0-aed4-4e04-9391-dbbc09be6f83-0_0-99-127_20230517042558970.parquet|ghaziabad  |J       |2000009|2023-05-17 04:25:54.669|\n",
      "|20230517042558970  |20230517042558970_0_999563|2000008           |                      |84afd4d0-aed4-4e04-9391-dbbc09be6f83-0_0-99-127_20230517042558970.parquet|ghaziabad  |I       |2000008|2023-05-17 04:25:54.669|\n",
      "|20230517042558970  |20230517042558970_0_999564|2000007           |                      |84afd4d0-aed4-4e04-9391-dbbc09be6f83-0_0-99-127_20230517042558970.parquet|ghaziabad  |H       |2000007|2023-05-17 04:25:54.669|\n",
      "|20230517042558970  |20230517042558970_0_999565|2000006           |                      |84afd4d0-aed4-4e04-9391-dbbc09be6f83-0_0-99-127_20230517042558970.parquet|ghaziabad  |G       |2000006|2023-05-17 04:25:54.669|\n",
      "|20230517042558970  |20230517042558970_0_999566|2000001           |                      |84afd4d0-aed4-4e04-9391-dbbc09be6f83-0_0-99-127_20230517042558970.parquet|ghaziabad  |B       |2000001|2023-05-17 04:25:54.669|\n",
      "|20230517042558970  |20230517042558970_0_999567|2000089           |                      |84afd4d0-aed4-4e04-9391-dbbc09be6f83-0_0-99-127_20230517042558970.parquet|ghaziabad  |J       |2000089|2023-05-17 04:25:54.669|\n",
      "|20230517042558970  |20230517042558970_0_999568|2000000           |                      |84afd4d0-aed4-4e04-9391-dbbc09be6f83-0_0-99-127_20230517042558970.parquet|ghaziabad  |A       |2000000|2023-05-17 04:25:54.669|\n",
      "|20230517042558970  |20230517042558970_0_999569|2000088           |                      |84afd4d0-aed4-4e04-9391-dbbc09be6f83-0_0-99-127_20230517042558970.parquet|ghaziabad  |I       |2000088|2023-05-17 04:25:54.669|\n",
      "|20230517042558970  |20230517042558970_0_999570|2000087           |                      |84afd4d0-aed4-4e04-9391-dbbc09be6f83-0_0-99-127_20230517042558970.parquet|ghaziabad  |H       |2000087|2023-05-17 04:25:54.669|\n",
      "|20230517042558970  |20230517042558970_0_999571|2000086           |                      |84afd4d0-aed4-4e04-9391-dbbc09be6f83-0_0-99-127_20230517042558970.parquet|ghaziabad  |G       |2000086|2023-05-17 04:25:54.669|\n",
      "|20230517042558970  |20230517042558970_0_999572|2000005           |                      |84afd4d0-aed4-4e04-9391-dbbc09be6f83-0_0-99-127_20230517042558970.parquet|ghaziabad  |F       |2000005|2023-05-17 04:25:54.669|\n",
      "|20230517042558970  |20230517042558970_0_999573|2000004           |                      |84afd4d0-aed4-4e04-9391-dbbc09be6f83-0_0-99-127_20230517042558970.parquet|ghaziabad  |E       |2000004|2023-05-17 04:25:54.669|\n",
      "|20230517042558970  |20230517042558970_0_999574|2000003           |                      |84afd4d0-aed4-4e04-9391-dbbc09be6f83-0_0-99-127_20230517042558970.parquet|ghaziabad  |D       |2000003|2023-05-17 04:25:54.669|\n",
      "|20230517042558970  |20230517042558970_0_999575|2000002           |                      |84afd4d0-aed4-4e04-9391-dbbc09be6f83-0_0-99-127_20230517042558970.parquet|ghaziabad  |C       |2000002|2023-05-17 04:25:54.669|\n",
      "|20230517042558970  |20230517042558970_0_999576|2000081           |                      |84afd4d0-aed4-4e04-9391-dbbc09be6f83-0_0-99-127_20230517042558970.parquet|ghaziabad  |B       |2000081|2023-05-17 04:25:54.669|\n",
      "|20230517042558970  |20230517042558970_0_999577|2000080           |                      |84afd4d0-aed4-4e04-9391-dbbc09be6f83-0_0-99-127_20230517042558970.parquet|ghaziabad  |A       |2000080|2023-05-17 04:25:54.669|\n",
      "|20230517042558970  |20230517042558970_0_999578|2000085           |                      |84afd4d0-aed4-4e04-9391-dbbc09be6f83-0_0-99-127_20230517042558970.parquet|ghaziabad  |F       |2000085|2023-05-17 04:25:54.669|\n",
      "|20230517042558970  |20230517042558970_0_999579|2000084           |                      |84afd4d0-aed4-4e04-9391-dbbc09be6f83-0_0-99-127_20230517042558970.parquet|ghaziabad  |E       |2000084|2023-05-17 04:25:54.669|\n",
      "|20230517042558970  |20230517042558970_0_999580|2000083           |                      |84afd4d0-aed4-4e04-9391-dbbc09be6f83-0_0-99-127_20230517042558970.parquet|ghaziabad  |D       |2000083|2023-05-17 04:25:54.669|\n",
      "|20230517042558970  |20230517042558970_0_999581|2000082           |                      |84afd4d0-aed4-4e04-9391-dbbc09be6f83-0_0-99-127_20230517042558970.parquet|ghaziabad  |C       |2000082|2023-05-17 04:25:54.669|\n",
      "|20230517042558970  |20230517042558970_0_999582|2000019           |                      |84afd4d0-aed4-4e04-9391-dbbc09be6f83-0_0-99-127_20230517042558970.parquet|ghaziabad  |J       |2000019|2023-05-17 04:25:54.669|\n",
      "|20230517042558970  |20230517042558970_0_999583|2000018           |                      |84afd4d0-aed4-4e04-9391-dbbc09be6f83-0_0-99-127_20230517042558970.parquet|ghaziabad  |I       |2000018|2023-05-17 04:25:54.669|\n",
      "|20230517042558970  |20230517042558970_0_999584|2000017           |                      |84afd4d0-aed4-4e04-9391-dbbc09be6f83-0_0-99-127_20230517042558970.parquet|ghaziabad  |H       |2000017|2023-05-17 04:25:54.669|\n",
      "|20230517042558970  |20230517042558970_0_999585|2000012           |                      |84afd4d0-aed4-4e04-9391-dbbc09be6f83-0_0-99-127_20230517042558970.parquet|ghaziabad  |C       |2000012|2023-05-17 04:25:54.669|\n",
      "|20230517042558970  |20230517042558970_0_999586|2000099           |                      |84afd4d0-aed4-4e04-9391-dbbc09be6f83-0_0-99-127_20230517042558970.parquet|ghaziabad  |J       |2000099|2023-05-17 04:25:54.669|\n",
      "|20230517042558970  |20230517042558970_0_999587|2000011           |                      |84afd4d0-aed4-4e04-9391-dbbc09be6f83-0_0-99-127_20230517042558970.parquet|ghaziabad  |B       |2000011|2023-05-17 04:25:54.669|\n",
      "|20230517042558970  |20230517042558970_0_999588|2000010           |                      |84afd4d0-aed4-4e04-9391-dbbc09be6f83-0_0-99-127_20230517042558970.parquet|ghaziabad  |A       |2000010|2023-05-17 04:25:54.669|\n",
      "|20230517042558970  |20230517042558970_0_999589|2000098           |                      |84afd4d0-aed4-4e04-9391-dbbc09be6f83-0_0-99-127_20230517042558970.parquet|ghaziabad  |I       |2000098|2023-05-17 04:25:54.669|\n",
      "|20230517042558970  |20230517042558970_0_999590|2000097           |                      |84afd4d0-aed4-4e04-9391-dbbc09be6f83-0_0-99-127_20230517042558970.parquet|ghaziabad  |H       |2000097|2023-05-17 04:25:54.669|\n",
      "|20230517042558970  |20230517042558970_0_999591|2000016           |                      |84afd4d0-aed4-4e04-9391-dbbc09be6f83-0_0-99-127_20230517042558970.parquet|ghaziabad  |G       |2000016|2023-05-17 04:25:54.669|\n",
      "|20230517042558970  |20230517042558970_0_999592|2000015           |                      |84afd4d0-aed4-4e04-9391-dbbc09be6f83-0_0-99-127_20230517042558970.parquet|ghaziabad  |F       |2000015|2023-05-17 04:25:54.669|\n",
      "|20230517042558970  |20230517042558970_0_999593|2000014           |                      |84afd4d0-aed4-4e04-9391-dbbc09be6f83-0_0-99-127_20230517042558970.parquet|ghaziabad  |E       |2000014|2023-05-17 04:25:54.669|\n",
      "|20230517042558970  |20230517042558970_0_999594|2000013           |                      |84afd4d0-aed4-4e04-9391-dbbc09be6f83-0_0-99-127_20230517042558970.parquet|ghaziabad  |D       |2000013|2023-05-17 04:25:54.669|\n",
      "|20230517042558970  |20230517042558970_0_999595|2000092           |                      |84afd4d0-aed4-4e04-9391-dbbc09be6f83-0_0-99-127_20230517042558970.parquet|ghaziabad  |C       |2000092|2023-05-17 04:25:54.669|\n",
      "|20230517042558970  |20230517042558970_0_999596|2000091           |                      |84afd4d0-aed4-4e04-9391-dbbc09be6f83-0_0-99-127_20230517042558970.parquet|ghaziabad  |B       |2000091|2023-05-17 04:25:54.669|\n",
      "|20230517042558970  |20230517042558970_0_999597|2000090           |                      |84afd4d0-aed4-4e04-9391-dbbc09be6f83-0_0-99-127_20230517042558970.parquet|ghaziabad  |A       |2000090|2023-05-17 04:25:54.669|\n",
      "|20230517042558970  |20230517042558970_0_999598|2000096           |                      |84afd4d0-aed4-4e04-9391-dbbc09be6f83-0_0-99-127_20230517042558970.parquet|ghaziabad  |G       |2000096|2023-05-17 04:25:54.669|\n",
      "|20230517042558970  |20230517042558970_0_999599|2000095           |                      |84afd4d0-aed4-4e04-9391-dbbc09be6f83-0_0-99-127_20230517042558970.parquet|ghaziabad  |F       |2000095|2023-05-17 04:25:54.669|\n",
      "|20230517042558970  |20230517042558970_0_999600|2000094           |                      |84afd4d0-aed4-4e04-9391-dbbc09be6f83-0_0-99-127_20230517042558970.parquet|ghaziabad  |E       |2000094|2023-05-17 04:25:54.669|\n",
      "|20230517042558970  |20230517042558970_0_999601|2000093           |                      |84afd4d0-aed4-4e04-9391-dbbc09be6f83-0_0-99-127_20230517042558970.parquet|ghaziabad  |D       |2000093|2023-05-17 04:25:54.669|\n",
      "|20230517042558970  |20230517042558970_0_999602|2000029           |                      |84afd4d0-aed4-4e04-9391-dbbc09be6f83-0_0-99-127_20230517042558970.parquet|ghaziabad  |J       |2000029|2023-05-17 04:25:54.669|\n",
      "|20230517042558970  |20230517042558970_0_999603|2000028           |                      |84afd4d0-aed4-4e04-9391-dbbc09be6f83-0_0-99-127_20230517042558970.parquet|ghaziabad  |I       |2000028|2023-05-17 04:25:54.669|\n",
      "|20230517042558970  |20230517042558970_0_999604|2000023           |                      |84afd4d0-aed4-4e04-9391-dbbc09be6f83-0_0-99-127_20230517042558970.parquet|ghaziabad  |D       |2000023|2023-05-17 04:25:54.669|\n",
      "|20230517042558970  |20230517042558970_0_999605|2000022           |                      |84afd4d0-aed4-4e04-9391-dbbc09be6f83-0_0-99-127_20230517042558970.parquet|ghaziabad  |C       |2000022|2023-05-17 04:25:54.669|\n",
      "|20230517042558970  |20230517042558970_0_999606|2000021           |                      |84afd4d0-aed4-4e04-9391-dbbc09be6f83-0_0-99-127_20230517042558970.parquet|ghaziabad  |B       |2000021|2023-05-17 04:25:54.669|\n",
      "|20230517042558970  |20230517042558970_0_999607|2000020           |                      |84afd4d0-aed4-4e04-9391-dbbc09be6f83-0_0-99-127_20230517042558970.parquet|ghaziabad  |A       |2000020|2023-05-17 04:25:54.669|\n",
      "|20230517042558970  |20230517042558970_0_999608|2000027           |                      |84afd4d0-aed4-4e04-9391-dbbc09be6f83-0_0-99-127_20230517042558970.parquet|ghaziabad  |H       |2000027|2023-05-17 04:25:54.669|\n",
      "|20230517042558970  |20230517042558970_0_999609|2000026           |                      |84afd4d0-aed4-4e04-9391-dbbc09be6f83-0_0-99-127_20230517042558970.parquet|ghaziabad  |G       |2000026|2023-05-17 04:25:54.669|\n",
      "|20230517042558970  |20230517042558970_0_999610|2000025           |                      |84afd4d0-aed4-4e04-9391-dbbc09be6f83-0_0-99-127_20230517042558970.parquet|ghaziabad  |F       |2000025|2023-05-17 04:25:54.669|\n",
      "|20230517042558970  |20230517042558970_0_999611|2000024           |                      |84afd4d0-aed4-4e04-9391-dbbc09be6f83-0_0-99-127_20230517042558970.parquet|ghaziabad  |E       |2000024|2023-05-17 04:25:54.669|\n",
      "|20230517042558970  |20230517042558970_0_999612|2000039           |                      |84afd4d0-aed4-4e04-9391-dbbc09be6f83-0_0-99-127_20230517042558970.parquet|ghaziabad  |J       |2000039|2023-05-17 04:25:54.669|\n",
      "|20230517042558970  |20230517042558970_0_999613|2000034           |                      |84afd4d0-aed4-4e04-9391-dbbc09be6f83-0_0-99-127_20230517042558970.parquet|ghaziabad  |E       |2000034|2023-05-17 04:25:54.669|\n",
      "|20230517042558970  |20230517042558970_0_999614|2000033           |                      |84afd4d0-aed4-4e04-9391-dbbc09be6f83-0_0-99-127_20230517042558970.parquet|ghaziabad  |D       |2000033|2023-05-17 04:25:54.669|\n",
      "|20230517042558970  |20230517042558970_0_999615|2000032           |                      |84afd4d0-aed4-4e04-9391-dbbc09be6f83-0_0-99-127_20230517042558970.parquet|ghaziabad  |C       |2000032|2023-05-17 04:25:54.669|\n",
      "|20230517042558970  |20230517042558970_0_999616|2000031           |                      |84afd4d0-aed4-4e04-9391-dbbc09be6f83-0_0-99-127_20230517042558970.parquet|ghaziabad  |B       |2000031|2023-05-17 04:25:54.669|\n",
      "|20230517042558970  |20230517042558970_0_999617|2000038           |                      |84afd4d0-aed4-4e04-9391-dbbc09be6f83-0_0-99-127_20230517042558970.parquet|ghaziabad  |I       |2000038|2023-05-17 04:25:54.669|\n",
      "|20230517042558970  |20230517042558970_0_999618|2000037           |                      |84afd4d0-aed4-4e04-9391-dbbc09be6f83-0_0-99-127_20230517042558970.parquet|ghaziabad  |H       |2000037|2023-05-17 04:25:54.669|\n",
      "|20230517042558970  |20230517042558970_0_999619|2000036           |                      |84afd4d0-aed4-4e04-9391-dbbc09be6f83-0_0-99-127_20230517042558970.parquet|ghaziabad  |G       |2000036|2023-05-17 04:25:54.669|\n",
      "|20230517042558970  |20230517042558970_0_999620|2000035           |                      |84afd4d0-aed4-4e04-9391-dbbc09be6f83-0_0-99-127_20230517042558970.parquet|ghaziabad  |F       |2000035|2023-05-17 04:25:54.669|\n",
      "|20230517042558970  |20230517042558970_0_999621|2000030           |                      |84afd4d0-aed4-4e04-9391-dbbc09be6f83-0_0-99-127_20230517042558970.parquet|ghaziabad  |A       |2000030|2023-05-17 04:25:54.669|\n",
      "|20230517042558970  |20230517042558970_0_999622|2000045           |                      |84afd4d0-aed4-4e04-9391-dbbc09be6f83-0_0-99-127_20230517042558970.parquet|ghaziabad  |F       |2000045|2023-05-17 04:25:54.669|\n",
      "|20230517042558970  |20230517042558970_0_999623|2000044           |                      |84afd4d0-aed4-4e04-9391-dbbc09be6f83-0_0-99-127_20230517042558970.parquet|ghaziabad  |E       |2000044|2023-05-17 04:25:54.669|\n",
      "|20230517042558970  |20230517042558970_0_999624|2000043           |                      |84afd4d0-aed4-4e04-9391-dbbc09be6f83-0_0-99-127_20230517042558970.parquet|ghaziabad  |D       |2000043|2023-05-17 04:25:54.669|\n",
      "|20230517042558970  |20230517042558970_0_999625|2000042           |                      |84afd4d0-aed4-4e04-9391-dbbc09be6f83-0_0-99-127_20230517042558970.parquet|ghaziabad  |C       |2000042|2023-05-17 04:25:54.669|\n",
      "|20230517042558970  |20230517042558970_0_999626|2000049           |                      |84afd4d0-aed4-4e04-9391-dbbc09be6f83-0_0-99-127_20230517042558970.parquet|ghaziabad  |J       |2000049|2023-05-17 04:25:54.669|\n",
      "|20230517042558970  |20230517042558970_0_999627|2000048           |                      |84afd4d0-aed4-4e04-9391-dbbc09be6f83-0_0-99-127_20230517042558970.parquet|ghaziabad  |I       |2000048|2023-05-17 04:25:54.669|\n",
      "|20230517042558970  |20230517042558970_0_999628|2000047           |                      |84afd4d0-aed4-4e04-9391-dbbc09be6f83-0_0-99-127_20230517042558970.parquet|ghaziabad  |H       |2000047|2023-05-17 04:25:54.669|\n",
      "|20230517042558970  |20230517042558970_0_999629|2000046           |                      |84afd4d0-aed4-4e04-9391-dbbc09be6f83-0_0-99-127_20230517042558970.parquet|ghaziabad  |G       |2000046|2023-05-17 04:25:54.669|\n",
      "|20230517042558970  |20230517042558970_0_999630|2000041           |                      |84afd4d0-aed4-4e04-9391-dbbc09be6f83-0_0-99-127_20230517042558970.parquet|ghaziabad  |B       |2000041|2023-05-17 04:25:54.669|\n",
      "|20230517042558970  |20230517042558970_0_999631|2000040           |                      |84afd4d0-aed4-4e04-9391-dbbc09be6f83-0_0-99-127_20230517042558970.parquet|ghaziabad  |A       |2000040|2023-05-17 04:25:54.669|\n",
      "|20230517042558970  |20230517042558970_0_999632|2000056           |                      |84afd4d0-aed4-4e04-9391-dbbc09be6f83-0_0-99-127_20230517042558970.parquet|ghaziabad  |G       |2000056|2023-05-17 04:25:54.669|\n",
      "|20230517042558970  |20230517042558970_0_999633|2000055           |                      |84afd4d0-aed4-4e04-9391-dbbc09be6f83-0_0-99-127_20230517042558970.parquet|ghaziabad  |F       |2000055|2023-05-17 04:25:54.669|\n",
      "|20230517042558970  |20230517042558970_0_999634|2000054           |                      |84afd4d0-aed4-4e04-9391-dbbc09be6f83-0_0-99-127_20230517042558970.parquet|ghaziabad  |E       |2000054|2023-05-17 04:25:54.669|\n",
      "|20230517042558970  |20230517042558970_0_999635|2000053           |                      |84afd4d0-aed4-4e04-9391-dbbc09be6f83-0_0-99-127_20230517042558970.parquet|ghaziabad  |D       |2000053|2023-05-17 04:25:54.669|\n",
      "|20230517042558970  |20230517042558970_0_999636|2000059           |                      |84afd4d0-aed4-4e04-9391-dbbc09be6f83-0_0-99-127_20230517042558970.parquet|ghaziabad  |J       |2000059|2023-05-17 04:25:54.669|\n",
      "|20230517042558970  |20230517042558970_0_999637|2000058           |                      |84afd4d0-aed4-4e04-9391-dbbc09be6f83-0_0-99-127_20230517042558970.parquet|ghaziabad  |I       |2000058|2023-05-17 04:25:54.669|\n",
      "|20230517042558970  |20230517042558970_0_999638|2000057           |                      |84afd4d0-aed4-4e04-9391-dbbc09be6f83-0_0-99-127_20230517042558970.parquet|ghaziabad  |H       |2000057|2023-05-17 04:25:54.669|\n",
      "|20230517042558970  |20230517042558970_0_999639|2000052           |                      |84afd4d0-aed4-4e04-9391-dbbc09be6f83-0_0-99-127_20230517042558970.parquet|ghaziabad  |C       |2000052|2023-05-17 04:25:54.669|\n",
      "|20230517042558970  |20230517042558970_0_999640|2000051           |                      |84afd4d0-aed4-4e04-9391-dbbc09be6f83-0_0-99-127_20230517042558970.parquet|ghaziabad  |B       |2000051|2023-05-17 04:25:54.669|\n",
      "|20230517042558970  |20230517042558970_0_999641|2000050           |                      |84afd4d0-aed4-4e04-9391-dbbc09be6f83-0_0-99-127_20230517042558970.parquet|ghaziabad  |A       |2000050|2023-05-17 04:25:54.669|\n",
      "|20230517042558970  |20230517042558970_0_999642|2000067           |                      |84afd4d0-aed4-4e04-9391-dbbc09be6f83-0_0-99-127_20230517042558970.parquet|ghaziabad  |H       |2000067|2023-05-17 04:25:54.669|\n",
      "|20230517042558970  |20230517042558970_0_999643|2000066           |                      |84afd4d0-aed4-4e04-9391-dbbc09be6f83-0_0-99-127_20230517042558970.parquet|ghaziabad  |G       |2000066|2023-05-17 04:25:54.669|\n",
      "|20230517042558970  |20230517042558970_0_999644|2000065           |                      |84afd4d0-aed4-4e04-9391-dbbc09be6f83-0_0-99-127_20230517042558970.parquet|ghaziabad  |F       |2000065|2023-05-17 04:25:54.669|\n",
      "|20230517042558970  |20230517042558970_0_999645|2000064           |                      |84afd4d0-aed4-4e04-9391-dbbc09be6f83-0_0-99-127_20230517042558970.parquet|ghaziabad  |E       |2000064|2023-05-17 04:25:54.669|\n",
      "|20230517042558970  |20230517042558970_0_999646|2000069           |                      |84afd4d0-aed4-4e04-9391-dbbc09be6f83-0_0-99-127_20230517042558970.parquet|ghaziabad  |J       |2000069|2023-05-17 04:25:54.669|\n",
      "|20230517042558970  |20230517042558970_0_999647|2000068           |                      |84afd4d0-aed4-4e04-9391-dbbc09be6f83-0_0-99-127_20230517042558970.parquet|ghaziabad  |I       |2000068|2023-05-17 04:25:54.669|\n",
      "|20230517042558970  |20230517042558970_0_999648|2000063           |                      |84afd4d0-aed4-4e04-9391-dbbc09be6f83-0_0-99-127_20230517042558970.parquet|ghaziabad  |D       |2000063|2023-05-17 04:25:54.669|\n",
      "|20230517042558970  |20230517042558970_0_999649|2000062           |                      |84afd4d0-aed4-4e04-9391-dbbc09be6f83-0_0-99-127_20230517042558970.parquet|ghaziabad  |C       |2000062|2023-05-17 04:25:54.669|\n",
      "|20230517042558970  |20230517042558970_0_999650|2000061           |                      |84afd4d0-aed4-4e04-9391-dbbc09be6f83-0_0-99-127_20230517042558970.parquet|ghaziabad  |B       |2000061|2023-05-17 04:25:54.669|\n",
      "|20230517042558970  |20230517042558970_0_999651|2000060           |                      |84afd4d0-aed4-4e04-9391-dbbc09be6f83-0_0-99-127_20230517042558970.parquet|ghaziabad  |A       |2000060|2023-05-17 04:25:54.669|\n",
      "+-------------------+--------------------------+------------------+----------------------+-------------------------------------------------------------------------+-----------+--------+-------+-----------------------+"
     ]
    }
   ],
   "source": [
    "df6_mor.filter(col(\"trip_id\").between(2000000,2000100)).show(100,False)"
   ]
  },
  {
   "cell_type": "code",
   "execution_count": 30,
   "id": "30df06ba",
   "metadata": {},
   "outputs": [
    {
     "data": {
      "application/vnd.jupyter.widget-view+json": {
       "model_id": "",
       "version_major": 2,
       "version_minor": 0
      },
      "text/plain": [
       "FloatProgress(value=0.0, bar_style='info', description='Progress:', layout=Layout(height='25px', width='50%'),…"
      ]
     },
     "metadata": {},
     "output_type": "display_data"
    }
   ],
   "source": [
    "# read RO file as dataframe\n",
    "# Read Optimized (RO) files: These files contain immutable data that is optimized for read-heavy workloads. \n",
    "# RO files are created as a result of compaction and contain a full snapshot of the data at the time of compaction. \n",
    "# RO files can be queried using standard SQL engines like Presto, Athena, and Spark SQL\n",
    "# When a read query is executed against a Hudi MOR table, both RO and RT files are scanned to retrieve the latest data.\n",
    "# RO files are used for historical data, while RT files are used for the latest changes\n",
    "\n",
    "ro_df = spark.read.format(\"org.apache.hudi\") \\\n",
    "    .option(\"hoodie.table.name\", \"hudi_mor_trips_table\") \\\n",
    "    .option(\"hoodie.datasource.read.storage.type\", \"RO\") \\\n",
    "    .load(config['target'] + \"/*\")"
   ]
  },
  {
   "cell_type": "code",
   "execution_count": 31,
   "id": "389eeecb",
   "metadata": {},
   "outputs": [
    {
     "data": {
      "application/vnd.jupyter.widget-view+json": {
       "model_id": "",
       "version_major": 2,
       "version_minor": 0
      },
      "text/plain": [
       "FloatProgress(value=0.0, bar_style='info', description='Progress:', layout=Layout(height='25px', width='50%'),…"
      ]
     },
     "metadata": {},
     "output_type": "display_data"
    },
    {
     "name": "stdout",
     "output_type": "stream",
     "text": [
      "+-------------------+----------------------+------------------+----------------------+-------------------------------------------------------------------------+-------------+--------+-------+-----------------------+\n",
      "|_hoodie_commit_time|_hoodie_commit_seqno  |_hoodie_record_key|_hoodie_partition_path|_hoodie_file_name                                                        |destination  |route_id|trip_id|ts                     |\n",
      "+-------------------+----------------------+------------------+----------------------+-------------------------------------------------------------------------+-------------+--------+-------+-----------------------+\n",
      "|20230517042030442  |20230517042030442_1_1 |1000448           |                      |84afd4d0-aed4-4e04-9391-dbbc09be6f83-0_0-99-127_20230517042558970.parquet|Miami        |I       |1000448|2023-05-17 04:19:52.063|\n",
      "|20230517042030442  |20230517042030442_1_3 |1000449           |                      |84afd4d0-aed4-4e04-9391-dbbc09be6f83-0_0-99-127_20230517042558970.parquet|San Francisco|J       |1000449|2023-05-17 04:19:52.063|\n",
      "|20230517042030442  |20230517042030442_1_6 |1000450           |                      |84afd4d0-aed4-4e04-9391-dbbc09be6f83-0_0-99-127_20230517042558970.parquet|Seattle      |A       |1000450|2023-05-17 04:19:52.063|\n",
      "|20230517042030442  |20230517042030442_1_8 |1000451           |                      |84afd4d0-aed4-4e04-9391-dbbc09be6f83-0_0-99-127_20230517042558970.parquet|New York     |B       |1000451|2023-05-17 04:19:52.063|\n",
      "|20230517042030442  |20230517042030442_1_10|1000452           |                      |84afd4d0-aed4-4e04-9391-dbbc09be6f83-0_0-99-127_20230517042558970.parquet|New Jersey   |C       |1000452|2023-05-17 04:19:52.063|\n",
      "|20230517042030442  |20230517042030442_1_11|1000453           |                      |84afd4d0-aed4-4e04-9391-dbbc09be6f83-0_0-99-127_20230517042558970.parquet|Los Angeles  |D       |1000453|2023-05-17 04:19:52.063|\n",
      "|20230517042030442  |20230517042030442_1_13|1000454           |                      |84afd4d0-aed4-4e04-9391-dbbc09be6f83-0_0-99-127_20230517042558970.parquet|Las Vegas    |E       |1000454|2023-05-17 04:19:52.063|\n",
      "|20230517042030442  |20230517042030442_1_14|1000455           |                      |84afd4d0-aed4-4e04-9391-dbbc09be6f83-0_0-99-127_20230517042558970.parquet|Tucson       |F       |1000455|2023-05-17 04:19:52.063|\n",
      "|20230517042030442  |20230517042030442_1_15|1000456           |                      |84afd4d0-aed4-4e04-9391-dbbc09be6f83-0_0-99-127_20230517042558970.parquet|Washington DC|G       |1000456|2023-05-17 04:19:52.063|\n",
      "|20230517042030442  |20230517042030442_1_16|1000457           |                      |84afd4d0-aed4-4e04-9391-dbbc09be6f83-0_0-99-127_20230517042558970.parquet|Philadelphia |H       |1000457|2023-05-17 04:19:52.063|\n",
      "|20230517042030442  |20230517042030442_1_17|1000458           |                      |84afd4d0-aed4-4e04-9391-dbbc09be6f83-0_0-99-127_20230517042558970.parquet|Miami        |I       |1000458|2023-05-17 04:19:52.063|\n",
      "|20230517042030442  |20230517042030442_1_18|1000459           |                      |84afd4d0-aed4-4e04-9391-dbbc09be6f83-0_0-99-127_20230517042558970.parquet|San Francisco|J       |1000459|2023-05-17 04:19:52.063|\n",
      "|20230517042030442  |20230517042030442_1_19|1000460           |                      |84afd4d0-aed4-4e04-9391-dbbc09be6f83-0_0-99-127_20230517042558970.parquet|Seattle      |A       |1000460|2023-05-17 04:19:52.063|\n",
      "|20230517042030442  |20230517042030442_1_20|1000461           |                      |84afd4d0-aed4-4e04-9391-dbbc09be6f83-0_0-99-127_20230517042558970.parquet|New York     |B       |1000461|2023-05-17 04:19:52.063|\n",
      "|20230517042030442  |20230517042030442_1_22|1000462           |                      |84afd4d0-aed4-4e04-9391-dbbc09be6f83-0_0-99-127_20230517042558970.parquet|New Jersey   |C       |1000462|2023-05-17 04:19:52.063|\n",
      "|20230517042030442  |20230517042030442_1_23|1000463           |                      |84afd4d0-aed4-4e04-9391-dbbc09be6f83-0_0-99-127_20230517042558970.parquet|Los Angeles  |D       |1000463|2023-05-17 04:19:52.063|\n",
      "|20230517042030442  |20230517042030442_1_24|1000464           |                      |84afd4d0-aed4-4e04-9391-dbbc09be6f83-0_0-99-127_20230517042558970.parquet|Las Vegas    |E       |1000464|2023-05-17 04:19:52.063|\n",
      "|20230517042030442  |20230517042030442_1_25|1000465           |                      |84afd4d0-aed4-4e04-9391-dbbc09be6f83-0_0-99-127_20230517042558970.parquet|Tucson       |F       |1000465|2023-05-17 04:19:52.063|\n",
      "|20230517042030442  |20230517042030442_1_26|1000466           |                      |84afd4d0-aed4-4e04-9391-dbbc09be6f83-0_0-99-127_20230517042558970.parquet|Washington DC|G       |1000466|2023-05-17 04:19:52.063|\n",
      "|20230517042030442  |20230517042030442_1_27|1000467           |                      |84afd4d0-aed4-4e04-9391-dbbc09be6f83-0_0-99-127_20230517042558970.parquet|Philadelphia |H       |1000467|2023-05-17 04:19:52.063|\n",
      "|20230517042030442  |20230517042030442_1_28|1000468           |                      |84afd4d0-aed4-4e04-9391-dbbc09be6f83-0_0-99-127_20230517042558970.parquet|Miami        |I       |1000468|2023-05-17 04:19:52.063|\n",
      "|20230517042030442  |20230517042030442_1_29|1000469           |                      |84afd4d0-aed4-4e04-9391-dbbc09be6f83-0_0-99-127_20230517042558970.parquet|San Francisco|J       |1000469|2023-05-17 04:19:52.063|\n",
      "|20230517042030442  |20230517042030442_1_30|1000470           |                      |84afd4d0-aed4-4e04-9391-dbbc09be6f83-0_0-99-127_20230517042558970.parquet|Seattle      |A       |1000470|2023-05-17 04:19:52.063|\n",
      "|20230517042030442  |20230517042030442_1_31|1000471           |                      |84afd4d0-aed4-4e04-9391-dbbc09be6f83-0_0-99-127_20230517042558970.parquet|New York     |B       |1000471|2023-05-17 04:19:52.063|\n",
      "|20230517042030442  |20230517042030442_1_32|1000472           |                      |84afd4d0-aed4-4e04-9391-dbbc09be6f83-0_0-99-127_20230517042558970.parquet|New Jersey   |C       |1000472|2023-05-17 04:19:52.063|\n",
      "|20230517042030442  |20230517042030442_1_33|1000473           |                      |84afd4d0-aed4-4e04-9391-dbbc09be6f83-0_0-99-127_20230517042558970.parquet|Los Angeles  |D       |1000473|2023-05-17 04:19:52.063|\n",
      "|20230517042030442  |20230517042030442_1_34|1000474           |                      |84afd4d0-aed4-4e04-9391-dbbc09be6f83-0_0-99-127_20230517042558970.parquet|Las Vegas    |E       |1000474|2023-05-17 04:19:52.063|\n",
      "|20230517042030442  |20230517042030442_1_35|1000475           |                      |84afd4d0-aed4-4e04-9391-dbbc09be6f83-0_0-99-127_20230517042558970.parquet|Tucson       |F       |1000475|2023-05-17 04:19:52.063|\n",
      "|20230517042030442  |20230517042030442_1_36|1000476           |                      |84afd4d0-aed4-4e04-9391-dbbc09be6f83-0_0-99-127_20230517042558970.parquet|Washington DC|G       |1000476|2023-05-17 04:19:52.063|\n",
      "|20230517042030442  |20230517042030442_1_37|1000477           |                      |84afd4d0-aed4-4e04-9391-dbbc09be6f83-0_0-99-127_20230517042558970.parquet|Philadelphia |H       |1000477|2023-05-17 04:19:52.063|\n",
      "|20230517042030442  |20230517042030442_1_38|1000478           |                      |84afd4d0-aed4-4e04-9391-dbbc09be6f83-0_0-99-127_20230517042558970.parquet|Miami        |I       |1000478|2023-05-17 04:19:52.063|\n",
      "|20230517042030442  |20230517042030442_1_40|1000479           |                      |84afd4d0-aed4-4e04-9391-dbbc09be6f83-0_0-99-127_20230517042558970.parquet|San Francisco|J       |1000479|2023-05-17 04:19:52.063|\n",
      "|20230517042030442  |20230517042030442_1_42|1000480           |                      |84afd4d0-aed4-4e04-9391-dbbc09be6f83-0_0-99-127_20230517042558970.parquet|Seattle      |A       |1000480|2023-05-17 04:19:52.063|\n",
      "|20230517042030442  |20230517042030442_1_44|1000481           |                      |84afd4d0-aed4-4e04-9391-dbbc09be6f83-0_0-99-127_20230517042558970.parquet|New York     |B       |1000481|2023-05-17 04:19:52.063|\n",
      "|20230517042030442  |20230517042030442_1_46|1000482           |                      |84afd4d0-aed4-4e04-9391-dbbc09be6f83-0_0-99-127_20230517042558970.parquet|New Jersey   |C       |1000482|2023-05-17 04:19:52.063|\n",
      "|20230517042030442  |20230517042030442_1_48|1000483           |                      |84afd4d0-aed4-4e04-9391-dbbc09be6f83-0_0-99-127_20230517042558970.parquet|Los Angeles  |D       |1000483|2023-05-17 04:19:52.063|\n",
      "|20230517042030442  |20230517042030442_1_50|1000484           |                      |84afd4d0-aed4-4e04-9391-dbbc09be6f83-0_0-99-127_20230517042558970.parquet|Las Vegas    |E       |1000484|2023-05-17 04:19:52.063|\n",
      "|20230517042030442  |20230517042030442_1_52|1000485           |                      |84afd4d0-aed4-4e04-9391-dbbc09be6f83-0_0-99-127_20230517042558970.parquet|Tucson       |F       |1000485|2023-05-17 04:19:52.063|\n",
      "|20230517042030442  |20230517042030442_1_54|1000486           |                      |84afd4d0-aed4-4e04-9391-dbbc09be6f83-0_0-99-127_20230517042558970.parquet|Washington DC|G       |1000486|2023-05-17 04:19:52.063|\n",
      "|20230517042030442  |20230517042030442_1_56|1000487           |                      |84afd4d0-aed4-4e04-9391-dbbc09be6f83-0_0-99-127_20230517042558970.parquet|Philadelphia |H       |1000487|2023-05-17 04:19:52.063|\n",
      "|20230517042030442  |20230517042030442_1_58|1000488           |                      |84afd4d0-aed4-4e04-9391-dbbc09be6f83-0_0-99-127_20230517042558970.parquet|Miami        |I       |1000488|2023-05-17 04:19:52.063|\n",
      "|20230517042030442  |20230517042030442_1_60|1000489           |                      |84afd4d0-aed4-4e04-9391-dbbc09be6f83-0_0-99-127_20230517042558970.parquet|San Francisco|J       |1000489|2023-05-17 04:19:52.063|\n",
      "|20230517042030442  |20230517042030442_1_62|1000490           |                      |84afd4d0-aed4-4e04-9391-dbbc09be6f83-0_0-99-127_20230517042558970.parquet|Seattle      |A       |1000490|2023-05-17 04:19:52.063|\n",
      "|20230517042030442  |20230517042030442_1_64|1000491           |                      |84afd4d0-aed4-4e04-9391-dbbc09be6f83-0_0-99-127_20230517042558970.parquet|New York     |B       |1000491|2023-05-17 04:19:52.063|\n",
      "|20230517042030442  |20230517042030442_1_66|1000492           |                      |84afd4d0-aed4-4e04-9391-dbbc09be6f83-0_0-99-127_20230517042558970.parquet|New Jersey   |C       |1000492|2023-05-17 04:19:52.063|\n",
      "|20230517042030442  |20230517042030442_1_68|1000493           |                      |84afd4d0-aed4-4e04-9391-dbbc09be6f83-0_0-99-127_20230517042558970.parquet|Los Angeles  |D       |1000493|2023-05-17 04:19:52.063|\n",
      "|20230517042030442  |20230517042030442_1_70|1000494           |                      |84afd4d0-aed4-4e04-9391-dbbc09be6f83-0_0-99-127_20230517042558970.parquet|Las Vegas    |E       |1000494|2023-05-17 04:19:52.063|\n",
      "|20230517042030442  |20230517042030442_1_72|1000495           |                      |84afd4d0-aed4-4e04-9391-dbbc09be6f83-0_0-99-127_20230517042558970.parquet|Tucson       |F       |1000495|2023-05-17 04:19:52.063|\n",
      "|20230517042030442  |20230517042030442_1_74|1000496           |                      |84afd4d0-aed4-4e04-9391-dbbc09be6f83-0_0-99-127_20230517042558970.parquet|Washington DC|G       |1000496|2023-05-17 04:19:52.063|\n",
      "|20230517042030442  |20230517042030442_1_76|1000497           |                      |84afd4d0-aed4-4e04-9391-dbbc09be6f83-0_0-99-127_20230517042558970.parquet|Philadelphia |H       |1000497|2023-05-17 04:19:52.063|\n",
      "+-------------------+----------------------+------------------+----------------------+-------------------------------------------------------------------------+-------------+--------+-------+-----------------------+\n",
      "only showing top 50 rows"
     ]
    }
   ],
   "source": [
    "ro_df.show(50,False)"
   ]
  },
  {
   "cell_type": "code",
   "execution_count": 32,
   "id": "0179991c",
   "metadata": {},
   "outputs": [
    {
     "data": {
      "application/vnd.jupyter.widget-view+json": {
       "model_id": "",
       "version_major": 2,
       "version_minor": 0
      },
      "text/plain": [
       "FloatProgress(value=0.0, bar_style='info', description='Progress:', layout=Layout(height='25px', width='50%'),…"
      ]
     },
     "metadata": {},
     "output_type": "display_data"
    }
   ],
   "source": [
    "# read RO file as dataframe\n",
    "# Realtime (RT) files: These files contain mutable data that is optimized for write-heavy workloads.\n",
    "# RT files are written as new data is ingested into the Hudi dataset. \n",
    "# RT files are small and efficient, allowing for fast writes.\n",
    "\n",
    "rt_df = spark.read.format(\"org.apache.hudi\") \\\n",
    "    .option(\"hoodie.table.name\", \"hudi_mor_trips_table\") \\\n",
    "    .option(\"hoodie.datasource.read.storage.type\", \"RT\") \\\n",
    "    .load(config['target'] + \"/*\")"
   ]
  },
  {
   "cell_type": "code",
   "execution_count": 33,
   "id": "adbe4019",
   "metadata": {},
   "outputs": [
    {
     "data": {
      "application/vnd.jupyter.widget-view+json": {
       "model_id": "",
       "version_major": 2,
       "version_minor": 0
      },
      "text/plain": [
       "FloatProgress(value=0.0, bar_style='info', description='Progress:', layout=Layout(height='25px', width='50%'),…"
      ]
     },
     "metadata": {},
     "output_type": "display_data"
    },
    {
     "name": "stdout",
     "output_type": "stream",
     "text": [
      "+-------------------+----------------------+------------------+----------------------+-------------------------------------------------------------------------+-------------+--------+-------+-----------------------+\n",
      "|_hoodie_commit_time|_hoodie_commit_seqno  |_hoodie_record_key|_hoodie_partition_path|_hoodie_file_name                                                        |destination  |route_id|trip_id|ts                     |\n",
      "+-------------------+----------------------+------------------+----------------------+-------------------------------------------------------------------------+-------------+--------+-------+-----------------------+\n",
      "|20230517042030442  |20230517042030442_1_1 |1000448           |                      |84afd4d0-aed4-4e04-9391-dbbc09be6f83-0_0-99-127_20230517042558970.parquet|Miami        |I       |1000448|2023-05-17 04:19:52.063|\n",
      "|20230517042030442  |20230517042030442_1_3 |1000449           |                      |84afd4d0-aed4-4e04-9391-dbbc09be6f83-0_0-99-127_20230517042558970.parquet|San Francisco|J       |1000449|2023-05-17 04:19:52.063|\n",
      "|20230517042030442  |20230517042030442_1_6 |1000450           |                      |84afd4d0-aed4-4e04-9391-dbbc09be6f83-0_0-99-127_20230517042558970.parquet|Seattle      |A       |1000450|2023-05-17 04:19:52.063|\n",
      "|20230517042030442  |20230517042030442_1_8 |1000451           |                      |84afd4d0-aed4-4e04-9391-dbbc09be6f83-0_0-99-127_20230517042558970.parquet|New York     |B       |1000451|2023-05-17 04:19:52.063|\n",
      "|20230517042030442  |20230517042030442_1_10|1000452           |                      |84afd4d0-aed4-4e04-9391-dbbc09be6f83-0_0-99-127_20230517042558970.parquet|New Jersey   |C       |1000452|2023-05-17 04:19:52.063|\n",
      "|20230517042030442  |20230517042030442_1_11|1000453           |                      |84afd4d0-aed4-4e04-9391-dbbc09be6f83-0_0-99-127_20230517042558970.parquet|Los Angeles  |D       |1000453|2023-05-17 04:19:52.063|\n",
      "|20230517042030442  |20230517042030442_1_13|1000454           |                      |84afd4d0-aed4-4e04-9391-dbbc09be6f83-0_0-99-127_20230517042558970.parquet|Las Vegas    |E       |1000454|2023-05-17 04:19:52.063|\n",
      "|20230517042030442  |20230517042030442_1_14|1000455           |                      |84afd4d0-aed4-4e04-9391-dbbc09be6f83-0_0-99-127_20230517042558970.parquet|Tucson       |F       |1000455|2023-05-17 04:19:52.063|\n",
      "|20230517042030442  |20230517042030442_1_15|1000456           |                      |84afd4d0-aed4-4e04-9391-dbbc09be6f83-0_0-99-127_20230517042558970.parquet|Washington DC|G       |1000456|2023-05-17 04:19:52.063|\n",
      "|20230517042030442  |20230517042030442_1_16|1000457           |                      |84afd4d0-aed4-4e04-9391-dbbc09be6f83-0_0-99-127_20230517042558970.parquet|Philadelphia |H       |1000457|2023-05-17 04:19:52.063|\n",
      "|20230517042030442  |20230517042030442_1_17|1000458           |                      |84afd4d0-aed4-4e04-9391-dbbc09be6f83-0_0-99-127_20230517042558970.parquet|Miami        |I       |1000458|2023-05-17 04:19:52.063|\n",
      "|20230517042030442  |20230517042030442_1_18|1000459           |                      |84afd4d0-aed4-4e04-9391-dbbc09be6f83-0_0-99-127_20230517042558970.parquet|San Francisco|J       |1000459|2023-05-17 04:19:52.063|\n",
      "|20230517042030442  |20230517042030442_1_19|1000460           |                      |84afd4d0-aed4-4e04-9391-dbbc09be6f83-0_0-99-127_20230517042558970.parquet|Seattle      |A       |1000460|2023-05-17 04:19:52.063|\n",
      "|20230517042030442  |20230517042030442_1_20|1000461           |                      |84afd4d0-aed4-4e04-9391-dbbc09be6f83-0_0-99-127_20230517042558970.parquet|New York     |B       |1000461|2023-05-17 04:19:52.063|\n",
      "|20230517042030442  |20230517042030442_1_22|1000462           |                      |84afd4d0-aed4-4e04-9391-dbbc09be6f83-0_0-99-127_20230517042558970.parquet|New Jersey   |C       |1000462|2023-05-17 04:19:52.063|\n",
      "|20230517042030442  |20230517042030442_1_23|1000463           |                      |84afd4d0-aed4-4e04-9391-dbbc09be6f83-0_0-99-127_20230517042558970.parquet|Los Angeles  |D       |1000463|2023-05-17 04:19:52.063|\n",
      "|20230517042030442  |20230517042030442_1_24|1000464           |                      |84afd4d0-aed4-4e04-9391-dbbc09be6f83-0_0-99-127_20230517042558970.parquet|Las Vegas    |E       |1000464|2023-05-17 04:19:52.063|\n",
      "|20230517042030442  |20230517042030442_1_25|1000465           |                      |84afd4d0-aed4-4e04-9391-dbbc09be6f83-0_0-99-127_20230517042558970.parquet|Tucson       |F       |1000465|2023-05-17 04:19:52.063|\n",
      "|20230517042030442  |20230517042030442_1_26|1000466           |                      |84afd4d0-aed4-4e04-9391-dbbc09be6f83-0_0-99-127_20230517042558970.parquet|Washington DC|G       |1000466|2023-05-17 04:19:52.063|\n",
      "|20230517042030442  |20230517042030442_1_27|1000467           |                      |84afd4d0-aed4-4e04-9391-dbbc09be6f83-0_0-99-127_20230517042558970.parquet|Philadelphia |H       |1000467|2023-05-17 04:19:52.063|\n",
      "|20230517042030442  |20230517042030442_1_28|1000468           |                      |84afd4d0-aed4-4e04-9391-dbbc09be6f83-0_0-99-127_20230517042558970.parquet|Miami        |I       |1000468|2023-05-17 04:19:52.063|\n",
      "|20230517042030442  |20230517042030442_1_29|1000469           |                      |84afd4d0-aed4-4e04-9391-dbbc09be6f83-0_0-99-127_20230517042558970.parquet|San Francisco|J       |1000469|2023-05-17 04:19:52.063|\n",
      "|20230517042030442  |20230517042030442_1_30|1000470           |                      |84afd4d0-aed4-4e04-9391-dbbc09be6f83-0_0-99-127_20230517042558970.parquet|Seattle      |A       |1000470|2023-05-17 04:19:52.063|\n",
      "|20230517042030442  |20230517042030442_1_31|1000471           |                      |84afd4d0-aed4-4e04-9391-dbbc09be6f83-0_0-99-127_20230517042558970.parquet|New York     |B       |1000471|2023-05-17 04:19:52.063|\n",
      "|20230517042030442  |20230517042030442_1_32|1000472           |                      |84afd4d0-aed4-4e04-9391-dbbc09be6f83-0_0-99-127_20230517042558970.parquet|New Jersey   |C       |1000472|2023-05-17 04:19:52.063|\n",
      "|20230517042030442  |20230517042030442_1_33|1000473           |                      |84afd4d0-aed4-4e04-9391-dbbc09be6f83-0_0-99-127_20230517042558970.parquet|Los Angeles  |D       |1000473|2023-05-17 04:19:52.063|\n",
      "|20230517042030442  |20230517042030442_1_34|1000474           |                      |84afd4d0-aed4-4e04-9391-dbbc09be6f83-0_0-99-127_20230517042558970.parquet|Las Vegas    |E       |1000474|2023-05-17 04:19:52.063|\n",
      "|20230517042030442  |20230517042030442_1_35|1000475           |                      |84afd4d0-aed4-4e04-9391-dbbc09be6f83-0_0-99-127_20230517042558970.parquet|Tucson       |F       |1000475|2023-05-17 04:19:52.063|\n",
      "|20230517042030442  |20230517042030442_1_36|1000476           |                      |84afd4d0-aed4-4e04-9391-dbbc09be6f83-0_0-99-127_20230517042558970.parquet|Washington DC|G       |1000476|2023-05-17 04:19:52.063|\n",
      "|20230517042030442  |20230517042030442_1_37|1000477           |                      |84afd4d0-aed4-4e04-9391-dbbc09be6f83-0_0-99-127_20230517042558970.parquet|Philadelphia |H       |1000477|2023-05-17 04:19:52.063|\n",
      "|20230517042030442  |20230517042030442_1_38|1000478           |                      |84afd4d0-aed4-4e04-9391-dbbc09be6f83-0_0-99-127_20230517042558970.parquet|Miami        |I       |1000478|2023-05-17 04:19:52.063|\n",
      "|20230517042030442  |20230517042030442_1_40|1000479           |                      |84afd4d0-aed4-4e04-9391-dbbc09be6f83-0_0-99-127_20230517042558970.parquet|San Francisco|J       |1000479|2023-05-17 04:19:52.063|\n",
      "|20230517042030442  |20230517042030442_1_42|1000480           |                      |84afd4d0-aed4-4e04-9391-dbbc09be6f83-0_0-99-127_20230517042558970.parquet|Seattle      |A       |1000480|2023-05-17 04:19:52.063|\n",
      "|20230517042030442  |20230517042030442_1_44|1000481           |                      |84afd4d0-aed4-4e04-9391-dbbc09be6f83-0_0-99-127_20230517042558970.parquet|New York     |B       |1000481|2023-05-17 04:19:52.063|\n",
      "|20230517042030442  |20230517042030442_1_46|1000482           |                      |84afd4d0-aed4-4e04-9391-dbbc09be6f83-0_0-99-127_20230517042558970.parquet|New Jersey   |C       |1000482|2023-05-17 04:19:52.063|\n",
      "|20230517042030442  |20230517042030442_1_48|1000483           |                      |84afd4d0-aed4-4e04-9391-dbbc09be6f83-0_0-99-127_20230517042558970.parquet|Los Angeles  |D       |1000483|2023-05-17 04:19:52.063|\n",
      "|20230517042030442  |20230517042030442_1_50|1000484           |                      |84afd4d0-aed4-4e04-9391-dbbc09be6f83-0_0-99-127_20230517042558970.parquet|Las Vegas    |E       |1000484|2023-05-17 04:19:52.063|\n",
      "|20230517042030442  |20230517042030442_1_52|1000485           |                      |84afd4d0-aed4-4e04-9391-dbbc09be6f83-0_0-99-127_20230517042558970.parquet|Tucson       |F       |1000485|2023-05-17 04:19:52.063|\n",
      "|20230517042030442  |20230517042030442_1_54|1000486           |                      |84afd4d0-aed4-4e04-9391-dbbc09be6f83-0_0-99-127_20230517042558970.parquet|Washington DC|G       |1000486|2023-05-17 04:19:52.063|\n",
      "|20230517042030442  |20230517042030442_1_56|1000487           |                      |84afd4d0-aed4-4e04-9391-dbbc09be6f83-0_0-99-127_20230517042558970.parquet|Philadelphia |H       |1000487|2023-05-17 04:19:52.063|\n",
      "|20230517042030442  |20230517042030442_1_58|1000488           |                      |84afd4d0-aed4-4e04-9391-dbbc09be6f83-0_0-99-127_20230517042558970.parquet|Miami        |I       |1000488|2023-05-17 04:19:52.063|\n",
      "|20230517042030442  |20230517042030442_1_60|1000489           |                      |84afd4d0-aed4-4e04-9391-dbbc09be6f83-0_0-99-127_20230517042558970.parquet|San Francisco|J       |1000489|2023-05-17 04:19:52.063|\n",
      "|20230517042030442  |20230517042030442_1_62|1000490           |                      |84afd4d0-aed4-4e04-9391-dbbc09be6f83-0_0-99-127_20230517042558970.parquet|Seattle      |A       |1000490|2023-05-17 04:19:52.063|\n",
      "|20230517042030442  |20230517042030442_1_64|1000491           |                      |84afd4d0-aed4-4e04-9391-dbbc09be6f83-0_0-99-127_20230517042558970.parquet|New York     |B       |1000491|2023-05-17 04:19:52.063|\n",
      "|20230517042030442  |20230517042030442_1_66|1000492           |                      |84afd4d0-aed4-4e04-9391-dbbc09be6f83-0_0-99-127_20230517042558970.parquet|New Jersey   |C       |1000492|2023-05-17 04:19:52.063|\n",
      "|20230517042030442  |20230517042030442_1_68|1000493           |                      |84afd4d0-aed4-4e04-9391-dbbc09be6f83-0_0-99-127_20230517042558970.parquet|Los Angeles  |D       |1000493|2023-05-17 04:19:52.063|\n",
      "|20230517042030442  |20230517042030442_1_70|1000494           |                      |84afd4d0-aed4-4e04-9391-dbbc09be6f83-0_0-99-127_20230517042558970.parquet|Las Vegas    |E       |1000494|2023-05-17 04:19:52.063|\n",
      "|20230517042030442  |20230517042030442_1_72|1000495           |                      |84afd4d0-aed4-4e04-9391-dbbc09be6f83-0_0-99-127_20230517042558970.parquet|Tucson       |F       |1000495|2023-05-17 04:19:52.063|\n",
      "|20230517042030442  |20230517042030442_1_74|1000496           |                      |84afd4d0-aed4-4e04-9391-dbbc09be6f83-0_0-99-127_20230517042558970.parquet|Washington DC|G       |1000496|2023-05-17 04:19:52.063|\n",
      "|20230517042030442  |20230517042030442_1_76|1000497           |                      |84afd4d0-aed4-4e04-9391-dbbc09be6f83-0_0-99-127_20230517042558970.parquet|Philadelphia |H       |1000497|2023-05-17 04:19:52.063|\n",
      "+-------------------+----------------------+------------------+----------------------+-------------------------------------------------------------------------+-------------+--------+-------+-----------------------+\n",
      "only showing top 50 rows"
     ]
    }
   ],
   "source": [
    "rt_df.show(50,False)"
   ]
  },
  {
   "cell_type": "code",
   "execution_count": 34,
   "id": "b6f5b856",
   "metadata": {},
   "outputs": [
    {
     "data": {
      "application/vnd.jupyter.widget-view+json": {
       "model_id": "",
       "version_major": 2,
       "version_minor": 0
      },
      "text/plain": [
       "FloatProgress(value=0.0, bar_style='info', description='Progress:', layout=Layout(height='25px', width='50%'),…"
      ]
     },
     "metadata": {},
     "output_type": "display_data"
    }
   ],
   "source": [
    "# check if the two dataframes are the same\n",
    "diff_df = ro_df.exceptAll(rt_df)"
   ]
  },
  {
   "cell_type": "code",
   "execution_count": 35,
   "id": "ebe335ef",
   "metadata": {},
   "outputs": [
    {
     "data": {
      "application/vnd.jupyter.widget-view+json": {
       "model_id": "",
       "version_major": 2,
       "version_minor": 0
      },
      "text/plain": [
       "FloatProgress(value=0.0, bar_style='info', description='Progress:', layout=Layout(height='25px', width='50%'),…"
      ]
     },
     "metadata": {},
     "output_type": "display_data"
    },
    {
     "name": "stdout",
     "output_type": "stream",
     "text": [
      "+-------------------+--------------------+------------------+----------------------+-----------------+-----------+--------+-------+---+\n",
      "|_hoodie_commit_time|_hoodie_commit_seqno|_hoodie_record_key|_hoodie_partition_path|_hoodie_file_name|destination|route_id|trip_id| ts|\n",
      "+-------------------+--------------------+------------------+----------------------+-----------------+-----------+--------+-------+---+\n",
      "+-------------------+--------------------+------------------+----------------------+-----------------+-----------+--------+-------+---+"
     ]
    }
   ],
   "source": [
    "diff_df.show()"
   ]
  },
  {
   "cell_type": "code",
   "execution_count": 36,
   "id": "9d36f058",
   "metadata": {},
   "outputs": [
    {
     "data": {
      "application/vnd.jupyter.widget-view+json": {
       "model_id": "",
       "version_major": 2,
       "version_minor": 0
      },
      "text/plain": [
       "FloatProgress(value=0.0, bar_style='info', description='Progress:', layout=Layout(height='25px', width='50%'),…"
      ]
     },
     "metadata": {},
     "output_type": "display_data"
    },
    {
     "name": "stdout",
     "output_type": "stream",
     "text": [
      "+-----------------+\n",
      "|commit_time      |\n",
      "+-----------------+\n",
      "|20230517042030442|\n",
      "|20230517042558970|\n",
      "+-----------------+"
     ]
    }
   ],
   "source": [
    "spark.sql(\"select distinct (_hoodie_commit_time) as commit_time from \" + config['table_name'] + \"_ro\").show(20,False)"
   ]
  },
  {
   "cell_type": "code",
   "execution_count": 37,
   "id": "4b44add7",
   "metadata": {},
   "outputs": [
    {
     "data": {
      "application/vnd.jupyter.widget-view+json": {
       "model_id": "",
       "version_major": 2,
       "version_minor": 0
      },
      "text/plain": [
       "FloatProgress(value=0.0, bar_style='info', description='Progress:', layout=Layout(height='25px', width='50%'),…"
      ]
     },
     "metadata": {},
     "output_type": "display_data"
    },
    {
     "name": "stdout",
     "output_type": "stream",
     "text": [
      "+-----------------+\n",
      "|commit_time      |\n",
      "+-----------------+\n",
      "|20230517042558970|\n",
      "|20230517042222304|\n",
      "|20230517042030442|\n",
      "+-----------------+"
     ]
    }
   ],
   "source": [
    "spark.sql(\"select distinct (_hoodie_commit_time) as commit_time from \" + config['table_name'] + \"_rt\" + \" order by commit_time desc\").show(20,False)"
   ]
  },
  {
   "cell_type": "code",
   "execution_count": 38,
   "id": "3bc73c5d",
   "metadata": {},
   "outputs": [
    {
     "data": {
      "application/vnd.jupyter.widget-view+json": {
       "model_id": "",
       "version_major": 2,
       "version_minor": 0
      },
      "text/plain": [
       "FloatProgress(value=0.0, bar_style='info', description='Progress:', layout=Layout(height='25px', width='50%'),…"
      ]
     },
     "metadata": {},
     "output_type": "display_data"
    }
   ],
   "source": [
    "# Time travel in MOR  \n",
    "# Selecting the particular commit  in case of both ro & rt\n",
    "commit_ro=spark.sql(\"select distinct (_hoodie_commit_time) as commit_time from \" + config['table_name'] + \"_ro\" + \" order by commit_time desc\").collect()\n",
    "commit_rt=spark.sql(\"select distinct (_hoodie_commit_time) as commit_time from \" + config['table_name'] + \"_rt\" + \" order by commit_time desc\").collect()\n"
   ]
  },
  {
   "cell_type": "code",
   "execution_count": 44,
   "id": "768d7b00",
   "metadata": {},
   "outputs": [
    {
     "data": {
      "application/vnd.jupyter.widget-view+json": {
       "model_id": "",
       "version_major": 2,
       "version_minor": 0
      },
      "text/plain": [
       "FloatProgress(value=0.0, bar_style='info', description='Progress:', layout=Layout(height='25px', width='50%'),…"
      ]
     },
     "metadata": {},
     "output_type": "display_data"
    }
   ],
   "source": [
    "# selecting the particular commit  for which we want to rollback\n",
    "commit_time_ro=commit_ro[0] #previous commit \n",
    "commit_time_rt=commit_ro[0] # previous commit"
   ]
  },
  {
   "cell_type": "code",
   "execution_count": 49,
   "id": "baabce48",
   "metadata": {},
   "outputs": [
    {
     "data": {
      "application/vnd.jupyter.widget-view+json": {
       "model_id": "",
       "version_major": 2,
       "version_minor": 0
      },
      "text/plain": [
       "FloatProgress(value=0.0, bar_style='info', description='Progress:', layout=Layout(height='25px', width='50%'),…"
      ]
     },
     "metadata": {},
     "output_type": "display_data"
    }
   ],
   "source": [
    "ro_df_filtered_commit=ro_df.filter(f\"_hoodie_commit_time < 20230517042558970 \") "
   ]
  },
  {
   "cell_type": "code",
   "execution_count": 50,
   "id": "e1991603",
   "metadata": {},
   "outputs": [
    {
     "data": {
      "application/vnd.jupyter.widget-view+json": {
       "model_id": "",
       "version_major": 2,
       "version_minor": 0
      },
      "text/plain": [
       "FloatProgress(value=0.0, bar_style='info', description='Progress:', layout=Layout(height='25px', width='50%'),…"
      ]
     },
     "metadata": {},
     "output_type": "display_data"
    },
    {
     "name": "stdout",
     "output_type": "stream",
     "text": [
      "+-------------------+----------------------+------------------+----------------------+-------------------------------------------------------------------------+-------------+--------+-------+-----------------------+\n",
      "|_hoodie_commit_time|_hoodie_commit_seqno  |_hoodie_record_key|_hoodie_partition_path|_hoodie_file_name                                                        |destination  |route_id|trip_id|ts                     |\n",
      "+-------------------+----------------------+------------------+----------------------+-------------------------------------------------------------------------+-------------+--------+-------+-----------------------+\n",
      "|20230517042030442  |20230517042030442_1_1 |1000448           |                      |84afd4d0-aed4-4e04-9391-dbbc09be6f83-0_0-99-127_20230517042558970.parquet|Miami        |I       |1000448|2023-05-17 04:19:52.063|\n",
      "|20230517042030442  |20230517042030442_1_3 |1000449           |                      |84afd4d0-aed4-4e04-9391-dbbc09be6f83-0_0-99-127_20230517042558970.parquet|San Francisco|J       |1000449|2023-05-17 04:19:52.063|\n",
      "|20230517042030442  |20230517042030442_1_6 |1000450           |                      |84afd4d0-aed4-4e04-9391-dbbc09be6f83-0_0-99-127_20230517042558970.parquet|Seattle      |A       |1000450|2023-05-17 04:19:52.063|\n",
      "|20230517042030442  |20230517042030442_1_8 |1000451           |                      |84afd4d0-aed4-4e04-9391-dbbc09be6f83-0_0-99-127_20230517042558970.parquet|New York     |B       |1000451|2023-05-17 04:19:52.063|\n",
      "|20230517042030442  |20230517042030442_1_10|1000452           |                      |84afd4d0-aed4-4e04-9391-dbbc09be6f83-0_0-99-127_20230517042558970.parquet|New Jersey   |C       |1000452|2023-05-17 04:19:52.063|\n",
      "|20230517042030442  |20230517042030442_1_11|1000453           |                      |84afd4d0-aed4-4e04-9391-dbbc09be6f83-0_0-99-127_20230517042558970.parquet|Los Angeles  |D       |1000453|2023-05-17 04:19:52.063|\n",
      "|20230517042030442  |20230517042030442_1_13|1000454           |                      |84afd4d0-aed4-4e04-9391-dbbc09be6f83-0_0-99-127_20230517042558970.parquet|Las Vegas    |E       |1000454|2023-05-17 04:19:52.063|\n",
      "|20230517042030442  |20230517042030442_1_14|1000455           |                      |84afd4d0-aed4-4e04-9391-dbbc09be6f83-0_0-99-127_20230517042558970.parquet|Tucson       |F       |1000455|2023-05-17 04:19:52.063|\n",
      "|20230517042030442  |20230517042030442_1_15|1000456           |                      |84afd4d0-aed4-4e04-9391-dbbc09be6f83-0_0-99-127_20230517042558970.parquet|Washington DC|G       |1000456|2023-05-17 04:19:52.063|\n",
      "|20230517042030442  |20230517042030442_1_16|1000457           |                      |84afd4d0-aed4-4e04-9391-dbbc09be6f83-0_0-99-127_20230517042558970.parquet|Philadelphia |H       |1000457|2023-05-17 04:19:52.063|\n",
      "|20230517042030442  |20230517042030442_1_17|1000458           |                      |84afd4d0-aed4-4e04-9391-dbbc09be6f83-0_0-99-127_20230517042558970.parquet|Miami        |I       |1000458|2023-05-17 04:19:52.063|\n",
      "|20230517042030442  |20230517042030442_1_18|1000459           |                      |84afd4d0-aed4-4e04-9391-dbbc09be6f83-0_0-99-127_20230517042558970.parquet|San Francisco|J       |1000459|2023-05-17 04:19:52.063|\n",
      "|20230517042030442  |20230517042030442_1_19|1000460           |                      |84afd4d0-aed4-4e04-9391-dbbc09be6f83-0_0-99-127_20230517042558970.parquet|Seattle      |A       |1000460|2023-05-17 04:19:52.063|\n",
      "|20230517042030442  |20230517042030442_1_20|1000461           |                      |84afd4d0-aed4-4e04-9391-dbbc09be6f83-0_0-99-127_20230517042558970.parquet|New York     |B       |1000461|2023-05-17 04:19:52.063|\n",
      "|20230517042030442  |20230517042030442_1_22|1000462           |                      |84afd4d0-aed4-4e04-9391-dbbc09be6f83-0_0-99-127_20230517042558970.parquet|New Jersey   |C       |1000462|2023-05-17 04:19:52.063|\n",
      "|20230517042030442  |20230517042030442_1_23|1000463           |                      |84afd4d0-aed4-4e04-9391-dbbc09be6f83-0_0-99-127_20230517042558970.parquet|Los Angeles  |D       |1000463|2023-05-17 04:19:52.063|\n",
      "|20230517042030442  |20230517042030442_1_24|1000464           |                      |84afd4d0-aed4-4e04-9391-dbbc09be6f83-0_0-99-127_20230517042558970.parquet|Las Vegas    |E       |1000464|2023-05-17 04:19:52.063|\n",
      "|20230517042030442  |20230517042030442_1_25|1000465           |                      |84afd4d0-aed4-4e04-9391-dbbc09be6f83-0_0-99-127_20230517042558970.parquet|Tucson       |F       |1000465|2023-05-17 04:19:52.063|\n",
      "|20230517042030442  |20230517042030442_1_26|1000466           |                      |84afd4d0-aed4-4e04-9391-dbbc09be6f83-0_0-99-127_20230517042558970.parquet|Washington DC|G       |1000466|2023-05-17 04:19:52.063|\n",
      "|20230517042030442  |20230517042030442_1_27|1000467           |                      |84afd4d0-aed4-4e04-9391-dbbc09be6f83-0_0-99-127_20230517042558970.parquet|Philadelphia |H       |1000467|2023-05-17 04:19:52.063|\n",
      "+-------------------+----------------------+------------------+----------------------+-------------------------------------------------------------------------+-------------+--------+-------+-----------------------+\n",
      "only showing top 20 rows"
     ]
    }
   ],
   "source": [
    "ro_df_filtered_commit.show(20,False)"
   ]
  },
  {
   "cell_type": "code",
   "execution_count": 51,
   "id": "ce59d90f",
   "metadata": {},
   "outputs": [
    {
     "data": {
      "application/vnd.jupyter.widget-view+json": {
       "model_id": "",
       "version_major": 2,
       "version_minor": 0
      },
      "text/plain": [
       "FloatProgress(value=0.0, bar_style='info', description='Progress:', layout=Layout(height='25px', width='50%'),…"
      ]
     },
     "metadata": {},
     "output_type": "display_data"
    }
   ],
   "source": [
    "rt_df_filtered_commit=rt_df.filter(f\"_hoodie_commit_time < 20230517042558970 \") "
   ]
  },
  {
   "cell_type": "code",
   "execution_count": 55,
   "id": "9c35c1d7",
   "metadata": {},
   "outputs": [
    {
     "data": {
      "application/vnd.jupyter.widget-view+json": {
       "model_id": "",
       "version_major": 2,
       "version_minor": 0
      },
      "text/plain": [
       "FloatProgress(value=0.0, bar_style='info', description='Progress:', layout=Layout(height='25px', width='50%'),…"
      ]
     },
     "metadata": {},
     "output_type": "display_data"
    },
    {
     "name": "stdout",
     "output_type": "stream",
     "text": [
      "+-------------------+\n",
      "|_hoodie_commit_time|\n",
      "+-------------------+\n",
      "|  20230517042030442|\n",
      "|  20230517042222304|\n",
      "+-------------------+"
     ]
    }
   ],
   "source": [
    "rt_df_filtered_commit.select(col('_hoodie_commit_time')).distinct().show()"
   ]
  },
  {
   "cell_type": "code",
   "execution_count": 59,
   "id": "f77f6ef1",
   "metadata": {},
   "outputs": [
    {
     "data": {
      "application/vnd.jupyter.widget-view+json": {
       "model_id": "",
       "version_major": 2,
       "version_minor": 0
      },
      "text/plain": [
       "FloatProgress(value=0.0, bar_style='info', description='Progress:', layout=Layout(height='25px', width='50%'),…"
      ]
     },
     "metadata": {},
     "output_type": "display_data"
    },
    {
     "name": "stdout",
     "output_type": "stream",
     "text": [
      "2"
     ]
    }
   ],
   "source": [
    "rt_df_filtered_commit.select(col('_hoodie_commit_time')).distinct().count()"
   ]
  },
  {
   "cell_type": "code",
   "execution_count": 46,
   "id": "41a85420",
   "metadata": {},
   "outputs": [
    {
     "data": {
      "application/vnd.jupyter.widget-view+json": {
       "model_id": "",
       "version_major": 2,
       "version_minor": 0
      },
      "text/plain": [
       "FloatProgress(value=0.0, bar_style='info', description='Progress:', layout=Layout(height='25px', width='50%'),…"
      ]
     },
     "metadata": {},
     "output_type": "display_data"
    },
    {
     "name": "stdout",
     "output_type": "stream",
     "text": [
      "Row(commit_time='20230517042558970')"
     ]
    }
   ],
   "source": [
    "commit_ro[0]"
   ]
  },
  {
   "cell_type": "code",
   "execution_count": 41,
   "id": "63d9050f",
   "metadata": {},
   "outputs": [
    {
     "data": {
      "application/vnd.jupyter.widget-view+json": {
       "model_id": "",
       "version_major": 2,
       "version_minor": 0
      },
      "text/plain": [
       "FloatProgress(value=0.0, bar_style='info', description='Progress:', layout=Layout(height='25px', width='50%'),…"
      ]
     },
     "metadata": {},
     "output_type": "display_data"
    },
    {
     "name": "stdout",
     "output_type": "stream",
     "text": [
      "Row(commit_time='20230517042222304')"
     ]
    }
   ],
   "source": [
    "commit_rt[-2]"
   ]
  },
  {
   "cell_type": "code",
   "execution_count": null,
   "id": "8649b690",
   "metadata": {},
   "outputs": [],
   "source": [
    "df7_mor=df6_mor.filter(col(\"trip_id\").between(2000050,2000100))\n",
    "(df7_mor.write.format(HUDI_FORMAT)\n",
    "      .option(PRECOMBINE_FIELD_OPT_KEY,config[\"sort_key\"])\n",
    "      .option(RECORDKEY_FIELD_OPT_KEY, config[\"primary_key\"])\n",
    "      .option(TABLE_NAME, config['table_name'])\n",
    "      .option(OPERATION_OPT_KEY, BULK_INSERT_OPERATION_OPT_VAL)\n",
    "      .option(BULK_INSERT_PARALLELISM, 3)\n",
    "      .option(S3_CONSISTENCY_CHECK, \"true\")\n",
    "      .option(HIVE_TABLE_OPT_KEY,config['table_name'])\n",
    "      .option(HIVE_SYNC_ENABLED_OPT_KEY,\"true\")\n",
    "      .option(HIVE_PARTITION_EXTRACTOR_CLASS_OPT_KEY,NONPARTITION_EXTRACTOR_CLASS_OPT_VAL)\n",
    "      .option(KEYGENERATOR_CLASS_OPT_KEY,NONPARTITIONED_KEYGENERATOR_CLASS_OPT_VAL)\n",
    "      .option(STORAGE_TYPE_OPT_KEY,\"MERGE_ON_READ\")\n",
    "      .option(COMPACTION_INLINE_OPT_KEY,\"false\")\n",
    "      .option(COMPACTION_MAX_DELTA_COMMITS_OPT_KEY,\"20\")\n",
    "      .option(PAYLOAD_CLASS_OPT_KEY,EMPTY_PAYLOAD_CLASS_OPT_VAL)  # deleting the record\n",
    "      .mode(\"Append\")\n",
    "      .save(config['target'])\n",
    ")"
   ]
  },
  {
   "cell_type": "code",
   "execution_count": null,
   "id": "379146a5",
   "metadata": {},
   "outputs": [],
   "source": []
  },
  {
   "cell_type": "code",
   "execution_count": null,
   "id": "4b6cdabd",
   "metadata": {},
   "outputs": [],
   "source": []
  },
  {
   "cell_type": "code",
   "execution_count": null,
   "id": "66319472",
   "metadata": {},
   "outputs": [],
   "source": []
  },
  {
   "cell_type": "code",
   "execution_count": null,
   "id": "b402e4a0",
   "metadata": {},
   "outputs": [],
   "source": []
  },
  {
   "cell_type": "markdown",
   "id": "17bba75f",
   "metadata": {},
   "source": [
    "#### Time travel \n",
    "Used to query previous commit with incremental and point in time queries \n",
    "This previous commit can be used for incremental queries \n"
   ]
  },
  {
   "cell_type": "code",
   "execution_count": null,
   "id": "3f03b069",
   "metadata": {},
   "outputs": [],
   "source": [
    "commits=spark.sql(\"select distinct(_hoodie_commit_time)  from hudi_trips_table order by _hoodie_commit_time\").collect()\n",
    "print(\"commits: \")\n",
    "for i in commits:\n",
    "    print(i)"
   ]
  },
  {
   "cell_type": "code",
   "execution_count": null,
   "id": "332719eb",
   "metadata": {},
   "outputs": [],
   "source": [
    "commits[-3]"
   ]
  },
  {
   "cell_type": "code",
   "execution_count": null,
   "id": "eec1ca0a",
   "metadata": {},
   "outputs": [],
   "source": [
    "# incrementally query data\n",
    "beginTime=commits[-3]\n",
    "incViewDF = spark.read.format(HUDI_FORMAT) \\\n",
    "                   .option(VIEW_TYPE_OPT_KEY, VIEW_TYPE_INCREMENTAL_OPT_VAL) \\\n",
    "                   .option(BEGIN_INSTANTTIME_OPT_KEY, beginTime) \\\n",
    "                   .load(config[\"target\"]+) "
   ]
  },
  {
   "cell_type": "code",
   "execution_count": null,
   "id": "bd3b4a5a",
   "metadata": {},
   "outputs": [],
   "source": []
  },
  {
   "cell_type": "code",
   "execution_count": null,
   "id": "85e7746e",
   "metadata": {},
   "outputs": [],
   "source": [
    "# Load Data\n",
    "df8=spark.read.format(HUDI_FORMAT).load(config[\"target\"]+\"/*\")"
   ]
  },
  {
   "cell_type": "code",
   "execution_count": null,
   "id": "3dbb0e31",
   "metadata": {},
   "outputs": [],
   "source": [
    "df8.count()"
   ]
  },
  {
   "cell_type": "code",
   "execution_count": null,
   "id": "ae0ccfbd",
   "metadata": {},
   "outputs": [],
   "source": [
    "df8.show()"
   ]
  },
  {
   "cell_type": "code",
   "execution_count": null,
   "id": "11ca25bb",
   "metadata": {},
   "outputs": [],
   "source": []
  }
 ],
 "metadata": {
  "kernelspec": {
   "display_name": "PySpark",
   "language": "python",
   "name": "pysparkkernel"
  },
  "language_info": {
   "codemirror_mode": {
    "name": "python",
    "version": 3
   },
   "file_extension": ".py",
   "mimetype": "text/x-python",
   "name": "pyspark",
   "pygments_lexer": "python3"
  }
 },
 "nbformat": 4,
 "nbformat_minor": 5
}
